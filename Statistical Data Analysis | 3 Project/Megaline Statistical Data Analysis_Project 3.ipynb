{
 "cells": [
  {
   "cell_type": "markdown",
   "metadata": {},
   "source": [
    "# Description of the project & data \n",
    "# Which one is a better plan?\n",
    "\n",
    "The analyst for the telecom operator Megaline. The company offers its clients two prepaid plans, Surf and Ultimate. The commercial department wants to know which of the plans brings in more revenue in order to adjust the advertising budget.\n",
    "\n",
    "We are going to carry out a preliminary analysis of the plans based on a relatively small client selection. We'll have the data on 500 Megaline clients: who the clients are, where they're from, which plan they use, and the number of calls they made and text messages they sent in 2018. Your job is to analyze clients' behavior and determine which prepaid plan brings in more revenue\n",
    "\n",
    "\n",
    "**Description of the plans**\n",
    "\n",
    "> Note: Megaline rounds seconds up to minutes, and megabytes to gigabytes. For calls, each individual call is rounded up: even if the call lasted just one second, it willbe counted as one minute. For web traffic, individual web sessions are not rounded up. Instead, the total for the month is rounded up. If someone uses 1025 megabytes this month, they will be charged for 2 gigabytes.\n",
    "\n",
    "**Surf**\n",
    "1. Monthly charge: $20\n",
    "\n",
    "1. 500 monthly minutes, 50 texts, and 15 GB of data\n",
    "1. After exceeding the package limits\n",
    "    * 1 minute: 3 cents\n",
    "    * 1 text message: 3 cents\n",
    "    * 1 GB of data: $10\n",
    "\n",
    "\n",
    "**Ultimate**\n",
    "1. Monthly charge: $70\n",
    "\n",
    "1. 3000 monthly minutes, 1000 text messages, and 30 GB of data\n",
    "1. After exceeding the package limits:\n",
    "    * 1 minute: 1 cent\n",
    "    * 1 text message: 1 cents\n",
    "    * 1 GB of data: $7\n",
    "\n",
    "---\n"
   ]
  },
  {
   "cell_type": "markdown",
   "metadata": {},
   "source": [
    "\n",
    "# Contents <a id='back'></a>\n",
    "* [1. Data overview](#intro)\n",
    "* [2. Data exploration](#data_exploration)\n",
    "    * 2.1  Fix & enrich datasets: Plans, users, calls, messages, internet\n",
    "        - Missing values\n",
    "        - Duplicated data\n",
    "        - Change data types if necessary\n",
    "        - Data distribution\n",
    "        - Data categorization\n",
    "    * 2.2  Study and aggregate the data for each user:\n",
    "        * Number of calls made and minutes used per month\n",
    "        * Number of text messages sent per month\n",
    "        * Volume of data per month\n",
    "        * Monthly revenue from each user\n",
    "\n",
    "\n",
    "* [3. Exploratory Analysis](#exploratory_analysis)\n",
    "    * Customer's behavior: minutes, texts, and volume of data the users of each plan require per month\n",
    "    * Mean, variance and standard deviation\n",
    "    * Histograms & distributions\n",
    "\n",
    "\n",
    "\n",
    "* [4. Test Hipothesis](#hipotesis)\n",
    "    * The average revenue from users of Ultimate and Surf calling plans differs.\n",
    "    * The average revenue from users in NY-NJ area is different from that of the users from other regions.\n",
    "    \n",
    "    \n",
    "* [Conclusions](#conclusions)"
   ]
  },
  {
   "cell_type": "markdown",
   "metadata": {},
   "source": [
    "## Data Overview"
   ]
  },
  {
   "cell_type": "markdown",
   "metadata": {},
   "source": [
    "- Import all libraries\n",
    "- Import the five different datasets\n"
   ]
  },
  {
   "cell_type": "code",
   "execution_count": 1,
   "metadata": {},
   "outputs": [],
   "source": [
    "# Loading all the libraries\n",
    "from scipy import stats as st #for probability and statistics calculations\n",
    "import pandas as pd #for dataframe manipulation\n",
    "pd.set_option('display.max_columns', None)\n",
    "import datetime as dt\n",
    "import matplotlib.pyplot as plt #for graph plotting and display\n",
    "%matplotlib inline\n",
    "import numpy as np #for advanced mathematical operations\n",
    "import nltk #for string/text manipulation\n",
    "import seaborn as sns\n",
    "from pandas.api.types import is_string_dtype\n",
    "from pandas.api.types import is_numeric_dtype\n",
    "import math\n",
    "from functools import reduce"
   ]
  },
  {
   "cell_type": "code",
   "execution_count": 2,
   "metadata": {},
   "outputs": [],
   "source": [
    "# Load the data files into different DataFrames\n",
    "\n",
    "try:\n",
    "    calls = pd.read_csv('megaline_calls.csv') \n",
    "    internet = pd.read_csv('megaline_internet.csv')\n",
    "    messages = pd.read_csv('megaline_messages.csv')\n",
    "    plans = pd.read_csv('megaline_plans.csv')\n",
    "    users = pd.read_csv('megaline_users.csv')\n",
    "except:\n",
    "    calls = pd.read_csv('/datasets/megaline_calls.csv')\n",
    "    internet = pd.read_csv('/datasets/megaline_internet.csv')\n",
    "    messages = pd.read_csv('/datasets/megaline_messages.csv')\n",
    "    plans = pd.read_csv('/datasets/megaline_plans.csv')\n",
    "    users = pd.read_csv('/datasets/megaline_users.csv')\n"
   ]
  },
  {
   "cell_type": "markdown",
   "metadata": {},
   "source": [
    "### Functions to re-use\n"
   ]
  },
  {
   "cell_type": "code",
   "execution_count": 3,
   "metadata": {},
   "outputs": [],
   "source": [
    "#change date columns to date type and split to day/month/year\n",
    "def get_date(df):\n",
    "    columns = df.columns.tolist()\n",
    "    idx = [columns.index(x) for x in columns if 'date' in x][0]\n",
    "    \n",
    "    df[columns[idx]] = pd.to_datetime(df[columns[idx]])\n",
    "    df['month'] = df[columns[idx]].dt.month_name()\n",
    "    df['year'] = df[columns[idx]].dt.year\n",
    "    return df\n",
    "\n",
    "#fct for surf/ultimate plans histogram ploting\n",
    "def plot_hists(df1,df2,column):\n",
    "    ax = df1.hist(column=column,density=True, bins=20, color='orange')\n",
    "    df2.hist(column=column,density=True, bins=20, alpha=0.5,ax =ax, color='blue',edgecolor = \"gray\")\n",
    "    plt.legend(['surf','ultimate'])\n",
    "    \n"
   ]
  },
  {
   "cell_type": "markdown",
   "metadata": {},
   "source": [
    "**The `calls` table (data on calls):** \n",
    "- `id` — unique call identifier\n",
    "- `call_date` — call date\n",
    "- `duration` — call duration (in minutes\n",
    "- `user_id` — the identifier of the user making the call"
   ]
  },
  {
   "cell_type": "code",
   "execution_count": 4,
   "metadata": {
    "scrolled": true
   },
   "outputs": [
    {
     "data": {
      "text/html": [
       "<div>\n",
       "<style scoped>\n",
       "    .dataframe tbody tr th:only-of-type {\n",
       "        vertical-align: middle;\n",
       "    }\n",
       "\n",
       "    .dataframe tbody tr th {\n",
       "        vertical-align: top;\n",
       "    }\n",
       "\n",
       "    .dataframe thead th {\n",
       "        text-align: right;\n",
       "    }\n",
       "</style>\n",
       "<table border=\"1\" class=\"dataframe\">\n",
       "  <thead>\n",
       "    <tr style=\"text-align: right;\">\n",
       "      <th></th>\n",
       "      <th>id</th>\n",
       "      <th>user_id</th>\n",
       "      <th>call_date</th>\n",
       "      <th>duration</th>\n",
       "    </tr>\n",
       "  </thead>\n",
       "  <tbody>\n",
       "    <tr>\n",
       "      <th>137734</th>\n",
       "      <td>1499_203</td>\n",
       "      <td>1499</td>\n",
       "      <td>2018-12-29</td>\n",
       "      <td>13.86</td>\n",
       "    </tr>\n",
       "    <tr>\n",
       "      <th>137594</th>\n",
       "      <td>1499_63</td>\n",
       "      <td>1499</td>\n",
       "      <td>2018-10-10</td>\n",
       "      <td>0.00</td>\n",
       "    </tr>\n",
       "    <tr>\n",
       "      <th>137604</th>\n",
       "      <td>1499_73</td>\n",
       "      <td>1499</td>\n",
       "      <td>2018-11-27</td>\n",
       "      <td>0.00</td>\n",
       "    </tr>\n",
       "    <tr>\n",
       "      <th>137603</th>\n",
       "      <td>1499_72</td>\n",
       "      <td>1499</td>\n",
       "      <td>2018-11-15</td>\n",
       "      <td>11.03</td>\n",
       "    </tr>\n",
       "    <tr>\n",
       "      <th>137602</th>\n",
       "      <td>1499_71</td>\n",
       "      <td>1499</td>\n",
       "      <td>2018-10-17</td>\n",
       "      <td>3.09</td>\n",
       "    </tr>\n",
       "  </tbody>\n",
       "</table>\n",
       "</div>"
      ],
      "text/plain": [
       "              id  user_id   call_date  duration\n",
       "137734  1499_203     1499  2018-12-29     13.86\n",
       "137594   1499_63     1499  2018-10-10      0.00\n",
       "137604   1499_73     1499  2018-11-27      0.00\n",
       "137603   1499_72     1499  2018-11-15     11.03\n",
       "137602   1499_71     1499  2018-10-17      3.09"
      ]
     },
     "execution_count": 4,
     "metadata": {},
     "output_type": "execute_result"
    }
   ],
   "source": [
    "calls.sort_values('user_id', ascending=False).head()"
   ]
  },
  {
   "cell_type": "code",
   "execution_count": 5,
   "metadata": {},
   "outputs": [
    {
     "name": "stdout",
     "output_type": "stream",
     "text": [
      "<class 'pandas.core.frame.DataFrame'>\n",
      "RangeIndex: 137735 entries, 0 to 137734\n",
      "Data columns (total 4 columns):\n",
      " #   Column     Non-Null Count   Dtype  \n",
      "---  ------     --------------   -----  \n",
      " 0   id         137735 non-null  object \n",
      " 1   user_id    137735 non-null  int64  \n",
      " 2   call_date  137735 non-null  object \n",
      " 3   duration   137735 non-null  float64\n",
      "dtypes: float64(1), int64(1), object(2)\n",
      "memory usage: 4.2+ MB\n",
      "None\n",
      "\n",
      "Shape of the dataset: (137735, 4)\n",
      "\n",
      "Describe the data:\n",
      "             user_id       duration\n",
      "count  137735.000000  137735.000000\n",
      "mean     1247.658046       6.745927\n",
      "std       139.416268       5.839241\n",
      "min      1000.000000       0.000000\n",
      "25%      1128.000000       1.290000\n",
      "50%      1247.000000       5.980000\n",
      "75%      1365.000000      10.690000\n",
      "max      1499.000000      37.600000\n"
     ]
    }
   ],
   "source": [
    "print(calls.info())\n",
    "print()\n",
    "print(\"Shape of the dataset:\", calls.shape)\n",
    "print()\n",
    "print(\"Describe the data:\")\n",
    "print(calls.describe())\n"
   ]
  },
  {
   "cell_type": "markdown",
   "metadata": {},
   "source": [
    "---"
   ]
  },
  {
   "cell_type": "markdown",
   "metadata": {},
   "source": [
    "\n",
    "**The `internet` table (data on web sessions):**\n",
    "- `id` — unique session identifier\n",
    "- `mb_used` — the volume of data spent during the session (in megabytes)\n",
    "- `session_date` — web session date\n",
    "- `user_id` — user identifier\n"
   ]
  },
  {
   "cell_type": "code",
   "execution_count": 6,
   "metadata": {
    "scrolled": false
   },
   "outputs": [
    {
     "data": {
      "text/html": [
       "<div>\n",
       "<style scoped>\n",
       "    .dataframe tbody tr th:only-of-type {\n",
       "        vertical-align: middle;\n",
       "    }\n",
       "\n",
       "    .dataframe tbody tr th {\n",
       "        vertical-align: top;\n",
       "    }\n",
       "\n",
       "    .dataframe thead th {\n",
       "        text-align: right;\n",
       "    }\n",
       "</style>\n",
       "<table border=\"1\" class=\"dataframe\">\n",
       "  <thead>\n",
       "    <tr style=\"text-align: right;\">\n",
       "      <th></th>\n",
       "      <th>id</th>\n",
       "      <th>user_id</th>\n",
       "      <th>session_date</th>\n",
       "      <th>mb_used</th>\n",
       "    </tr>\n",
       "  </thead>\n",
       "  <tbody>\n",
       "    <tr>\n",
       "      <th>104824</th>\n",
       "      <td>1499_219</td>\n",
       "      <td>1499</td>\n",
       "      <td>2018-12-24</td>\n",
       "      <td>758.31</td>\n",
       "    </tr>\n",
       "    <tr>\n",
       "      <th>104673</th>\n",
       "      <td>1499_68</td>\n",
       "      <td>1499</td>\n",
       "      <td>2018-10-14</td>\n",
       "      <td>261.90</td>\n",
       "    </tr>\n",
       "    <tr>\n",
       "      <th>104684</th>\n",
       "      <td>1499_79</td>\n",
       "      <td>1499</td>\n",
       "      <td>2018-11-14</td>\n",
       "      <td>709.79</td>\n",
       "    </tr>\n",
       "    <tr>\n",
       "      <th>104683</th>\n",
       "      <td>1499_78</td>\n",
       "      <td>1499</td>\n",
       "      <td>2018-11-27</td>\n",
       "      <td>250.10</td>\n",
       "    </tr>\n",
       "    <tr>\n",
       "      <th>104682</th>\n",
       "      <td>1499_77</td>\n",
       "      <td>1499</td>\n",
       "      <td>2018-11-06</td>\n",
       "      <td>157.94</td>\n",
       "    </tr>\n",
       "  </tbody>\n",
       "</table>\n",
       "</div>"
      ],
      "text/plain": [
       "              id  user_id session_date  mb_used\n",
       "104824  1499_219     1499   2018-12-24   758.31\n",
       "104673   1499_68     1499   2018-10-14   261.90\n",
       "104684   1499_79     1499   2018-11-14   709.79\n",
       "104683   1499_78     1499   2018-11-27   250.10\n",
       "104682   1499_77     1499   2018-11-06   157.94"
      ]
     },
     "execution_count": 6,
     "metadata": {},
     "output_type": "execute_result"
    }
   ],
   "source": [
    "internet.sort_values('user_id', ascending=False).head()"
   ]
  },
  {
   "cell_type": "code",
   "execution_count": 7,
   "metadata": {},
   "outputs": [
    {
     "name": "stdout",
     "output_type": "stream",
     "text": [
      "<class 'pandas.core.frame.DataFrame'>\n",
      "RangeIndex: 104825 entries, 0 to 104824\n",
      "Data columns (total 4 columns):\n",
      " #   Column        Non-Null Count   Dtype  \n",
      "---  ------        --------------   -----  \n",
      " 0   id            104825 non-null  object \n",
      " 1   user_id       104825 non-null  int64  \n",
      " 2   session_date  104825 non-null  object \n",
      " 3   mb_used       104825 non-null  float64\n",
      "dtypes: float64(1), int64(1), object(2)\n",
      "memory usage: 3.2+ MB\n",
      "\n",
      "Shape of the dataset: (104825, 4)\n",
      "\n",
      "Describe the data:\n",
      "             user_id        mb_used\n",
      "count  104825.000000  104825.000000\n",
      "mean     1242.496361     366.713701\n",
      "std       142.053913     277.170542\n",
      "min      1000.000000       0.000000\n",
      "25%      1122.000000     136.080000\n",
      "50%      1236.000000     343.980000\n",
      "75%      1367.000000     554.610000\n",
      "max      1499.000000    1693.470000\n"
     ]
    }
   ],
   "source": [
    "internet.info()\n",
    "print()\n",
    "print(\"Shape of the dataset:\", internet.shape)\n",
    "print()\n",
    "print(\"Describe the data:\")\n",
    "print(internet.describe())"
   ]
  },
  {
   "cell_type": "markdown",
   "metadata": {},
   "source": [
    "---"
   ]
  },
  {
   "cell_type": "markdown",
   "metadata": {},
   "source": [
    "**The `messages` table (data on texts):**\n",
    "- `id` — unique text message identifier\n",
    "- `message_date` — text message date\n",
    "- `user_id` — the identifier of the user sending the text\n"
   ]
  },
  {
   "cell_type": "code",
   "execution_count": 8,
   "metadata": {
    "scrolled": false
   },
   "outputs": [
    {
     "data": {
      "text/html": [
       "<div>\n",
       "<style scoped>\n",
       "    .dataframe tbody tr th:only-of-type {\n",
       "        vertical-align: middle;\n",
       "    }\n",
       "\n",
       "    .dataframe tbody tr th {\n",
       "        vertical-align: top;\n",
       "    }\n",
       "\n",
       "    .dataframe thead th {\n",
       "        text-align: right;\n",
       "    }\n",
       "</style>\n",
       "<table border=\"1\" class=\"dataframe\">\n",
       "  <thead>\n",
       "    <tr style=\"text-align: right;\">\n",
       "      <th></th>\n",
       "      <th>id</th>\n",
       "      <th>user_id</th>\n",
       "      <th>message_date</th>\n",
       "    </tr>\n",
       "  </thead>\n",
       "  <tbody>\n",
       "    <tr>\n",
       "      <th>76050</th>\n",
       "      <td>1497_613</td>\n",
       "      <td>1497</td>\n",
       "      <td>2018-12-23</td>\n",
       "    </tr>\n",
       "    <tr>\n",
       "      <th>76013</th>\n",
       "      <td>1497_228</td>\n",
       "      <td>1497</td>\n",
       "      <td>2018-12-28</td>\n",
       "    </tr>\n",
       "    <tr>\n",
       "      <th>76023</th>\n",
       "      <td>1497_369</td>\n",
       "      <td>1497</td>\n",
       "      <td>2018-12-13</td>\n",
       "    </tr>\n",
       "    <tr>\n",
       "      <th>76022</th>\n",
       "      <td>1497_365</td>\n",
       "      <td>1497</td>\n",
       "      <td>2018-12-22</td>\n",
       "    </tr>\n",
       "    <tr>\n",
       "      <th>76021</th>\n",
       "      <td>1497_360</td>\n",
       "      <td>1497</td>\n",
       "      <td>2018-12-20</td>\n",
       "    </tr>\n",
       "  </tbody>\n",
       "</table>\n",
       "</div>"
      ],
      "text/plain": [
       "             id  user_id message_date\n",
       "76050  1497_613     1497   2018-12-23\n",
       "76013  1497_228     1497   2018-12-28\n",
       "76023  1497_369     1497   2018-12-13\n",
       "76022  1497_365     1497   2018-12-22\n",
       "76021  1497_360     1497   2018-12-20"
      ]
     },
     "execution_count": 8,
     "metadata": {},
     "output_type": "execute_result"
    }
   ],
   "source": [
    "messages.sort_values('user_id', ascending=False).head()"
   ]
  },
  {
   "cell_type": "code",
   "execution_count": 9,
   "metadata": {},
   "outputs": [
    {
     "name": "stdout",
     "output_type": "stream",
     "text": [
      "<class 'pandas.core.frame.DataFrame'>\n",
      "RangeIndex: 76051 entries, 0 to 76050\n",
      "Data columns (total 3 columns):\n",
      " #   Column        Non-Null Count  Dtype \n",
      "---  ------        --------------  ----- \n",
      " 0   id            76051 non-null  object\n",
      " 1   user_id       76051 non-null  int64 \n",
      " 2   message_date  76051 non-null  object\n",
      "dtypes: int64(1), object(2)\n",
      "memory usage: 1.7+ MB\n",
      "\n",
      "Shape of the dataset: (76051, 3)\n",
      "\n",
      "Describe the data:\n",
      "            user_id\n",
      "count  76051.000000\n",
      "mean    1245.972768\n",
      "std      139.843635\n",
      "min     1000.000000\n",
      "25%     1123.000000\n",
      "50%     1251.000000\n",
      "75%     1362.000000\n",
      "max     1497.000000\n"
     ]
    }
   ],
   "source": [
    "messages.info()\n",
    "print()\n",
    "print(\"Shape of the dataset:\", messages.shape)\n",
    "print()\n",
    "print(\"Describe the data:\")\n",
    "print(messages.describe())"
   ]
  },
  {
   "cell_type": "markdown",
   "metadata": {},
   "source": [
    "---"
   ]
  },
  {
   "cell_type": "markdown",
   "metadata": {},
   "source": [
    "\n",
    "**The `plans` table (data on the plans):**\n",
    "- `plan_name` — calling plan name\n",
    "- `usd_monthly_fee` — monthly charge in US dollars\n",
    "- `minutes_included` — monthly minute allowance\n",
    "- `messages_included` — monthly text allowance\n",
    "- `mb_per_month_included` — data volume allowance (in megabytes)\n",
    "- `usd_per_minute` — price per minute after exceeding the package limits (e.g., if the package includes 100 minutes, the 101st minute will be charged)\n",
    "- `usd_per_message` — price per text after exceeding the package limits\n",
    "- `usd_per_gb` — price per extra gigabyte of data after exceeding the package limits (1 GB = 1024 megabytes)"
   ]
  },
  {
   "cell_type": "code",
   "execution_count": 10,
   "metadata": {
    "scrolled": true
   },
   "outputs": [
    {
     "data": {
      "text/html": [
       "<div>\n",
       "<style scoped>\n",
       "    .dataframe tbody tr th:only-of-type {\n",
       "        vertical-align: middle;\n",
       "    }\n",
       "\n",
       "    .dataframe tbody tr th {\n",
       "        vertical-align: top;\n",
       "    }\n",
       "\n",
       "    .dataframe thead th {\n",
       "        text-align: right;\n",
       "    }\n",
       "</style>\n",
       "<table border=\"1\" class=\"dataframe\">\n",
       "  <thead>\n",
       "    <tr style=\"text-align: right;\">\n",
       "      <th></th>\n",
       "      <th>messages_included</th>\n",
       "      <th>mb_per_month_included</th>\n",
       "      <th>minutes_included</th>\n",
       "      <th>usd_monthly_pay</th>\n",
       "      <th>usd_per_gb</th>\n",
       "      <th>usd_per_message</th>\n",
       "      <th>usd_per_minute</th>\n",
       "      <th>plan_name</th>\n",
       "    </tr>\n",
       "  </thead>\n",
       "  <tbody>\n",
       "    <tr>\n",
       "      <th>0</th>\n",
       "      <td>50</td>\n",
       "      <td>15360</td>\n",
       "      <td>500</td>\n",
       "      <td>20</td>\n",
       "      <td>10</td>\n",
       "      <td>0.03</td>\n",
       "      <td>0.03</td>\n",
       "      <td>surf</td>\n",
       "    </tr>\n",
       "    <tr>\n",
       "      <th>1</th>\n",
       "      <td>1000</td>\n",
       "      <td>30720</td>\n",
       "      <td>3000</td>\n",
       "      <td>70</td>\n",
       "      <td>7</td>\n",
       "      <td>0.01</td>\n",
       "      <td>0.01</td>\n",
       "      <td>ultimate</td>\n",
       "    </tr>\n",
       "  </tbody>\n",
       "</table>\n",
       "</div>"
      ],
      "text/plain": [
       "   messages_included  mb_per_month_included  minutes_included  \\\n",
       "0                 50                  15360               500   \n",
       "1               1000                  30720              3000   \n",
       "\n",
       "   usd_monthly_pay  usd_per_gb  usd_per_message  usd_per_minute plan_name  \n",
       "0               20          10             0.03            0.03      surf  \n",
       "1               70           7             0.01            0.01  ultimate  "
      ]
     },
     "execution_count": 10,
     "metadata": {},
     "output_type": "execute_result"
    }
   ],
   "source": [
    "plans.head()"
   ]
  },
  {
   "cell_type": "code",
   "execution_count": 11,
   "metadata": {},
   "outputs": [
    {
     "name": "stdout",
     "output_type": "stream",
     "text": [
      "<class 'pandas.core.frame.DataFrame'>\n",
      "RangeIndex: 2 entries, 0 to 1\n",
      "Data columns (total 8 columns):\n",
      " #   Column                 Non-Null Count  Dtype  \n",
      "---  ------                 --------------  -----  \n",
      " 0   messages_included      2 non-null      int64  \n",
      " 1   mb_per_month_included  2 non-null      int64  \n",
      " 2   minutes_included       2 non-null      int64  \n",
      " 3   usd_monthly_pay        2 non-null      int64  \n",
      " 4   usd_per_gb             2 non-null      int64  \n",
      " 5   usd_per_message        2 non-null      float64\n",
      " 6   usd_per_minute         2 non-null      float64\n",
      " 7   plan_name              2 non-null      object \n",
      "dtypes: float64(2), int64(5), object(1)\n",
      "memory usage: 256.0+ bytes\n",
      "\n",
      "Shape of the dataset: (2, 8)\n",
      "\n",
      "Describe the data:\n",
      "       messages_included  mb_per_month_included  minutes_included  \\\n",
      "count           2.000000               2.000000          2.000000   \n",
      "mean          525.000000           23040.000000       1750.000000   \n",
      "std           671.751442           10861.160159       1767.766953   \n",
      "min            50.000000           15360.000000        500.000000   \n",
      "25%           287.500000           19200.000000       1125.000000   \n",
      "50%           525.000000           23040.000000       1750.000000   \n",
      "75%           762.500000           26880.000000       2375.000000   \n",
      "max          1000.000000           30720.000000       3000.000000   \n",
      "\n",
      "       usd_monthly_pay  usd_per_gb  usd_per_message  usd_per_minute  \n",
      "count         2.000000     2.00000         2.000000        2.000000  \n",
      "mean         45.000000     8.50000         0.020000        0.020000  \n",
      "std          35.355339     2.12132         0.014142        0.014142  \n",
      "min          20.000000     7.00000         0.010000        0.010000  \n",
      "25%          32.500000     7.75000         0.015000        0.015000  \n",
      "50%          45.000000     8.50000         0.020000        0.020000  \n",
      "75%          57.500000     9.25000         0.025000        0.025000  \n",
      "max          70.000000    10.00000         0.030000        0.030000  \n"
     ]
    }
   ],
   "source": [
    "plans.info()\n",
    "print()\n",
    "print(\"Shape of the dataset:\", plans.shape)\n",
    "print()\n",
    "print(\"Describe the data:\")\n",
    "print(plans.describe())"
   ]
  },
  {
   "cell_type": "markdown",
   "metadata": {},
   "source": [
    "---"
   ]
  },
  {
   "cell_type": "markdown",
   "metadata": {},
   "source": [
    "**The `users` table (data on users):**\n",
    "- `user_id` — unique user identifier\n",
    "- `first_name` — user's name\n",
    "- `last_name` — user's last name\n",
    "- `age — user's age (years)\n",
    "- `reg_date` — subscription date (dd, mm, yy)\n",
    "- `churn_date` — the date the user stopped using the service (if the value is missing, the calling plan was being used when this data was generated)\n",
    "- `city` — user's city of residence\n",
    "- `plan` — calling plan name"
   ]
  },
  {
   "cell_type": "code",
   "execution_count": 12,
   "metadata": {
    "scrolled": true
   },
   "outputs": [
    {
     "data": {
      "text/html": [
       "<div>\n",
       "<style scoped>\n",
       "    .dataframe tbody tr th:only-of-type {\n",
       "        vertical-align: middle;\n",
       "    }\n",
       "\n",
       "    .dataframe tbody tr th {\n",
       "        vertical-align: top;\n",
       "    }\n",
       "\n",
       "    .dataframe thead th {\n",
       "        text-align: right;\n",
       "    }\n",
       "</style>\n",
       "<table border=\"1\" class=\"dataframe\">\n",
       "  <thead>\n",
       "    <tr style=\"text-align: right;\">\n",
       "      <th></th>\n",
       "      <th>user_id</th>\n",
       "      <th>first_name</th>\n",
       "      <th>last_name</th>\n",
       "      <th>age</th>\n",
       "      <th>city</th>\n",
       "      <th>reg_date</th>\n",
       "      <th>plan</th>\n",
       "      <th>churn_date</th>\n",
       "    </tr>\n",
       "  </thead>\n",
       "  <tbody>\n",
       "    <tr>\n",
       "      <th>499</th>\n",
       "      <td>1499</td>\n",
       "      <td>Shena</td>\n",
       "      <td>Dickson</td>\n",
       "      <td>37</td>\n",
       "      <td>Orlando-Kissimmee-Sanford, FL MSA</td>\n",
       "      <td>2018-05-06</td>\n",
       "      <td>surf</td>\n",
       "      <td>NaN</td>\n",
       "    </tr>\n",
       "    <tr>\n",
       "      <th>498</th>\n",
       "      <td>1498</td>\n",
       "      <td>Scot</td>\n",
       "      <td>Williamson</td>\n",
       "      <td>51</td>\n",
       "      <td>New York-Newark-Jersey City, NY-NJ-PA MSA</td>\n",
       "      <td>2018-02-04</td>\n",
       "      <td>surf</td>\n",
       "      <td>NaN</td>\n",
       "    </tr>\n",
       "    <tr>\n",
       "      <th>497</th>\n",
       "      <td>1497</td>\n",
       "      <td>Donte</td>\n",
       "      <td>Barrera</td>\n",
       "      <td>49</td>\n",
       "      <td>Los Angeles-Long Beach-Anaheim, CA MSA</td>\n",
       "      <td>2018-12-10</td>\n",
       "      <td>ultimate</td>\n",
       "      <td>NaN</td>\n",
       "    </tr>\n",
       "    <tr>\n",
       "      <th>496</th>\n",
       "      <td>1496</td>\n",
       "      <td>Ariel</td>\n",
       "      <td>Shepherd</td>\n",
       "      <td>49</td>\n",
       "      <td>New Orleans-Metairie, LA MSA</td>\n",
       "      <td>2018-02-20</td>\n",
       "      <td>surf</td>\n",
       "      <td>NaN</td>\n",
       "    </tr>\n",
       "    <tr>\n",
       "      <th>495</th>\n",
       "      <td>1495</td>\n",
       "      <td>Fidel</td>\n",
       "      <td>Sharpe</td>\n",
       "      <td>67</td>\n",
       "      <td>New York-Newark-Jersey City, NY-NJ-PA MSA</td>\n",
       "      <td>2018-09-04</td>\n",
       "      <td>surf</td>\n",
       "      <td>NaN</td>\n",
       "    </tr>\n",
       "  </tbody>\n",
       "</table>\n",
       "</div>"
      ],
      "text/plain": [
       "     user_id first_name   last_name  age  \\\n",
       "499     1499      Shena     Dickson   37   \n",
       "498     1498       Scot  Williamson   51   \n",
       "497     1497      Donte     Barrera   49   \n",
       "496     1496      Ariel    Shepherd   49   \n",
       "495     1495      Fidel      Sharpe   67   \n",
       "\n",
       "                                          city    reg_date      plan  \\\n",
       "499          Orlando-Kissimmee-Sanford, FL MSA  2018-05-06      surf   \n",
       "498  New York-Newark-Jersey City, NY-NJ-PA MSA  2018-02-04      surf   \n",
       "497     Los Angeles-Long Beach-Anaheim, CA MSA  2018-12-10  ultimate   \n",
       "496               New Orleans-Metairie, LA MSA  2018-02-20      surf   \n",
       "495  New York-Newark-Jersey City, NY-NJ-PA MSA  2018-09-04      surf   \n",
       "\n",
       "    churn_date  \n",
       "499        NaN  \n",
       "498        NaN  \n",
       "497        NaN  \n",
       "496        NaN  \n",
       "495        NaN  "
      ]
     },
     "execution_count": 12,
     "metadata": {},
     "output_type": "execute_result"
    }
   ],
   "source": [
    "users.sort_values('user_id', ascending=False).head()"
   ]
  },
  {
   "cell_type": "code",
   "execution_count": 13,
   "metadata": {},
   "outputs": [
    {
     "name": "stdout",
     "output_type": "stream",
     "text": [
      "<class 'pandas.core.frame.DataFrame'>\n",
      "RangeIndex: 500 entries, 0 to 499\n",
      "Data columns (total 8 columns):\n",
      " #   Column      Non-Null Count  Dtype \n",
      "---  ------      --------------  ----- \n",
      " 0   user_id     500 non-null    int64 \n",
      " 1   first_name  500 non-null    object\n",
      " 2   last_name   500 non-null    object\n",
      " 3   age         500 non-null    int64 \n",
      " 4   city        500 non-null    object\n",
      " 5   reg_date    500 non-null    object\n",
      " 6   plan        500 non-null    object\n",
      " 7   churn_date  34 non-null     object\n",
      "dtypes: int64(2), object(6)\n",
      "memory usage: 31.4+ KB\n",
      "\n",
      ">>>>Shape of the dataset: (500, 8)\n",
      "\n",
      "Describe the data:\n",
      "           user_id         age\n",
      "count   500.000000  500.000000\n",
      "mean   1249.500000   45.486000\n",
      "std     144.481833   16.972269\n",
      "min    1000.000000   18.000000\n",
      "25%    1124.750000   30.000000\n",
      "50%    1249.500000   46.000000\n",
      "75%    1374.250000   61.000000\n",
      "max    1499.000000   75.000000\n"
     ]
    }
   ],
   "source": [
    "users.info()\n",
    "print()\n",
    "print(\">>>>Shape of the dataset:\", users.shape)\n",
    "print()\n",
    "print(\"Describe the data:\")\n",
    "print(users.describe())"
   ]
  },
  {
   "cell_type": "markdown",
   "metadata": {},
   "source": [
    "### First conclusions & next steps:\n",
    "\n",
    "<span style=\"color:green\">**General:** </span> \n",
    "- We have five datasets with information that we need to combine into one table to have easier access to the information. Not all of them have the same amount of rows, so we will have to deal with missing values after merging them\n",
    "\n",
    "\n",
    "- We printed all our tables with the column `user_id` in order to understand how they are distributed and if they have the same value name on all the tables. We discovered:\n",
    "    - We have `user_id` information on the tables, so we will use that column to merge our tables. Except for the plans table that we will merge the last one using `plan` & `plan_name` that appears in the tables users and plans. \n",
    "    - The values for `id` might not be exaclty the same in all tables, so we will need to adjust them before merging the data\n",
    "    \n",
    "    \n",
    "- For all tables where we have date, we will extract day, month, year in new columns but we won't change names, since each date refers to a call, message or internet session and we do not want to mix them \n",
    "\n",
    "\n",
    "- Before merging the tables, and after fixing all the issues with each one individually, we will change first the name of the columns to be the same so we won't have issues when merging them. \n",
    "\n",
    "\n",
    "<span style=\"color:green\">**Notes from each dataset:** </span> \n",
    "\n",
    "1. calls \n",
    "    - We see in our describe table that we have minimum `duration` of 0 min. We will add a new column to show if it was an active call (connected call) or missed one. \n",
    "    - Round calls to 1 minute\n",
    "\n",
    "1. internet\n",
    "    - Changed Dtype of date \n",
    "    - get a GB column to compare afterwards\n",
    "    \n",
    "1. messages\n",
    "    - Change data type of dates and stract month\n",
    "    \n",
    "1. plans\n",
    "    - New column with GB included for later on comparisons\n",
    "      \n",
    "1. users\n",
    "    - We have a lot of missing values only on the dataset USERS in `churn_date` that we will address when merging the tables together.\n",
    "    - We need to change the Dtype of `churn_date` and `reg_date` columns as should be date_time type.\n",
    "    - We will also check the `city` info to be sure we do not have duplicated data on users because of wrong naming or mispelling. \n",
    "\n",
    "\n"
   ]
  },
  {
   "cell_type": "markdown",
   "metadata": {},
   "source": [
    "---"
   ]
  },
  {
   "cell_type": "markdown",
   "metadata": {},
   "source": [
    "## Data Exploration\n",
    " * 2.1  Fix & enrich datasets: calls, internet, messages, plans, users\n",
    "      - Missing values when there are \n",
    "      - Duplicated data if found\n",
    "      - Change data types if necessary\n",
    "      - Data distribution\n",
    "      - Data categorization\n",
    "      \n",
    "      \n",
    " * 2.2  Study and aggregate the data for each user:\n",
    "      * Number of calls made and minutes used per month\n",
    "      * Number of text messages sent per month\n",
    "      * Volume of data per month\n",
    "      * Monthly revenue from each user"
   ]
  },
  {
   "cell_type": "markdown",
   "metadata": {},
   "source": [
    "### Fix & enrich datasets: calls, internet, messages, plans, users\n",
    "#### Calls | Fix data & enrich data\n"
   ]
  },
  {
   "cell_type": "code",
   "execution_count": 14,
   "metadata": {
    "scrolled": true
   },
   "outputs": [
    {
     "data": {
      "text/plain": [
       "id           0\n",
       "user_id      0\n",
       "call_date    0\n",
       "duration     0\n",
       "dtype: int64"
      ]
     },
     "execution_count": 14,
     "metadata": {},
     "output_type": "execute_result"
    }
   ],
   "source": [
    "calls.isna().sum()"
   ]
  },
  {
   "cell_type": "code",
   "execution_count": 15,
   "metadata": {},
   "outputs": [],
   "source": [
    "#convert call_date column to date type\n",
    "calls['call_date'] = pd.to_datetime(calls['call_date'], format='%Y-%m-%d')"
   ]
  },
  {
   "cell_type": "code",
   "execution_count": 16,
   "metadata": {},
   "outputs": [],
   "source": [
    "#apply function to change datatype to datetime and create 3 columns with month and year\n",
    "calls = get_date(calls)"
   ]
  },
  {
   "cell_type": "code",
   "execution_count": 17,
   "metadata": {
    "scrolled": true
   },
   "outputs": [
    {
     "data": {
      "text/html": [
       "<div>\n",
       "<style scoped>\n",
       "    .dataframe tbody tr th:only-of-type {\n",
       "        vertical-align: middle;\n",
       "    }\n",
       "\n",
       "    .dataframe tbody tr th {\n",
       "        vertical-align: top;\n",
       "    }\n",
       "\n",
       "    .dataframe thead th {\n",
       "        text-align: right;\n",
       "    }\n",
       "</style>\n",
       "<table border=\"1\" class=\"dataframe\">\n",
       "  <thead>\n",
       "    <tr style=\"text-align: right;\">\n",
       "      <th></th>\n",
       "      <th>id</th>\n",
       "      <th>user_id</th>\n",
       "      <th>call_date</th>\n",
       "      <th>duration</th>\n",
       "      <th>month</th>\n",
       "      <th>year</th>\n",
       "    </tr>\n",
       "  </thead>\n",
       "  <tbody>\n",
       "    <tr>\n",
       "      <th>97243</th>\n",
       "      <td>1347_69</td>\n",
       "      <td>1347</td>\n",
       "      <td>2018-10-18</td>\n",
       "      <td>0.0</td>\n",
       "      <td>October</td>\n",
       "      <td>2018</td>\n",
       "    </tr>\n",
       "    <tr>\n",
       "      <th>23448</th>\n",
       "      <td>1085_240</td>\n",
       "      <td>1085</td>\n",
       "      <td>2018-12-21</td>\n",
       "      <td>0.0</td>\n",
       "      <td>December</td>\n",
       "      <td>2018</td>\n",
       "    </tr>\n",
       "    <tr>\n",
       "      <th>61650</th>\n",
       "      <td>1222_297</td>\n",
       "      <td>1222</td>\n",
       "      <td>2018-11-30</td>\n",
       "      <td>0.0</td>\n",
       "      <td>November</td>\n",
       "      <td>2018</td>\n",
       "    </tr>\n",
       "    <tr>\n",
       "      <th>61653</th>\n",
       "      <td>1222_300</td>\n",
       "      <td>1222</td>\n",
       "      <td>2018-08-12</td>\n",
       "      <td>0.0</td>\n",
       "      <td>August</td>\n",
       "      <td>2018</td>\n",
       "    </tr>\n",
       "    <tr>\n",
       "      <th>111971</th>\n",
       "      <td>1393_162</td>\n",
       "      <td>1393</td>\n",
       "      <td>2018-12-26</td>\n",
       "      <td>0.0</td>\n",
       "      <td>December</td>\n",
       "      <td>2018</td>\n",
       "    </tr>\n",
       "  </tbody>\n",
       "</table>\n",
       "</div>"
      ],
      "text/plain": [
       "              id  user_id  call_date  duration     month  year\n",
       "97243    1347_69     1347 2018-10-18       0.0   October  2018\n",
       "23448   1085_240     1085 2018-12-21       0.0  December  2018\n",
       "61650   1222_297     1222 2018-11-30       0.0  November  2018\n",
       "61653   1222_300     1222 2018-08-12       0.0    August  2018\n",
       "111971  1393_162     1393 2018-12-26       0.0  December  2018"
      ]
     },
     "execution_count": 17,
     "metadata": {},
     "output_type": "execute_result"
    }
   ],
   "source": [
    "calls.sort_values('duration').head()"
   ]
  },
  {
   "cell_type": "code",
   "execution_count": 18,
   "metadata": {
    "scrolled": true
   },
   "outputs": [
    {
     "data": {
      "text/plain": [
       "id                   object\n",
       "user_id               int64\n",
       "call_date    datetime64[ns]\n",
       "duration            float64\n",
       "month                object\n",
       "year                  int64\n",
       "dtype: object"
      ]
     },
     "execution_count": 18,
     "metadata": {},
     "output_type": "execute_result"
    }
   ],
   "source": [
    "calls.dtypes"
   ]
  },
  {
   "cell_type": "markdown",
   "metadata": {},
   "source": [
    "<span style=\"color:green\">**Notes from the analyst & actions taken:** </span> \n",
    "- Since we have many 0.0 min calls, we will create a new column to show if it was missing call or connected call\n"
   ]
  },
  {
   "cell_type": "code",
   "execution_count": 19,
   "metadata": {},
   "outputs": [],
   "source": [
    "def call_category(c):\n",
    "    if c == 0:\n",
    "        return 'Missed call'\n",
    "    else:\n",
    "        return 'Connected call'"
   ]
  },
  {
   "cell_type": "code",
   "execution_count": 20,
   "metadata": {},
   "outputs": [],
   "source": [
    "#new column: call type\n",
    "calls['call_type'] = calls['duration'].apply(call_category)"
   ]
  },
  {
   "cell_type": "code",
   "execution_count": 21,
   "metadata": {},
   "outputs": [
    {
     "data": {
      "text/html": [
       "<div>\n",
       "<style scoped>\n",
       "    .dataframe tbody tr th:only-of-type {\n",
       "        vertical-align: middle;\n",
       "    }\n",
       "\n",
       "    .dataframe tbody tr th {\n",
       "        vertical-align: top;\n",
       "    }\n",
       "\n",
       "    .dataframe thead th {\n",
       "        text-align: right;\n",
       "    }\n",
       "</style>\n",
       "<table border=\"1\" class=\"dataframe\">\n",
       "  <thead>\n",
       "    <tr style=\"text-align: right;\">\n",
       "      <th></th>\n",
       "      <th>id</th>\n",
       "      <th>user_id</th>\n",
       "      <th>call_date</th>\n",
       "      <th>duration</th>\n",
       "      <th>month</th>\n",
       "      <th>year</th>\n",
       "      <th>call_type</th>\n",
       "    </tr>\n",
       "  </thead>\n",
       "  <tbody>\n",
       "    <tr>\n",
       "      <th>92135</th>\n",
       "      <td>1331_26</td>\n",
       "      <td>1331</td>\n",
       "      <td>2018-11-14</td>\n",
       "      <td>35.35</td>\n",
       "      <td>November</td>\n",
       "      <td>2018</td>\n",
       "      <td>Connected call</td>\n",
       "    </tr>\n",
       "    <tr>\n",
       "      <th>31180</th>\n",
       "      <td>1117_154</td>\n",
       "      <td>1117</td>\n",
       "      <td>2018-09-11</td>\n",
       "      <td>35.74</td>\n",
       "      <td>September</td>\n",
       "      <td>2018</td>\n",
       "      <td>Connected call</td>\n",
       "    </tr>\n",
       "    <tr>\n",
       "      <th>133587</th>\n",
       "      <td>1483_438</td>\n",
       "      <td>1483</td>\n",
       "      <td>2018-06-10</td>\n",
       "      <td>35.88</td>\n",
       "      <td>June</td>\n",
       "      <td>2018</td>\n",
       "      <td>Connected call</td>\n",
       "    </tr>\n",
       "    <tr>\n",
       "      <th>129871</th>\n",
       "      <td>1467_107</td>\n",
       "      <td>1467</td>\n",
       "      <td>2018-08-11</td>\n",
       "      <td>36.24</td>\n",
       "      <td>August</td>\n",
       "      <td>2018</td>\n",
       "      <td>Connected call</td>\n",
       "    </tr>\n",
       "    <tr>\n",
       "      <th>31355</th>\n",
       "      <td>1117_329</td>\n",
       "      <td>1117</td>\n",
       "      <td>2018-09-10</td>\n",
       "      <td>37.60</td>\n",
       "      <td>September</td>\n",
       "      <td>2018</td>\n",
       "      <td>Connected call</td>\n",
       "    </tr>\n",
       "  </tbody>\n",
       "</table>\n",
       "</div>"
      ],
      "text/plain": [
       "              id  user_id  call_date  duration      month  year  \\\n",
       "92135    1331_26     1331 2018-11-14     35.35   November  2018   \n",
       "31180   1117_154     1117 2018-09-11     35.74  September  2018   \n",
       "133587  1483_438     1483 2018-06-10     35.88       June  2018   \n",
       "129871  1467_107     1467 2018-08-11     36.24     August  2018   \n",
       "31355   1117_329     1117 2018-09-10     37.60  September  2018   \n",
       "\n",
       "             call_type  \n",
       "92135   Connected call  \n",
       "31180   Connected call  \n",
       "133587  Connected call  \n",
       "129871  Connected call  \n",
       "31355   Connected call  "
      ]
     },
     "execution_count": 21,
     "metadata": {},
     "output_type": "execute_result"
    }
   ],
   "source": [
    "calls.sort_values('duration').tail()"
   ]
  },
  {
   "cell_type": "code",
   "execution_count": 22,
   "metadata": {},
   "outputs": [],
   "source": [
    "#round up the duration time\n",
    "calls['duration'] = np.ceil(calls['duration'])"
   ]
  },
  {
   "cell_type": "code",
   "execution_count": 23,
   "metadata": {
    "scrolled": false
   },
   "outputs": [
    {
     "data": {
      "text/html": [
       "<div>\n",
       "<style scoped>\n",
       "    .dataframe tbody tr th:only-of-type {\n",
       "        vertical-align: middle;\n",
       "    }\n",
       "\n",
       "    .dataframe tbody tr th {\n",
       "        vertical-align: top;\n",
       "    }\n",
       "\n",
       "    .dataframe thead th {\n",
       "        text-align: right;\n",
       "    }\n",
       "</style>\n",
       "<table border=\"1\" class=\"dataframe\">\n",
       "  <thead>\n",
       "    <tr style=\"text-align: right;\">\n",
       "      <th></th>\n",
       "      <th>id</th>\n",
       "      <th>user_id</th>\n",
       "      <th>call_date</th>\n",
       "      <th>duration</th>\n",
       "      <th>month</th>\n",
       "      <th>year</th>\n",
       "      <th>call_type</th>\n",
       "    </tr>\n",
       "  </thead>\n",
       "  <tbody>\n",
       "    <tr>\n",
       "      <th>31180</th>\n",
       "      <td>1117_154</td>\n",
       "      <td>1117</td>\n",
       "      <td>2018-09-11</td>\n",
       "      <td>36.0</td>\n",
       "      <td>September</td>\n",
       "      <td>2018</td>\n",
       "      <td>Connected call</td>\n",
       "    </tr>\n",
       "    <tr>\n",
       "      <th>92135</th>\n",
       "      <td>1331_26</td>\n",
       "      <td>1331</td>\n",
       "      <td>2018-11-14</td>\n",
       "      <td>36.0</td>\n",
       "      <td>November</td>\n",
       "      <td>2018</td>\n",
       "      <td>Connected call</td>\n",
       "    </tr>\n",
       "    <tr>\n",
       "      <th>133587</th>\n",
       "      <td>1483_438</td>\n",
       "      <td>1483</td>\n",
       "      <td>2018-06-10</td>\n",
       "      <td>36.0</td>\n",
       "      <td>June</td>\n",
       "      <td>2018</td>\n",
       "      <td>Connected call</td>\n",
       "    </tr>\n",
       "    <tr>\n",
       "      <th>129871</th>\n",
       "      <td>1467_107</td>\n",
       "      <td>1467</td>\n",
       "      <td>2018-08-11</td>\n",
       "      <td>37.0</td>\n",
       "      <td>August</td>\n",
       "      <td>2018</td>\n",
       "      <td>Connected call</td>\n",
       "    </tr>\n",
       "    <tr>\n",
       "      <th>31355</th>\n",
       "      <td>1117_329</td>\n",
       "      <td>1117</td>\n",
       "      <td>2018-09-10</td>\n",
       "      <td>38.0</td>\n",
       "      <td>September</td>\n",
       "      <td>2018</td>\n",
       "      <td>Connected call</td>\n",
       "    </tr>\n",
       "  </tbody>\n",
       "</table>\n",
       "</div>"
      ],
      "text/plain": [
       "              id  user_id  call_date  duration      month  year  \\\n",
       "31180   1117_154     1117 2018-09-11      36.0  September  2018   \n",
       "92135    1331_26     1331 2018-11-14      36.0   November  2018   \n",
       "133587  1483_438     1483 2018-06-10      36.0       June  2018   \n",
       "129871  1467_107     1467 2018-08-11      37.0     August  2018   \n",
       "31355   1117_329     1117 2018-09-10      38.0  September  2018   \n",
       "\n",
       "             call_type  \n",
       "31180   Connected call  \n",
       "92135   Connected call  \n",
       "133587  Connected call  \n",
       "129871  Connected call  \n",
       "31355   Connected call  "
      ]
     },
     "execution_count": 23,
     "metadata": {},
     "output_type": "execute_result"
    }
   ],
   "source": [
    "calls.sort_values('duration').tail()"
   ]
  },
  {
   "cell_type": "code",
   "execution_count": 24,
   "metadata": {
    "scrolled": true
   },
   "outputs": [
    {
     "data": {
      "text/plain": [
       "id                   object\n",
       "user_id               int64\n",
       "call_date    datetime64[ns]\n",
       "duration            float64\n",
       "month                object\n",
       "year                  int64\n",
       "call_type            object\n",
       "dtype: object"
      ]
     },
     "execution_count": 24,
     "metadata": {},
     "output_type": "execute_result"
    }
   ],
   "source": [
    "calls.dtypes"
   ]
  },
  {
   "cell_type": "markdown",
   "metadata": {},
   "source": [
    "#### Internet | Fix data & enrich data\n"
   ]
  },
  {
   "cell_type": "markdown",
   "metadata": {},
   "source": [
    " "
   ]
  },
  {
   "cell_type": "code",
   "execution_count": 25,
   "metadata": {
    "scrolled": true
   },
   "outputs": [
    {
     "data": {
      "text/plain": [
       "id              0\n",
       "user_id         0\n",
       "session_date    0\n",
       "mb_used         0\n",
       "dtype: int64"
      ]
     },
     "execution_count": 25,
     "metadata": {},
     "output_type": "execute_result"
    }
   ],
   "source": [
    "internet.isna().sum()"
   ]
  },
  {
   "cell_type": "code",
   "execution_count": 26,
   "metadata": {},
   "outputs": [
    {
     "data": {
      "text/html": [
       "<div>\n",
       "<style scoped>\n",
       "    .dataframe tbody tr th:only-of-type {\n",
       "        vertical-align: middle;\n",
       "    }\n",
       "\n",
       "    .dataframe tbody tr th {\n",
       "        vertical-align: top;\n",
       "    }\n",
       "\n",
       "    .dataframe thead th {\n",
       "        text-align: right;\n",
       "    }\n",
       "</style>\n",
       "<table border=\"1\" class=\"dataframe\">\n",
       "  <thead>\n",
       "    <tr style=\"text-align: right;\">\n",
       "      <th></th>\n",
       "      <th>id</th>\n",
       "      <th>user_id</th>\n",
       "      <th>session_date</th>\n",
       "      <th>mb_used</th>\n",
       "    </tr>\n",
       "  </thead>\n",
       "  <tbody>\n",
       "    <tr>\n",
       "      <th>68534</th>\n",
       "      <td>1320_198</td>\n",
       "      <td>1320</td>\n",
       "      <td>2018-10-25</td>\n",
       "      <td>1604.46</td>\n",
       "    </tr>\n",
       "    <tr>\n",
       "      <th>37647</th>\n",
       "      <td>1171_18</td>\n",
       "      <td>1171</td>\n",
       "      <td>2018-03-02</td>\n",
       "      <td>1634.39</td>\n",
       "    </tr>\n",
       "    <tr>\n",
       "      <th>87217</th>\n",
       "      <td>1404_84</td>\n",
       "      <td>1404</td>\n",
       "      <td>2018-12-15</td>\n",
       "      <td>1636.47</td>\n",
       "    </tr>\n",
       "    <tr>\n",
       "      <th>4683</th>\n",
       "      <td>1028_241</td>\n",
       "      <td>1028</td>\n",
       "      <td>2018-03-14</td>\n",
       "      <td>1668.03</td>\n",
       "    </tr>\n",
       "    <tr>\n",
       "      <th>92312</th>\n",
       "      <td>1430_447</td>\n",
       "      <td>1430</td>\n",
       "      <td>2018-12-30</td>\n",
       "      <td>1693.47</td>\n",
       "    </tr>\n",
       "  </tbody>\n",
       "</table>\n",
       "</div>"
      ],
      "text/plain": [
       "             id  user_id session_date  mb_used\n",
       "68534  1320_198     1320   2018-10-25  1604.46\n",
       "37647   1171_18     1171   2018-03-02  1634.39\n",
       "87217   1404_84     1404   2018-12-15  1636.47\n",
       "4683   1028_241     1028   2018-03-14  1668.03\n",
       "92312  1430_447     1430   2018-12-30  1693.47"
      ]
     },
     "execution_count": 26,
     "metadata": {},
     "output_type": "execute_result"
    }
   ],
   "source": [
    "internet.sort_values('mb_used').tail()"
   ]
  },
  {
   "cell_type": "code",
   "execution_count": 27,
   "metadata": {},
   "outputs": [],
   "source": [
    "#convert call_date column to date type\n",
    "internet['session_date'] = pd.to_datetime(internet['session_date'], format='%Y-%m-%d %H:%M:%S')\n",
    "internet['gb_used'] = (internet['mb_used']/1024).apply(np.ceil)\n"
   ]
  },
  {
   "cell_type": "code",
   "execution_count": 28,
   "metadata": {},
   "outputs": [],
   "source": [
    "#apply function to change datatype to datetime and create 3 columns with day, month and year\n",
    "internet = get_date(internet)"
   ]
  },
  {
   "cell_type": "code",
   "execution_count": 29,
   "metadata": {},
   "outputs": [
    {
     "data": {
      "text/html": [
       "<div>\n",
       "<style scoped>\n",
       "    .dataframe tbody tr th:only-of-type {\n",
       "        vertical-align: middle;\n",
       "    }\n",
       "\n",
       "    .dataframe tbody tr th {\n",
       "        vertical-align: top;\n",
       "    }\n",
       "\n",
       "    .dataframe thead th {\n",
       "        text-align: right;\n",
       "    }\n",
       "</style>\n",
       "<table border=\"1\" class=\"dataframe\">\n",
       "  <thead>\n",
       "    <tr style=\"text-align: right;\">\n",
       "      <th></th>\n",
       "      <th>id</th>\n",
       "      <th>user_id</th>\n",
       "      <th>session_date</th>\n",
       "      <th>mb_used</th>\n",
       "      <th>gb_used</th>\n",
       "      <th>month</th>\n",
       "      <th>year</th>\n",
       "    </tr>\n",
       "  </thead>\n",
       "  <tbody>\n",
       "    <tr>\n",
       "      <th>45788</th>\n",
       "      <td>1203_113</td>\n",
       "      <td>1203</td>\n",
       "      <td>2018-08-08</td>\n",
       "      <td>1068.11</td>\n",
       "      <td>2.0</td>\n",
       "      <td>August</td>\n",
       "      <td>2018</td>\n",
       "    </tr>\n",
       "    <tr>\n",
       "      <th>100405</th>\n",
       "      <td>1475_198</td>\n",
       "      <td>1475</td>\n",
       "      <td>2018-08-26</td>\n",
       "      <td>1071.71</td>\n",
       "      <td>2.0</td>\n",
       "      <td>August</td>\n",
       "      <td>2018</td>\n",
       "    </tr>\n",
       "    <tr>\n",
       "      <th>92961</th>\n",
       "      <td>1434_193</td>\n",
       "      <td>1434</td>\n",
       "      <td>2018-03-15</td>\n",
       "      <td>1066.09</td>\n",
       "      <td>2.0</td>\n",
       "      <td>March</td>\n",
       "      <td>2018</td>\n",
       "    </tr>\n",
       "    <tr>\n",
       "      <th>78771</th>\n",
       "      <td>1367_394</td>\n",
       "      <td>1367</td>\n",
       "      <td>2018-11-30</td>\n",
       "      <td>1054.59</td>\n",
       "      <td>2.0</td>\n",
       "      <td>November</td>\n",
       "      <td>2018</td>\n",
       "    </tr>\n",
       "    <tr>\n",
       "      <th>90981</th>\n",
       "      <td>1418_245</td>\n",
       "      <td>1418</td>\n",
       "      <td>2018-11-06</td>\n",
       "      <td>1113.05</td>\n",
       "      <td>2.0</td>\n",
       "      <td>November</td>\n",
       "      <td>2018</td>\n",
       "    </tr>\n",
       "    <tr>\n",
       "      <th>80957</th>\n",
       "      <td>1379_21</td>\n",
       "      <td>1379</td>\n",
       "      <td>2018-12-06</td>\n",
       "      <td>1039.08</td>\n",
       "      <td>2.0</td>\n",
       "      <td>December</td>\n",
       "      <td>2018</td>\n",
       "    </tr>\n",
       "    <tr>\n",
       "      <th>31627</th>\n",
       "      <td>1144_363</td>\n",
       "      <td>1144</td>\n",
       "      <td>2018-11-04</td>\n",
       "      <td>1065.52</td>\n",
       "      <td>2.0</td>\n",
       "      <td>November</td>\n",
       "      <td>2018</td>\n",
       "    </tr>\n",
       "    <tr>\n",
       "      <th>13431</th>\n",
       "      <td>1062_401</td>\n",
       "      <td>1062</td>\n",
       "      <td>2018-12-08</td>\n",
       "      <td>1041.44</td>\n",
       "      <td>2.0</td>\n",
       "      <td>December</td>\n",
       "      <td>2018</td>\n",
       "    </tr>\n",
       "    <tr>\n",
       "      <th>1364</th>\n",
       "      <td>1008_75</td>\n",
       "      <td>1008</td>\n",
       "      <td>2018-12-27</td>\n",
       "      <td>1111.83</td>\n",
       "      <td>2.0</td>\n",
       "      <td>December</td>\n",
       "      <td>2018</td>\n",
       "    </tr>\n",
       "    <tr>\n",
       "      <th>87070</th>\n",
       "      <td>1403_418</td>\n",
       "      <td>1403</td>\n",
       "      <td>2018-04-16</td>\n",
       "      <td>1092.25</td>\n",
       "      <td>2.0</td>\n",
       "      <td>April</td>\n",
       "      <td>2018</td>\n",
       "    </tr>\n",
       "    <tr>\n",
       "      <th>32854</th>\n",
       "      <td>1147_507</td>\n",
       "      <td>1147</td>\n",
       "      <td>2018-06-28</td>\n",
       "      <td>1170.13</td>\n",
       "      <td>2.0</td>\n",
       "      <td>June</td>\n",
       "      <td>2018</td>\n",
       "    </tr>\n",
       "    <tr>\n",
       "      <th>96545</th>\n",
       "      <td>1454_1</td>\n",
       "      <td>1454</td>\n",
       "      <td>2018-08-26</td>\n",
       "      <td>1046.81</td>\n",
       "      <td>2.0</td>\n",
       "      <td>August</td>\n",
       "      <td>2018</td>\n",
       "    </tr>\n",
       "    <tr>\n",
       "      <th>1369</th>\n",
       "      <td>1008_80</td>\n",
       "      <td>1008</td>\n",
       "      <td>2018-11-27</td>\n",
       "      <td>1061.33</td>\n",
       "      <td>2.0</td>\n",
       "      <td>November</td>\n",
       "      <td>2018</td>\n",
       "    </tr>\n",
       "    <tr>\n",
       "      <th>24999</th>\n",
       "      <td>1115_302</td>\n",
       "      <td>1115</td>\n",
       "      <td>2018-12-01</td>\n",
       "      <td>1030.90</td>\n",
       "      <td>2.0</td>\n",
       "      <td>December</td>\n",
       "      <td>2018</td>\n",
       "    </tr>\n",
       "    <tr>\n",
       "      <th>46611</th>\n",
       "      <td>1206_566</td>\n",
       "      <td>1206</td>\n",
       "      <td>2018-11-19</td>\n",
       "      <td>1071.78</td>\n",
       "      <td>2.0</td>\n",
       "      <td>November</td>\n",
       "      <td>2018</td>\n",
       "    </tr>\n",
       "    <tr>\n",
       "      <th>96626</th>\n",
       "      <td>1454_82</td>\n",
       "      <td>1454</td>\n",
       "      <td>2018-12-27</td>\n",
       "      <td>1194.76</td>\n",
       "      <td>2.0</td>\n",
       "      <td>December</td>\n",
       "      <td>2018</td>\n",
       "    </tr>\n",
       "  </tbody>\n",
       "</table>\n",
       "</div>"
      ],
      "text/plain": [
       "              id  user_id session_date  mb_used  gb_used     month  year\n",
       "45788   1203_113     1203   2018-08-08  1068.11      2.0    August  2018\n",
       "100405  1475_198     1475   2018-08-26  1071.71      2.0    August  2018\n",
       "92961   1434_193     1434   2018-03-15  1066.09      2.0     March  2018\n",
       "78771   1367_394     1367   2018-11-30  1054.59      2.0  November  2018\n",
       "90981   1418_245     1418   2018-11-06  1113.05      2.0  November  2018\n",
       "80957    1379_21     1379   2018-12-06  1039.08      2.0  December  2018\n",
       "31627   1144_363     1144   2018-11-04  1065.52      2.0  November  2018\n",
       "13431   1062_401     1062   2018-12-08  1041.44      2.0  December  2018\n",
       "1364     1008_75     1008   2018-12-27  1111.83      2.0  December  2018\n",
       "87070   1403_418     1403   2018-04-16  1092.25      2.0     April  2018\n",
       "32854   1147_507     1147   2018-06-28  1170.13      2.0      June  2018\n",
       "96545     1454_1     1454   2018-08-26  1046.81      2.0    August  2018\n",
       "1369     1008_80     1008   2018-11-27  1061.33      2.0  November  2018\n",
       "24999   1115_302     1115   2018-12-01  1030.90      2.0  December  2018\n",
       "46611   1206_566     1206   2018-11-19  1071.78      2.0  November  2018\n",
       "96626    1454_82     1454   2018-12-27  1194.76      2.0  December  2018"
      ]
     },
     "execution_count": 29,
     "metadata": {},
     "output_type": "execute_result"
    }
   ],
   "source": [
    "internet.sort_values('gb_used').tail(16)"
   ]
  },
  {
   "cell_type": "code",
   "execution_count": 30,
   "metadata": {
    "scrolled": true
   },
   "outputs": [
    {
     "data": {
      "text/plain": [
       "id                      object\n",
       "user_id                  int64\n",
       "session_date    datetime64[ns]\n",
       "mb_used                float64\n",
       "gb_used                float64\n",
       "month                   object\n",
       "year                     int64\n",
       "dtype: object"
      ]
     },
     "execution_count": 30,
     "metadata": {},
     "output_type": "execute_result"
    }
   ],
   "source": [
    "internet.dtypes"
   ]
  },
  {
   "cell_type": "markdown",
   "metadata": {},
   "source": [
    "#### Messages | Fix data & enrich data\n",
    "\n"
   ]
  },
  {
   "cell_type": "code",
   "execution_count": 31,
   "metadata": {},
   "outputs": [
    {
     "data": {
      "text/plain": [
       "id              0\n",
       "user_id         0\n",
       "message_date    0\n",
       "dtype: int64"
      ]
     },
     "execution_count": 31,
     "metadata": {},
     "output_type": "execute_result"
    }
   ],
   "source": [
    "messages.isna().sum()"
   ]
  },
  {
   "cell_type": "code",
   "execution_count": 32,
   "metadata": {},
   "outputs": [],
   "source": [
    "#convert call_date column to date type\n",
    "messages['message_date'] = pd.to_datetime(messages['message_date'], format='%Y-%m-%d %H:%M:%S')"
   ]
  },
  {
   "cell_type": "code",
   "execution_count": 33,
   "metadata": {},
   "outputs": [],
   "source": [
    "#apply function to change datatype to datetime and create 3 columns with day, month and year\n",
    "messages = get_date(messages)"
   ]
  },
  {
   "cell_type": "code",
   "execution_count": 34,
   "metadata": {
    "scrolled": true
   },
   "outputs": [
    {
     "data": {
      "text/html": [
       "<div>\n",
       "<style scoped>\n",
       "    .dataframe tbody tr th:only-of-type {\n",
       "        vertical-align: middle;\n",
       "    }\n",
       "\n",
       "    .dataframe tbody tr th {\n",
       "        vertical-align: top;\n",
       "    }\n",
       "\n",
       "    .dataframe thead th {\n",
       "        text-align: right;\n",
       "    }\n",
       "</style>\n",
       "<table border=\"1\" class=\"dataframe\">\n",
       "  <thead>\n",
       "    <tr style=\"text-align: right;\">\n",
       "      <th></th>\n",
       "      <th>id</th>\n",
       "      <th>user_id</th>\n",
       "      <th>message_date</th>\n",
       "      <th>month</th>\n",
       "      <th>year</th>\n",
       "    </tr>\n",
       "  </thead>\n",
       "  <tbody>\n",
       "    <tr>\n",
       "      <th>0</th>\n",
       "      <td>1000_125</td>\n",
       "      <td>1000</td>\n",
       "      <td>2018-12-27</td>\n",
       "      <td>December</td>\n",
       "      <td>2018</td>\n",
       "    </tr>\n",
       "    <tr>\n",
       "      <th>1</th>\n",
       "      <td>1000_160</td>\n",
       "      <td>1000</td>\n",
       "      <td>2018-12-31</td>\n",
       "      <td>December</td>\n",
       "      <td>2018</td>\n",
       "    </tr>\n",
       "    <tr>\n",
       "      <th>2</th>\n",
       "      <td>1000_223</td>\n",
       "      <td>1000</td>\n",
       "      <td>2018-12-31</td>\n",
       "      <td>December</td>\n",
       "      <td>2018</td>\n",
       "    </tr>\n",
       "    <tr>\n",
       "      <th>3</th>\n",
       "      <td>1000_251</td>\n",
       "      <td>1000</td>\n",
       "      <td>2018-12-27</td>\n",
       "      <td>December</td>\n",
       "      <td>2018</td>\n",
       "    </tr>\n",
       "    <tr>\n",
       "      <th>4</th>\n",
       "      <td>1000_255</td>\n",
       "      <td>1000</td>\n",
       "      <td>2018-12-26</td>\n",
       "      <td>December</td>\n",
       "      <td>2018</td>\n",
       "    </tr>\n",
       "  </tbody>\n",
       "</table>\n",
       "</div>"
      ],
      "text/plain": [
       "         id  user_id message_date     month  year\n",
       "0  1000_125     1000   2018-12-27  December  2018\n",
       "1  1000_160     1000   2018-12-31  December  2018\n",
       "2  1000_223     1000   2018-12-31  December  2018\n",
       "3  1000_251     1000   2018-12-27  December  2018\n",
       "4  1000_255     1000   2018-12-26  December  2018"
      ]
     },
     "execution_count": 34,
     "metadata": {},
     "output_type": "execute_result"
    }
   ],
   "source": [
    "messages.head()"
   ]
  },
  {
   "cell_type": "code",
   "execution_count": 35,
   "metadata": {
    "scrolled": false
   },
   "outputs": [
    {
     "data": {
      "text/plain": [
       "id                      object\n",
       "user_id                  int64\n",
       "message_date    datetime64[ns]\n",
       "month                   object\n",
       "year                     int64\n",
       "dtype: object"
      ]
     },
     "execution_count": 35,
     "metadata": {},
     "output_type": "execute_result"
    }
   ],
   "source": [
    "messages.dtypes"
   ]
  },
  {
   "cell_type": "markdown",
   "metadata": {},
   "source": [
    "#### Plans | Fix data & enrich data\n",
    " - We have only 2 rows with the description of each plan. We will fill this info once we have our new table merged with all the info we need and asign each plan info to each user, based on `plan_name`"
   ]
  },
  {
   "cell_type": "code",
   "execution_count": 36,
   "metadata": {
    "scrolled": true
   },
   "outputs": [
    {
     "data": {
      "text/html": [
       "<div>\n",
       "<style scoped>\n",
       "    .dataframe tbody tr th:only-of-type {\n",
       "        vertical-align: middle;\n",
       "    }\n",
       "\n",
       "    .dataframe tbody tr th {\n",
       "        vertical-align: top;\n",
       "    }\n",
       "\n",
       "    .dataframe thead th {\n",
       "        text-align: right;\n",
       "    }\n",
       "</style>\n",
       "<table border=\"1\" class=\"dataframe\">\n",
       "  <thead>\n",
       "    <tr style=\"text-align: right;\">\n",
       "      <th></th>\n",
       "      <th>messages_included</th>\n",
       "      <th>mb_per_month_included</th>\n",
       "      <th>minutes_included</th>\n",
       "      <th>usd_monthly_pay</th>\n",
       "      <th>usd_per_gb</th>\n",
       "      <th>usd_per_message</th>\n",
       "      <th>usd_per_minute</th>\n",
       "      <th>plan_name</th>\n",
       "    </tr>\n",
       "  </thead>\n",
       "  <tbody>\n",
       "    <tr>\n",
       "      <th>0</th>\n",
       "      <td>50</td>\n",
       "      <td>15360</td>\n",
       "      <td>500</td>\n",
       "      <td>20</td>\n",
       "      <td>10</td>\n",
       "      <td>0.03</td>\n",
       "      <td>0.03</td>\n",
       "      <td>surf</td>\n",
       "    </tr>\n",
       "    <tr>\n",
       "      <th>1</th>\n",
       "      <td>1000</td>\n",
       "      <td>30720</td>\n",
       "      <td>3000</td>\n",
       "      <td>70</td>\n",
       "      <td>7</td>\n",
       "      <td>0.01</td>\n",
       "      <td>0.01</td>\n",
       "      <td>ultimate</td>\n",
       "    </tr>\n",
       "  </tbody>\n",
       "</table>\n",
       "</div>"
      ],
      "text/plain": [
       "   messages_included  mb_per_month_included  minutes_included  \\\n",
       "0                 50                  15360               500   \n",
       "1               1000                  30720              3000   \n",
       "\n",
       "   usd_monthly_pay  usd_per_gb  usd_per_message  usd_per_minute plan_name  \n",
       "0               20          10             0.03            0.03      surf  \n",
       "1               70           7             0.01            0.01  ultimate  "
      ]
     },
     "execution_count": 36,
     "metadata": {},
     "output_type": "execute_result"
    }
   ],
   "source": [
    "plans.head()"
   ]
  },
  {
   "cell_type": "code",
   "execution_count": 37,
   "metadata": {},
   "outputs": [],
   "source": [
    "plans['gb_per_month_included'] = (plans['mb_per_month_included']/1024).round()"
   ]
  },
  {
   "cell_type": "code",
   "execution_count": 38,
   "metadata": {},
   "outputs": [
    {
     "data": {
      "text/html": [
       "<div>\n",
       "<style scoped>\n",
       "    .dataframe tbody tr th:only-of-type {\n",
       "        vertical-align: middle;\n",
       "    }\n",
       "\n",
       "    .dataframe tbody tr th {\n",
       "        vertical-align: top;\n",
       "    }\n",
       "\n",
       "    .dataframe thead th {\n",
       "        text-align: right;\n",
       "    }\n",
       "</style>\n",
       "<table border=\"1\" class=\"dataframe\">\n",
       "  <thead>\n",
       "    <tr style=\"text-align: right;\">\n",
       "      <th></th>\n",
       "      <th>messages_included</th>\n",
       "      <th>mb_per_month_included</th>\n",
       "      <th>minutes_included</th>\n",
       "      <th>usd_monthly_pay</th>\n",
       "      <th>usd_per_gb</th>\n",
       "      <th>usd_per_message</th>\n",
       "      <th>usd_per_minute</th>\n",
       "      <th>plan_name</th>\n",
       "      <th>gb_per_month_included</th>\n",
       "    </tr>\n",
       "  </thead>\n",
       "  <tbody>\n",
       "    <tr>\n",
       "      <th>0</th>\n",
       "      <td>50</td>\n",
       "      <td>15360</td>\n",
       "      <td>500</td>\n",
       "      <td>20</td>\n",
       "      <td>10</td>\n",
       "      <td>0.03</td>\n",
       "      <td>0.03</td>\n",
       "      <td>surf</td>\n",
       "      <td>15.0</td>\n",
       "    </tr>\n",
       "    <tr>\n",
       "      <th>1</th>\n",
       "      <td>1000</td>\n",
       "      <td>30720</td>\n",
       "      <td>3000</td>\n",
       "      <td>70</td>\n",
       "      <td>7</td>\n",
       "      <td>0.01</td>\n",
       "      <td>0.01</td>\n",
       "      <td>ultimate</td>\n",
       "      <td>30.0</td>\n",
       "    </tr>\n",
       "  </tbody>\n",
       "</table>\n",
       "</div>"
      ],
      "text/plain": [
       "   messages_included  mb_per_month_included  minutes_included  \\\n",
       "0                 50                  15360               500   \n",
       "1               1000                  30720              3000   \n",
       "\n",
       "   usd_monthly_pay  usd_per_gb  usd_per_message  usd_per_minute plan_name  \\\n",
       "0               20          10             0.03            0.03      surf   \n",
       "1               70           7             0.01            0.01  ultimate   \n",
       "\n",
       "   gb_per_month_included  \n",
       "0                   15.0  \n",
       "1                   30.0  "
      ]
     },
     "execution_count": 38,
     "metadata": {},
     "output_type": "execute_result"
    }
   ],
   "source": [
    "plans.head()"
   ]
  },
  {
   "cell_type": "markdown",
   "metadata": {},
   "source": [
    "#### Users | Fix data & enrich data\n",
    "\n",
    "- Missing values - we have missing values on `churn_date` but we won't fill them, because those missing values mean the user was still using the service. We will create later on a separate table with our churned users to better understand what happened with them\n",
    "- Duplicated data - we do not have any duplicates. \n",
    "- Change data types if necessary - changing dates columns\n",
    "\n",
    "- We have some churned users, but they represent only 7% of our dataset"
   ]
  },
  {
   "cell_type": "code",
   "execution_count": 39,
   "metadata": {
    "scrolled": true
   },
   "outputs": [
    {
     "data": {
      "text/plain": [
       "user_id         0\n",
       "first_name      0\n",
       "last_name       0\n",
       "age             0\n",
       "city            0\n",
       "reg_date        0\n",
       "plan            0\n",
       "churn_date    466\n",
       "dtype: int64"
      ]
     },
     "execution_count": 39,
     "metadata": {},
     "output_type": "execute_result"
    }
   ],
   "source": [
    "users.isna().sum()"
   ]
  },
  {
   "cell_type": "code",
   "execution_count": 40,
   "metadata": {},
   "outputs": [
    {
     "data": {
      "text/plain": [
       "0"
      ]
     },
     "execution_count": 40,
     "metadata": {},
     "output_type": "execute_result"
    }
   ],
   "source": [
    "users.duplicated().sum()"
   ]
  },
  {
   "cell_type": "code",
   "execution_count": 41,
   "metadata": {},
   "outputs": [],
   "source": [
    "#convert call_date column to date type\n",
    "users['churn_date'] = pd.to_datetime(users['churn_date'], format='%Y-%m-%d %H:%M:%S')"
   ]
  },
  {
   "cell_type": "code",
   "execution_count": 42,
   "metadata": {},
   "outputs": [],
   "source": [
    "#new column: customer churn\n",
    "users['customer_churn'] = np.where(users['churn_date'].isnull(),'No churn','Churn')"
   ]
  },
  {
   "cell_type": "code",
   "execution_count": 43,
   "metadata": {},
   "outputs": [],
   "source": [
    "#change reg_date column name for 'subscription_date'\n",
    "users.rename(columns={'reg_date':'subscription_date'}, inplace=True)"
   ]
  },
  {
   "cell_type": "code",
   "execution_count": 44,
   "metadata": {},
   "outputs": [],
   "source": [
    "users = get_date(users)"
   ]
  },
  {
   "cell_type": "code",
   "execution_count": 45,
   "metadata": {},
   "outputs": [],
   "source": [
    "#rename plan for 'plan_name' to adjust to the plans table \n",
    "users=users.rename(columns = {'plan':'plan_name', 'month': 'subscription_month'})"
   ]
  },
  {
   "cell_type": "code",
   "execution_count": 46,
   "metadata": {
    "scrolled": true
   },
   "outputs": [
    {
     "data": {
      "text/html": [
       "<div>\n",
       "<style scoped>\n",
       "    .dataframe tbody tr th:only-of-type {\n",
       "        vertical-align: middle;\n",
       "    }\n",
       "\n",
       "    .dataframe tbody tr th {\n",
       "        vertical-align: top;\n",
       "    }\n",
       "\n",
       "    .dataframe thead th {\n",
       "        text-align: right;\n",
       "    }\n",
       "</style>\n",
       "<table border=\"1\" class=\"dataframe\">\n",
       "  <thead>\n",
       "    <tr style=\"text-align: right;\">\n",
       "      <th></th>\n",
       "      <th>user_id</th>\n",
       "      <th>first_name</th>\n",
       "      <th>last_name</th>\n",
       "      <th>age</th>\n",
       "      <th>city</th>\n",
       "      <th>subscription_date</th>\n",
       "      <th>plan_name</th>\n",
       "      <th>churn_date</th>\n",
       "      <th>customer_churn</th>\n",
       "      <th>subscription_month</th>\n",
       "      <th>year</th>\n",
       "    </tr>\n",
       "  </thead>\n",
       "  <tbody>\n",
       "    <tr>\n",
       "      <th>246</th>\n",
       "      <td>1246</td>\n",
       "      <td>Stevie</td>\n",
       "      <td>Moran</td>\n",
       "      <td>69</td>\n",
       "      <td>Tampa-St. Petersburg-Clearwater, FL MSA</td>\n",
       "      <td>2018-01-09</td>\n",
       "      <td>ultimate</td>\n",
       "      <td>2018-07-31</td>\n",
       "      <td>Churn</td>\n",
       "      <td>January</td>\n",
       "      <td>2018</td>\n",
       "    </tr>\n",
       "    <tr>\n",
       "      <th>363</th>\n",
       "      <td>1363</td>\n",
       "      <td>Sandee</td>\n",
       "      <td>Lott</td>\n",
       "      <td>33</td>\n",
       "      <td>Seattle-Tacoma-Bellevue, WA MSA</td>\n",
       "      <td>2018-01-05</td>\n",
       "      <td>ultimate</td>\n",
       "      <td>2018-08-16</td>\n",
       "      <td>Churn</td>\n",
       "      <td>January</td>\n",
       "      <td>2018</td>\n",
       "    </tr>\n",
       "    <tr>\n",
       "      <th>441</th>\n",
       "      <td>1441</td>\n",
       "      <td>Piedad</td>\n",
       "      <td>Myers</td>\n",
       "      <td>23</td>\n",
       "      <td>Atlanta-Sandy Springs-Roswell, GA MSA</td>\n",
       "      <td>2018-03-08</td>\n",
       "      <td>ultimate</td>\n",
       "      <td>2018-08-19</td>\n",
       "      <td>Churn</td>\n",
       "      <td>March</td>\n",
       "      <td>2018</td>\n",
       "    </tr>\n",
       "    <tr>\n",
       "      <th>414</th>\n",
       "      <td>1414</td>\n",
       "      <td>Georgianne</td>\n",
       "      <td>Herring</td>\n",
       "      <td>30</td>\n",
       "      <td>Urban Honolulu, HI MSA</td>\n",
       "      <td>2018-03-03</td>\n",
       "      <td>surf</td>\n",
       "      <td>2018-09-01</td>\n",
       "      <td>Churn</td>\n",
       "      <td>March</td>\n",
       "      <td>2018</td>\n",
       "    </tr>\n",
       "    <tr>\n",
       "      <th>22</th>\n",
       "      <td>1022</td>\n",
       "      <td>Bo</td>\n",
       "      <td>Snow</td>\n",
       "      <td>73</td>\n",
       "      <td>New York-Newark-Jersey City, NY-NJ-PA MSA</td>\n",
       "      <td>2018-04-20</td>\n",
       "      <td>surf</td>\n",
       "      <td>2018-09-07</td>\n",
       "      <td>Churn</td>\n",
       "      <td>April</td>\n",
       "      <td>2018</td>\n",
       "    </tr>\n",
       "  </tbody>\n",
       "</table>\n",
       "</div>"
      ],
      "text/plain": [
       "     user_id  first_name last_name  age  \\\n",
       "246     1246      Stevie     Moran   69   \n",
       "363     1363      Sandee      Lott   33   \n",
       "441     1441      Piedad     Myers   23   \n",
       "414     1414  Georgianne   Herring   30   \n",
       "22      1022          Bo      Snow   73   \n",
       "\n",
       "                                          city subscription_date plan_name  \\\n",
       "246    Tampa-St. Petersburg-Clearwater, FL MSA        2018-01-09  ultimate   \n",
       "363            Seattle-Tacoma-Bellevue, WA MSA        2018-01-05  ultimate   \n",
       "441      Atlanta-Sandy Springs-Roswell, GA MSA        2018-03-08  ultimate   \n",
       "414                     Urban Honolulu, HI MSA        2018-03-03      surf   \n",
       "22   New York-Newark-Jersey City, NY-NJ-PA MSA        2018-04-20      surf   \n",
       "\n",
       "    churn_date customer_churn subscription_month  year  \n",
       "246 2018-07-31          Churn            January  2018  \n",
       "363 2018-08-16          Churn            January  2018  \n",
       "441 2018-08-19          Churn              March  2018  \n",
       "414 2018-09-01          Churn              March  2018  \n",
       "22  2018-09-07          Churn              April  2018  "
      ]
     },
     "execution_count": 46,
     "metadata": {},
     "output_type": "execute_result"
    }
   ],
   "source": [
    "users.sort_values('churn_date').head()"
   ]
  },
  {
   "cell_type": "code",
   "execution_count": 47,
   "metadata": {},
   "outputs": [
    {
     "data": {
      "text/plain": [
       "6.800000000000001"
      ]
     },
     "execution_count": 47,
     "metadata": {},
     "output_type": "execute_result"
    }
   ],
   "source": [
    "users['churn_date'].count() / users['churn_date'].shape[0] * 100"
   ]
  },
  {
   "cell_type": "code",
   "execution_count": 48,
   "metadata": {},
   "outputs": [
    {
     "data": {
      "text/plain": [
       "user_id                 0\n",
       "first_name              0\n",
       "last_name               0\n",
       "age                     0\n",
       "city                    0\n",
       "subscription_date       0\n",
       "plan_name               0\n",
       "churn_date            466\n",
       "customer_churn          0\n",
       "subscription_month      0\n",
       "year                    0\n",
       "dtype: int64"
      ]
     },
     "execution_count": 48,
     "metadata": {},
     "output_type": "execute_result"
    }
   ],
   "source": [
    "users.isna().sum()"
   ]
  },
  {
   "cell_type": "markdown",
   "metadata": {},
   "source": [
    "### Fix & Enrich the data conclusions:\n",
    "\n",
    "<span style=\"color:green\">**General:** </span> \n",
    "- We reviewed each dataset separately and fix those columns that were needed. \n",
    "- We have a set of 500 users divided into 2 different plans with different price fares\n",
    "\n",
    "<span style=\"color:green\">**Next steps:** </span> \n",
    "- We will connect the relevant tables to unify our data and work with the infomation combined. \n",
    "- We will study the behavior of the users based on the plan and the usage. "
   ]
  },
  {
   "cell_type": "markdown",
   "metadata": {},
   "source": [
    "### Study and aggregate the data for each user:"
   ]
  },
  {
   "cell_type": "code",
   "execution_count": 49,
   "metadata": {},
   "outputs": [
    {
     "name": "stdout",
     "output_type": "stream",
     "text": [
      "Total amount of users in our dataset:  500\n",
      "Unique users with info in calls:  481\n",
      "Unique users with info on internet usage:  489\n",
      "Unique users with info on messages sent:  402\n"
     ]
    }
   ],
   "source": [
    "print(\"Total amount of users in our dataset: \",users['user_id'].nunique())\n",
    "print(\"Unique users with info in calls: \",calls['user_id'].nunique())\n",
    "print(\"Unique users with info on internet usage: \",internet['user_id'].nunique())\n",
    "print(\"Unique users with info on messages sent: \",messages['user_id'].nunique())"
   ]
  },
  {
   "cell_type": "markdown",
   "metadata": {},
   "source": [
    "#### Study plan conditions"
   ]
  },
  {
   "cell_type": "code",
   "execution_count": 50,
   "metadata": {
    "scrolled": true
   },
   "outputs": [
    {
     "data": {
      "text/html": [
       "<div>\n",
       "<style scoped>\n",
       "    .dataframe tbody tr th:only-of-type {\n",
       "        vertical-align: middle;\n",
       "    }\n",
       "\n",
       "    .dataframe tbody tr th {\n",
       "        vertical-align: top;\n",
       "    }\n",
       "\n",
       "    .dataframe thead th {\n",
       "        text-align: right;\n",
       "    }\n",
       "</style>\n",
       "<table border=\"1\" class=\"dataframe\">\n",
       "  <thead>\n",
       "    <tr style=\"text-align: right;\">\n",
       "      <th></th>\n",
       "      <th>messages_included</th>\n",
       "      <th>mb_per_month_included</th>\n",
       "      <th>minutes_included</th>\n",
       "      <th>usd_monthly_pay</th>\n",
       "      <th>usd_per_gb</th>\n",
       "      <th>usd_per_message</th>\n",
       "      <th>usd_per_minute</th>\n",
       "      <th>plan_name</th>\n",
       "      <th>gb_per_month_included</th>\n",
       "    </tr>\n",
       "  </thead>\n",
       "  <tbody>\n",
       "    <tr>\n",
       "      <th>0</th>\n",
       "      <td>50</td>\n",
       "      <td>15360</td>\n",
       "      <td>500</td>\n",
       "      <td>20</td>\n",
       "      <td>10</td>\n",
       "      <td>0.03</td>\n",
       "      <td>0.03</td>\n",
       "      <td>surf</td>\n",
       "      <td>15.0</td>\n",
       "    </tr>\n",
       "    <tr>\n",
       "      <th>1</th>\n",
       "      <td>1000</td>\n",
       "      <td>30720</td>\n",
       "      <td>3000</td>\n",
       "      <td>70</td>\n",
       "      <td>7</td>\n",
       "      <td>0.01</td>\n",
       "      <td>0.01</td>\n",
       "      <td>ultimate</td>\n",
       "      <td>30.0</td>\n",
       "    </tr>\n",
       "  </tbody>\n",
       "</table>\n",
       "</div>"
      ],
      "text/plain": [
       "   messages_included  mb_per_month_included  minutes_included  \\\n",
       "0                 50                  15360               500   \n",
       "1               1000                  30720              3000   \n",
       "\n",
       "   usd_monthly_pay  usd_per_gb  usd_per_message  usd_per_minute plan_name  \\\n",
       "0               20          10             0.03            0.03      surf   \n",
       "1               70           7             0.01            0.01  ultimate   \n",
       "\n",
       "   gb_per_month_included  \n",
       "0                   15.0  \n",
       "1                   30.0  "
      ]
     },
     "execution_count": 50,
     "metadata": {},
     "output_type": "execute_result"
    }
   ],
   "source": [
    "# Print out the plan conditions and make sure they are clear\n",
    "plans.head()\n"
   ]
  },
  {
   "cell_type": "markdown",
   "metadata": {},
   "source": [
    "#### Aggregate data per user\n",
    "\n",
    "- The number of calls made and minutes used per month \n",
    "- The number of text messages sent per month\n",
    "- The volume of data per month\n",
    "- The monthly revenue from each user\n"
   ]
  },
  {
   "cell_type": "code",
   "execution_count": 51,
   "metadata": {
    "scrolled": true
   },
   "outputs": [
    {
     "data": {
      "text/html": [
       "<div>\n",
       "<style scoped>\n",
       "    .dataframe tbody tr th:only-of-type {\n",
       "        vertical-align: middle;\n",
       "    }\n",
       "\n",
       "    .dataframe tbody tr th {\n",
       "        vertical-align: top;\n",
       "    }\n",
       "\n",
       "    .dataframe thead th {\n",
       "        text-align: right;\n",
       "    }\n",
       "</style>\n",
       "<table border=\"1\" class=\"dataframe\">\n",
       "  <thead>\n",
       "    <tr style=\"text-align: right;\">\n",
       "      <th></th>\n",
       "      <th>id</th>\n",
       "      <th>user_id</th>\n",
       "      <th>call_date</th>\n",
       "      <th>duration</th>\n",
       "      <th>month</th>\n",
       "      <th>year</th>\n",
       "      <th>call_type</th>\n",
       "    </tr>\n",
       "  </thead>\n",
       "  <tbody>\n",
       "    <tr>\n",
       "      <th>0</th>\n",
       "      <td>1000_93</td>\n",
       "      <td>1000</td>\n",
       "      <td>2018-12-27</td>\n",
       "      <td>9.0</td>\n",
       "      <td>December</td>\n",
       "      <td>2018</td>\n",
       "      <td>Connected call</td>\n",
       "    </tr>\n",
       "    <tr>\n",
       "      <th>1</th>\n",
       "      <td>1000_145</td>\n",
       "      <td>1000</td>\n",
       "      <td>2018-12-27</td>\n",
       "      <td>14.0</td>\n",
       "      <td>December</td>\n",
       "      <td>2018</td>\n",
       "      <td>Connected call</td>\n",
       "    </tr>\n",
       "    <tr>\n",
       "      <th>2</th>\n",
       "      <td>1000_247</td>\n",
       "      <td>1000</td>\n",
       "      <td>2018-12-27</td>\n",
       "      <td>15.0</td>\n",
       "      <td>December</td>\n",
       "      <td>2018</td>\n",
       "      <td>Connected call</td>\n",
       "    </tr>\n",
       "    <tr>\n",
       "      <th>3</th>\n",
       "      <td>1000_309</td>\n",
       "      <td>1000</td>\n",
       "      <td>2018-12-28</td>\n",
       "      <td>6.0</td>\n",
       "      <td>December</td>\n",
       "      <td>2018</td>\n",
       "      <td>Connected call</td>\n",
       "    </tr>\n",
       "    <tr>\n",
       "      <th>4</th>\n",
       "      <td>1000_380</td>\n",
       "      <td>1000</td>\n",
       "      <td>2018-12-30</td>\n",
       "      <td>5.0</td>\n",
       "      <td>December</td>\n",
       "      <td>2018</td>\n",
       "      <td>Connected call</td>\n",
       "    </tr>\n",
       "  </tbody>\n",
       "</table>\n",
       "</div>"
      ],
      "text/plain": [
       "         id  user_id  call_date  duration     month  year       call_type\n",
       "0   1000_93     1000 2018-12-27       9.0  December  2018  Connected call\n",
       "1  1000_145     1000 2018-12-27      14.0  December  2018  Connected call\n",
       "2  1000_247     1000 2018-12-27      15.0  December  2018  Connected call\n",
       "3  1000_309     1000 2018-12-28       6.0  December  2018  Connected call\n",
       "4  1000_380     1000 2018-12-30       5.0  December  2018  Connected call"
      ]
     },
     "execution_count": 51,
     "metadata": {},
     "output_type": "execute_result"
    }
   ],
   "source": [
    "calls.head()"
   ]
  },
  {
   "cell_type": "code",
   "execution_count": 52,
   "metadata": {
    "scrolled": true
   },
   "outputs": [
    {
     "name": "stdout",
     "output_type": "stream",
     "text": [
      "Length of the dataframe:  2258\n"
     ]
    }
   ],
   "source": [
    "# Calculate the number of calls made by each user per month. Save the result.\n",
    "calls_monthly = calls.groupby(['user_id', 'month']).agg({'id': 'count'}).rename(columns={'id': 'total_calls_made'})\n",
    "print(\"Length of the dataframe: \",len(calls_monthly))\n"
   ]
  },
  {
   "cell_type": "code",
   "execution_count": 53,
   "metadata": {
    "scrolled": false
   },
   "outputs": [
    {
     "data": {
      "text/html": [
       "<div>\n",
       "<style scoped>\n",
       "    .dataframe tbody tr th:only-of-type {\n",
       "        vertical-align: middle;\n",
       "    }\n",
       "\n",
       "    .dataframe tbody tr th {\n",
       "        vertical-align: top;\n",
       "    }\n",
       "\n",
       "    .dataframe thead th {\n",
       "        text-align: right;\n",
       "    }\n",
       "</style>\n",
       "<table border=\"1\" class=\"dataframe\">\n",
       "  <thead>\n",
       "    <tr style=\"text-align: right;\">\n",
       "      <th></th>\n",
       "      <th></th>\n",
       "      <th>total_calls_made</th>\n",
       "    </tr>\n",
       "    <tr>\n",
       "      <th>user_id</th>\n",
       "      <th>month</th>\n",
       "      <th></th>\n",
       "    </tr>\n",
       "  </thead>\n",
       "  <tbody>\n",
       "    <tr>\n",
       "      <th>1000</th>\n",
       "      <th>December</th>\n",
       "      <td>16</td>\n",
       "    </tr>\n",
       "    <tr>\n",
       "      <th rowspan=\"4\" valign=\"top\">1001</th>\n",
       "      <th>August</th>\n",
       "      <td>27</td>\n",
       "    </tr>\n",
       "    <tr>\n",
       "      <th>December</th>\n",
       "      <td>56</td>\n",
       "    </tr>\n",
       "    <tr>\n",
       "      <th>November</th>\n",
       "      <td>64</td>\n",
       "    </tr>\n",
       "    <tr>\n",
       "      <th>October</th>\n",
       "      <td>65</td>\n",
       "    </tr>\n",
       "  </tbody>\n",
       "</table>\n",
       "</div>"
      ],
      "text/plain": [
       "                  total_calls_made\n",
       "user_id month                     \n",
       "1000    December                16\n",
       "1001    August                  27\n",
       "        December                56\n",
       "        November                64\n",
       "        October                 65"
      ]
     },
     "execution_count": 53,
     "metadata": {},
     "output_type": "execute_result"
    }
   ],
   "source": [
    "calls_monthly.head()"
   ]
  },
  {
   "cell_type": "code",
   "execution_count": 54,
   "metadata": {},
   "outputs": [
    {
     "data": {
      "text/html": [
       "<div>\n",
       "<style scoped>\n",
       "    .dataframe tbody tr th:only-of-type {\n",
       "        vertical-align: middle;\n",
       "    }\n",
       "\n",
       "    .dataframe tbody tr th {\n",
       "        vertical-align: top;\n",
       "    }\n",
       "\n",
       "    .dataframe thead th {\n",
       "        text-align: right;\n",
       "    }\n",
       "</style>\n",
       "<table border=\"1\" class=\"dataframe\">\n",
       "  <thead>\n",
       "    <tr style=\"text-align: right;\">\n",
       "      <th></th>\n",
       "      <th>id</th>\n",
       "      <th>user_id</th>\n",
       "      <th>call_date</th>\n",
       "      <th>duration</th>\n",
       "      <th>month</th>\n",
       "      <th>year</th>\n",
       "      <th>call_type</th>\n",
       "    </tr>\n",
       "  </thead>\n",
       "  <tbody>\n",
       "    <tr>\n",
       "      <th>0</th>\n",
       "      <td>1000_93</td>\n",
       "      <td>1000</td>\n",
       "      <td>2018-12-27</td>\n",
       "      <td>9.0</td>\n",
       "      <td>December</td>\n",
       "      <td>2018</td>\n",
       "      <td>Connected call</td>\n",
       "    </tr>\n",
       "    <tr>\n",
       "      <th>1</th>\n",
       "      <td>1000_145</td>\n",
       "      <td>1000</td>\n",
       "      <td>2018-12-27</td>\n",
       "      <td>14.0</td>\n",
       "      <td>December</td>\n",
       "      <td>2018</td>\n",
       "      <td>Connected call</td>\n",
       "    </tr>\n",
       "    <tr>\n",
       "      <th>2</th>\n",
       "      <td>1000_247</td>\n",
       "      <td>1000</td>\n",
       "      <td>2018-12-27</td>\n",
       "      <td>15.0</td>\n",
       "      <td>December</td>\n",
       "      <td>2018</td>\n",
       "      <td>Connected call</td>\n",
       "    </tr>\n",
       "    <tr>\n",
       "      <th>3</th>\n",
       "      <td>1000_309</td>\n",
       "      <td>1000</td>\n",
       "      <td>2018-12-28</td>\n",
       "      <td>6.0</td>\n",
       "      <td>December</td>\n",
       "      <td>2018</td>\n",
       "      <td>Connected call</td>\n",
       "    </tr>\n",
       "    <tr>\n",
       "      <th>4</th>\n",
       "      <td>1000_380</td>\n",
       "      <td>1000</td>\n",
       "      <td>2018-12-30</td>\n",
       "      <td>5.0</td>\n",
       "      <td>December</td>\n",
       "      <td>2018</td>\n",
       "      <td>Connected call</td>\n",
       "    </tr>\n",
       "    <tr>\n",
       "      <th>...</th>\n",
       "      <td>...</td>\n",
       "      <td>...</td>\n",
       "      <td>...</td>\n",
       "      <td>...</td>\n",
       "      <td>...</td>\n",
       "      <td>...</td>\n",
       "      <td>...</td>\n",
       "    </tr>\n",
       "    <tr>\n",
       "      <th>137730</th>\n",
       "      <td>1499_199</td>\n",
       "      <td>1499</td>\n",
       "      <td>2018-11-21</td>\n",
       "      <td>9.0</td>\n",
       "      <td>November</td>\n",
       "      <td>2018</td>\n",
       "      <td>Connected call</td>\n",
       "    </tr>\n",
       "    <tr>\n",
       "      <th>137731</th>\n",
       "      <td>1499_200</td>\n",
       "      <td>1499</td>\n",
       "      <td>2018-10-20</td>\n",
       "      <td>11.0</td>\n",
       "      <td>October</td>\n",
       "      <td>2018</td>\n",
       "      <td>Connected call</td>\n",
       "    </tr>\n",
       "    <tr>\n",
       "      <th>137732</th>\n",
       "      <td>1499_201</td>\n",
       "      <td>1499</td>\n",
       "      <td>2018-09-21</td>\n",
       "      <td>9.0</td>\n",
       "      <td>September</td>\n",
       "      <td>2018</td>\n",
       "      <td>Connected call</td>\n",
       "    </tr>\n",
       "    <tr>\n",
       "      <th>137733</th>\n",
       "      <td>1499_202</td>\n",
       "      <td>1499</td>\n",
       "      <td>2018-10-10</td>\n",
       "      <td>1.0</td>\n",
       "      <td>October</td>\n",
       "      <td>2018</td>\n",
       "      <td>Connected call</td>\n",
       "    </tr>\n",
       "    <tr>\n",
       "      <th>137734</th>\n",
       "      <td>1499_203</td>\n",
       "      <td>1499</td>\n",
       "      <td>2018-12-29</td>\n",
       "      <td>14.0</td>\n",
       "      <td>December</td>\n",
       "      <td>2018</td>\n",
       "      <td>Connected call</td>\n",
       "    </tr>\n",
       "  </tbody>\n",
       "</table>\n",
       "<p>137735 rows × 7 columns</p>\n",
       "</div>"
      ],
      "text/plain": [
       "              id  user_id  call_date  duration      month  year  \\\n",
       "0        1000_93     1000 2018-12-27       9.0   December  2018   \n",
       "1       1000_145     1000 2018-12-27      14.0   December  2018   \n",
       "2       1000_247     1000 2018-12-27      15.0   December  2018   \n",
       "3       1000_309     1000 2018-12-28       6.0   December  2018   \n",
       "4       1000_380     1000 2018-12-30       5.0   December  2018   \n",
       "...          ...      ...        ...       ...        ...   ...   \n",
       "137730  1499_199     1499 2018-11-21       9.0   November  2018   \n",
       "137731  1499_200     1499 2018-10-20      11.0    October  2018   \n",
       "137732  1499_201     1499 2018-09-21       9.0  September  2018   \n",
       "137733  1499_202     1499 2018-10-10       1.0    October  2018   \n",
       "137734  1499_203     1499 2018-12-29      14.0   December  2018   \n",
       "\n",
       "             call_type  \n",
       "0       Connected call  \n",
       "1       Connected call  \n",
       "2       Connected call  \n",
       "3       Connected call  \n",
       "4       Connected call  \n",
       "...                ...  \n",
       "137730  Connected call  \n",
       "137731  Connected call  \n",
       "137732  Connected call  \n",
       "137733  Connected call  \n",
       "137734  Connected call  \n",
       "\n",
       "[137735 rows x 7 columns]"
      ]
     },
     "execution_count": 54,
     "metadata": {},
     "output_type": "execute_result"
    }
   ],
   "source": [
    "calls"
   ]
  },
  {
   "cell_type": "code",
   "execution_count": 55,
   "metadata": {},
   "outputs": [
    {
     "name": "stdout",
     "output_type": "stream",
     "text": [
      "Length of the dataframe:  2258\n"
     ]
    }
   ],
   "source": [
    "# Calculate the amount of minutes spent by each user per month. Save the result.\n",
    "calls_monthly_minutes = calls.groupby(['user_id', 'month']).agg({'duration': 'sum'}).rename(columns={'duration': 'total_min_month'})\n",
    "\n",
    "print(\"Length of the dataframe: \",len(calls_monthly_minutes))\n"
   ]
  },
  {
   "cell_type": "code",
   "execution_count": 56,
   "metadata": {},
   "outputs": [
    {
     "data": {
      "text/html": [
       "<div>\n",
       "<style scoped>\n",
       "    .dataframe tbody tr th:only-of-type {\n",
       "        vertical-align: middle;\n",
       "    }\n",
       "\n",
       "    .dataframe tbody tr th {\n",
       "        vertical-align: top;\n",
       "    }\n",
       "\n",
       "    .dataframe thead th {\n",
       "        text-align: right;\n",
       "    }\n",
       "</style>\n",
       "<table border=\"1\" class=\"dataframe\">\n",
       "  <thead>\n",
       "    <tr style=\"text-align: right;\">\n",
       "      <th></th>\n",
       "      <th></th>\n",
       "      <th>total_min_month</th>\n",
       "    </tr>\n",
       "    <tr>\n",
       "      <th>user_id</th>\n",
       "      <th>month</th>\n",
       "      <th></th>\n",
       "    </tr>\n",
       "  </thead>\n",
       "  <tbody>\n",
       "    <tr>\n",
       "      <th>1000</th>\n",
       "      <th>December</th>\n",
       "      <td>124.0</td>\n",
       "    </tr>\n",
       "    <tr>\n",
       "      <th rowspan=\"4\" valign=\"top\">1001</th>\n",
       "      <th>August</th>\n",
       "      <td>182.0</td>\n",
       "    </tr>\n",
       "    <tr>\n",
       "      <th>December</th>\n",
       "      <td>412.0</td>\n",
       "    </tr>\n",
       "    <tr>\n",
       "      <th>November</th>\n",
       "      <td>426.0</td>\n",
       "    </tr>\n",
       "    <tr>\n",
       "      <th>October</th>\n",
       "      <td>393.0</td>\n",
       "    </tr>\n",
       "  </tbody>\n",
       "</table>\n",
       "</div>"
      ],
      "text/plain": [
       "                  total_min_month\n",
       "user_id month                    \n",
       "1000    December            124.0\n",
       "1001    August              182.0\n",
       "        December            412.0\n",
       "        November            426.0\n",
       "        October             393.0"
      ]
     },
     "execution_count": 56,
     "metadata": {},
     "output_type": "execute_result"
    }
   ],
   "source": [
    "calls_monthly_minutes.head()"
   ]
  },
  {
   "cell_type": "code",
   "execution_count": 57,
   "metadata": {
    "scrolled": true
   },
   "outputs": [
    {
     "name": "stdout",
     "output_type": "stream",
     "text": [
      "Length of the dataframe:  1806\n"
     ]
    }
   ],
   "source": [
    "# Calculate the number of messages sent by each user per month. Save the result.\n",
    "messages_monthly = messages.groupby(['user_id', 'month']).agg({'id': 'count'}).rename(columns={'id': 'messages_sent'})\n",
    "print(\"Length of the dataframe: \",len(messages_monthly))"
   ]
  },
  {
   "cell_type": "code",
   "execution_count": 58,
   "metadata": {},
   "outputs": [
    {
     "data": {
      "text/html": [
       "<div>\n",
       "<style scoped>\n",
       "    .dataframe tbody tr th:only-of-type {\n",
       "        vertical-align: middle;\n",
       "    }\n",
       "\n",
       "    .dataframe tbody tr th {\n",
       "        vertical-align: top;\n",
       "    }\n",
       "\n",
       "    .dataframe thead th {\n",
       "        text-align: right;\n",
       "    }\n",
       "</style>\n",
       "<table border=\"1\" class=\"dataframe\">\n",
       "  <thead>\n",
       "    <tr style=\"text-align: right;\">\n",
       "      <th></th>\n",
       "      <th></th>\n",
       "      <th>messages_sent</th>\n",
       "    </tr>\n",
       "    <tr>\n",
       "      <th>user_id</th>\n",
       "      <th>month</th>\n",
       "      <th></th>\n",
       "    </tr>\n",
       "  </thead>\n",
       "  <tbody>\n",
       "    <tr>\n",
       "      <th>1000</th>\n",
       "      <th>December</th>\n",
       "      <td>11</td>\n",
       "    </tr>\n",
       "    <tr>\n",
       "      <th rowspan=\"4\" valign=\"top\">1001</th>\n",
       "      <th>August</th>\n",
       "      <td>30</td>\n",
       "    </tr>\n",
       "    <tr>\n",
       "      <th>December</th>\n",
       "      <td>44</td>\n",
       "    </tr>\n",
       "    <tr>\n",
       "      <th>November</th>\n",
       "      <td>36</td>\n",
       "    </tr>\n",
       "    <tr>\n",
       "      <th>October</th>\n",
       "      <td>53</td>\n",
       "    </tr>\n",
       "  </tbody>\n",
       "</table>\n",
       "</div>"
      ],
      "text/plain": [
       "                  messages_sent\n",
       "user_id month                  \n",
       "1000    December             11\n",
       "1001    August               30\n",
       "        December             44\n",
       "        November             36\n",
       "        October              53"
      ]
     },
     "execution_count": 58,
     "metadata": {},
     "output_type": "execute_result"
    }
   ],
   "source": [
    "messages_monthly.head()\n"
   ]
  },
  {
   "cell_type": "code",
   "execution_count": 59,
   "metadata": {},
   "outputs": [
    {
     "name": "stdout",
     "output_type": "stream",
     "text": [
      "Length of the dataframe:  2277\n"
     ]
    }
   ],
   "source": [
    "# Calculate the volume of internet traffic used by each user per month. Save the result.\n",
    "internet_monthly = (internet.groupby(['user_id', 'month']).agg({'mb_used': 'sum'})/1024).apply(np.ceil).rename(columns={'mb_used': 'gb_used'})\n",
    "print(\"Length of the dataframe: \",len(internet_monthly))\n"
   ]
  },
  {
   "cell_type": "code",
   "execution_count": 60,
   "metadata": {},
   "outputs": [
    {
     "data": {
      "text/html": [
       "<div>\n",
       "<style scoped>\n",
       "    .dataframe tbody tr th:only-of-type {\n",
       "        vertical-align: middle;\n",
       "    }\n",
       "\n",
       "    .dataframe tbody tr th {\n",
       "        vertical-align: top;\n",
       "    }\n",
       "\n",
       "    .dataframe thead th {\n",
       "        text-align: right;\n",
       "    }\n",
       "</style>\n",
       "<table border=\"1\" class=\"dataframe\">\n",
       "  <thead>\n",
       "    <tr style=\"text-align: right;\">\n",
       "      <th></th>\n",
       "      <th></th>\n",
       "      <th>gb_used</th>\n",
       "    </tr>\n",
       "    <tr>\n",
       "      <th>user_id</th>\n",
       "      <th>month</th>\n",
       "      <th></th>\n",
       "    </tr>\n",
       "  </thead>\n",
       "  <tbody>\n",
       "    <tr>\n",
       "      <th>1498</th>\n",
       "      <th>September</th>\n",
       "      <td>23.0</td>\n",
       "    </tr>\n",
       "    <tr>\n",
       "      <th rowspan=\"4\" valign=\"top\">1499</th>\n",
       "      <th>December</th>\n",
       "      <td>22.0</td>\n",
       "    </tr>\n",
       "    <tr>\n",
       "      <th>November</th>\n",
       "      <td>17.0</td>\n",
       "    </tr>\n",
       "    <tr>\n",
       "      <th>October</th>\n",
       "      <td>20.0</td>\n",
       "    </tr>\n",
       "    <tr>\n",
       "      <th>September</th>\n",
       "      <td>13.0</td>\n",
       "    </tr>\n",
       "  </tbody>\n",
       "</table>\n",
       "</div>"
      ],
      "text/plain": [
       "                   gb_used\n",
       "user_id month             \n",
       "1498    September     23.0\n",
       "1499    December      22.0\n",
       "        November      17.0\n",
       "        October       20.0\n",
       "        September     13.0"
      ]
     },
     "execution_count": 60,
     "metadata": {},
     "output_type": "execute_result"
    }
   ],
   "source": [
    "internet_monthly.tail()"
   ]
  },
  {
   "cell_type": "code",
   "execution_count": 61,
   "metadata": {},
   "outputs": [
    {
     "name": "stdout",
     "output_type": "stream",
     "text": [
      "16\n",
      "17.0\n"
     ]
    }
   ],
   "source": [
    "# Reviewer's code 2\n",
    "\n",
    "print(round(16584/1024))\n",
    "\n",
    "print(np.ceil(16584/1024))"
   ]
  },
  {
   "cell_type": "code",
   "execution_count": 62,
   "metadata": {},
   "outputs": [
    {
     "data": {
      "text/html": [
       "<div>\n",
       "<style scoped>\n",
       "    .dataframe tbody tr th:only-of-type {\n",
       "        vertical-align: middle;\n",
       "    }\n",
       "\n",
       "    .dataframe tbody tr th {\n",
       "        vertical-align: top;\n",
       "    }\n",
       "\n",
       "    .dataframe thead th {\n",
       "        text-align: right;\n",
       "    }\n",
       "</style>\n",
       "<table border=\"1\" class=\"dataframe\">\n",
       "  <thead>\n",
       "    <tr style=\"text-align: right;\">\n",
       "      <th></th>\n",
       "      <th>user_id</th>\n",
       "      <th>month</th>\n",
       "      <th>total_calls_made</th>\n",
       "      <th>total_min_month</th>\n",
       "      <th>messages_sent</th>\n",
       "      <th>gb_used</th>\n",
       "      <th>first_name</th>\n",
       "      <th>last_name</th>\n",
       "      <th>age</th>\n",
       "      <th>city</th>\n",
       "      <th>subscription_date</th>\n",
       "      <th>plan_name</th>\n",
       "      <th>churn_date</th>\n",
       "      <th>customer_churn</th>\n",
       "      <th>subscription_month</th>\n",
       "      <th>year</th>\n",
       "    </tr>\n",
       "  </thead>\n",
       "  <tbody>\n",
       "    <tr>\n",
       "      <th>0</th>\n",
       "      <td>1000</td>\n",
       "      <td>December</td>\n",
       "      <td>16.0</td>\n",
       "      <td>124.0</td>\n",
       "      <td>11.0</td>\n",
       "      <td>2.0</td>\n",
       "      <td>Anamaria</td>\n",
       "      <td>Bauer</td>\n",
       "      <td>45</td>\n",
       "      <td>Atlanta-Sandy Springs-Roswell, GA MSA</td>\n",
       "      <td>2018-12-24</td>\n",
       "      <td>ultimate</td>\n",
       "      <td>NaT</td>\n",
       "      <td>No churn</td>\n",
       "      <td>December</td>\n",
       "      <td>2018</td>\n",
       "    </tr>\n",
       "    <tr>\n",
       "      <th>1</th>\n",
       "      <td>1001</td>\n",
       "      <td>August</td>\n",
       "      <td>27.0</td>\n",
       "      <td>182.0</td>\n",
       "      <td>30.0</td>\n",
       "      <td>7.0</td>\n",
       "      <td>Mickey</td>\n",
       "      <td>Wilkerson</td>\n",
       "      <td>28</td>\n",
       "      <td>Seattle-Tacoma-Bellevue, WA MSA</td>\n",
       "      <td>2018-08-13</td>\n",
       "      <td>surf</td>\n",
       "      <td>NaT</td>\n",
       "      <td>No churn</td>\n",
       "      <td>August</td>\n",
       "      <td>2018</td>\n",
       "    </tr>\n",
       "    <tr>\n",
       "      <th>2</th>\n",
       "      <td>1001</td>\n",
       "      <td>December</td>\n",
       "      <td>56.0</td>\n",
       "      <td>412.0</td>\n",
       "      <td>44.0</td>\n",
       "      <td>19.0</td>\n",
       "      <td>Mickey</td>\n",
       "      <td>Wilkerson</td>\n",
       "      <td>28</td>\n",
       "      <td>Seattle-Tacoma-Bellevue, WA MSA</td>\n",
       "      <td>2018-08-13</td>\n",
       "      <td>surf</td>\n",
       "      <td>NaT</td>\n",
       "      <td>No churn</td>\n",
       "      <td>August</td>\n",
       "      <td>2018</td>\n",
       "    </tr>\n",
       "    <tr>\n",
       "      <th>3</th>\n",
       "      <td>1001</td>\n",
       "      <td>November</td>\n",
       "      <td>64.0</td>\n",
       "      <td>426.0</td>\n",
       "      <td>36.0</td>\n",
       "      <td>19.0</td>\n",
       "      <td>Mickey</td>\n",
       "      <td>Wilkerson</td>\n",
       "      <td>28</td>\n",
       "      <td>Seattle-Tacoma-Bellevue, WA MSA</td>\n",
       "      <td>2018-08-13</td>\n",
       "      <td>surf</td>\n",
       "      <td>NaT</td>\n",
       "      <td>No churn</td>\n",
       "      <td>August</td>\n",
       "      <td>2018</td>\n",
       "    </tr>\n",
       "    <tr>\n",
       "      <th>4</th>\n",
       "      <td>1001</td>\n",
       "      <td>October</td>\n",
       "      <td>65.0</td>\n",
       "      <td>393.0</td>\n",
       "      <td>53.0</td>\n",
       "      <td>22.0</td>\n",
       "      <td>Mickey</td>\n",
       "      <td>Wilkerson</td>\n",
       "      <td>28</td>\n",
       "      <td>Seattle-Tacoma-Bellevue, WA MSA</td>\n",
       "      <td>2018-08-13</td>\n",
       "      <td>surf</td>\n",
       "      <td>NaT</td>\n",
       "      <td>No churn</td>\n",
       "      <td>August</td>\n",
       "      <td>2018</td>\n",
       "    </tr>\n",
       "  </tbody>\n",
       "</table>\n",
       "</div>"
      ],
      "text/plain": [
       "   user_id     month  total_calls_made  total_min_month  messages_sent  \\\n",
       "0     1000  December              16.0            124.0           11.0   \n",
       "1     1001    August              27.0            182.0           30.0   \n",
       "2     1001  December              56.0            412.0           44.0   \n",
       "3     1001  November              64.0            426.0           36.0   \n",
       "4     1001   October              65.0            393.0           53.0   \n",
       "\n",
       "   gb_used first_name  last_name  age                                   city  \\\n",
       "0      2.0   Anamaria      Bauer   45  Atlanta-Sandy Springs-Roswell, GA MSA   \n",
       "1      7.0     Mickey  Wilkerson   28        Seattle-Tacoma-Bellevue, WA MSA   \n",
       "2     19.0     Mickey  Wilkerson   28        Seattle-Tacoma-Bellevue, WA MSA   \n",
       "3     19.0     Mickey  Wilkerson   28        Seattle-Tacoma-Bellevue, WA MSA   \n",
       "4     22.0     Mickey  Wilkerson   28        Seattle-Tacoma-Bellevue, WA MSA   \n",
       "\n",
       "  subscription_date plan_name churn_date customer_churn subscription_month  \\\n",
       "0        2018-12-24  ultimate        NaT       No churn           December   \n",
       "1        2018-08-13      surf        NaT       No churn             August   \n",
       "2        2018-08-13      surf        NaT       No churn             August   \n",
       "3        2018-08-13      surf        NaT       No churn             August   \n",
       "4        2018-08-13      surf        NaT       No churn             August   \n",
       "\n",
       "   year  \n",
       "0  2018  \n",
       "1  2018  \n",
       "2  2018  \n",
       "3  2018  \n",
       "4  2018  "
      ]
     },
     "execution_count": 62,
     "metadata": {},
     "output_type": "execute_result"
    }
   ],
   "source": [
    "#combine into one table\n",
    "total_users_data= pd.concat([calls_monthly, calls_monthly_minutes, messages_monthly, internet_monthly], axis=1).reset_index().fillna(0)\n",
    "total_users_data.columns = ['user_id', 'month', 'total_calls_made', 'total_min_month', 'messages_sent', 'gb_used']\n",
    "total_users_data= total_users_data.merge(users, on='user_id')\n",
    "total_users_data.head()\n"
   ]
  },
  {
   "cell_type": "code",
   "execution_count": 63,
   "metadata": {},
   "outputs": [],
   "source": [
    "data_frames = [total_users_data, plans]\n",
    "aggregated_data = reduce(lambda  left,right: pd.merge(left,right,on=['plan_name'],\n",
    "                                            how='outer'), data_frames)"
   ]
  },
  {
   "cell_type": "code",
   "execution_count": 64,
   "metadata": {},
   "outputs": [
    {
     "data": {
      "text/html": [
       "<div>\n",
       "<style scoped>\n",
       "    .dataframe tbody tr th:only-of-type {\n",
       "        vertical-align: middle;\n",
       "    }\n",
       "\n",
       "    .dataframe tbody tr th {\n",
       "        vertical-align: top;\n",
       "    }\n",
       "\n",
       "    .dataframe thead th {\n",
       "        text-align: right;\n",
       "    }\n",
       "</style>\n",
       "<table border=\"1\" class=\"dataframe\">\n",
       "  <thead>\n",
       "    <tr style=\"text-align: right;\">\n",
       "      <th></th>\n",
       "      <th></th>\n",
       "      <th>total_calls_made</th>\n",
       "      <th>messages_sent</th>\n",
       "      <th>gb_used</th>\n",
       "    </tr>\n",
       "    <tr>\n",
       "      <th>user_id</th>\n",
       "      <th>month</th>\n",
       "      <th></th>\n",
       "      <th></th>\n",
       "      <th></th>\n",
       "    </tr>\n",
       "  </thead>\n",
       "  <tbody>\n",
       "    <tr>\n",
       "      <th>1000</th>\n",
       "      <th>December</th>\n",
       "      <td>16.0</td>\n",
       "      <td>11.0</td>\n",
       "      <td>2.0</td>\n",
       "    </tr>\n",
       "    <tr>\n",
       "      <th rowspan=\"4\" valign=\"top\">1001</th>\n",
       "      <th>August</th>\n",
       "      <td>27.0</td>\n",
       "      <td>30.0</td>\n",
       "      <td>7.0</td>\n",
       "    </tr>\n",
       "    <tr>\n",
       "      <th>December</th>\n",
       "      <td>56.0</td>\n",
       "      <td>44.0</td>\n",
       "      <td>19.0</td>\n",
       "    </tr>\n",
       "    <tr>\n",
       "      <th>November</th>\n",
       "      <td>64.0</td>\n",
       "      <td>36.0</td>\n",
       "      <td>19.0</td>\n",
       "    </tr>\n",
       "    <tr>\n",
       "      <th>October</th>\n",
       "      <td>65.0</td>\n",
       "      <td>53.0</td>\n",
       "      <td>22.0</td>\n",
       "    </tr>\n",
       "    <tr>\n",
       "      <th>...</th>\n",
       "      <th>...</th>\n",
       "      <td>...</td>\n",
       "      <td>...</td>\n",
       "      <td>...</td>\n",
       "    </tr>\n",
       "    <tr>\n",
       "      <th>1349</th>\n",
       "      <th>October</th>\n",
       "      <td>0.0</td>\n",
       "      <td>76.0</td>\n",
       "      <td>13.0</td>\n",
       "    </tr>\n",
       "    <tr>\n",
       "      <th>1361</th>\n",
       "      <th>May</th>\n",
       "      <td>0.0</td>\n",
       "      <td>2.0</td>\n",
       "      <td>2.0</td>\n",
       "    </tr>\n",
       "    <tr>\n",
       "      <th>1482</th>\n",
       "      <th>October</th>\n",
       "      <td>0.0</td>\n",
       "      <td>2.0</td>\n",
       "      <td>0.0</td>\n",
       "    </tr>\n",
       "    <tr>\n",
       "      <th>1108</th>\n",
       "      <th>December</th>\n",
       "      <td>0.0</td>\n",
       "      <td>0.0</td>\n",
       "      <td>1.0</td>\n",
       "    </tr>\n",
       "    <tr>\n",
       "      <th>1311</th>\n",
       "      <th>June</th>\n",
       "      <td>0.0</td>\n",
       "      <td>0.0</td>\n",
       "      <td>2.0</td>\n",
       "    </tr>\n",
       "  </tbody>\n",
       "</table>\n",
       "<p>2293 rows × 3 columns</p>\n",
       "</div>"
      ],
      "text/plain": [
       "                  total_calls_made  messages_sent  gb_used\n",
       "user_id month                                             \n",
       "1000    December              16.0           11.0      2.0\n",
       "1001    August                27.0           30.0      7.0\n",
       "        December              56.0           44.0     19.0\n",
       "        November              64.0           36.0     19.0\n",
       "        October               65.0           53.0     22.0\n",
       "...                            ...            ...      ...\n",
       "1349    October                0.0           76.0     13.0\n",
       "1361    May                    0.0            2.0      2.0\n",
       "1482    October                0.0            2.0      0.0\n",
       "1108    December               0.0            0.0      1.0\n",
       "1311    June                   0.0            0.0      2.0\n",
       "\n",
       "[2293 rows x 3 columns]"
      ]
     },
     "execution_count": 64,
     "metadata": {},
     "output_type": "execute_result"
    }
   ],
   "source": [
    "# Reviewer's code\n",
    "\n",
    "(calls_monthly.merge(messages_monthly, on = ['user_id', 'month'], how='outer')\n",
    " .merge(internet_monthly, on = ['user_id', 'month'], how='outer').fillna(0)\n",
    ")"
   ]
  },
  {
   "cell_type": "code",
   "execution_count": 65,
   "metadata": {},
   "outputs": [],
   "source": [
    "#months in chronological order\n",
    "dates_in_order = pd.date_range(start='2018-01-01', end='2018-12-01', freq='MS')\n",
    "months_in_order = dates_in_order.map(lambda x: x.month_name()).to_list()\n",
    "aggregated_data.month = pd.Categorical(\n",
    "    aggregated_data.month,\n",
    "    categories=months_in_order,\n",
    "    ordered=True\n",
    ")\n"
   ]
  },
  {
   "cell_type": "code",
   "execution_count": 66,
   "metadata": {
    "scrolled": false
   },
   "outputs": [
    {
     "data": {
      "text/html": [
       "<div>\n",
       "<style scoped>\n",
       "    .dataframe tbody tr th:only-of-type {\n",
       "        vertical-align: middle;\n",
       "    }\n",
       "\n",
       "    .dataframe tbody tr th {\n",
       "        vertical-align: top;\n",
       "    }\n",
       "\n",
       "    .dataframe thead th {\n",
       "        text-align: right;\n",
       "    }\n",
       "</style>\n",
       "<table border=\"1\" class=\"dataframe\">\n",
       "  <thead>\n",
       "    <tr style=\"text-align: right;\">\n",
       "      <th></th>\n",
       "      <th>user_id</th>\n",
       "      <th>month</th>\n",
       "      <th>total_calls_made</th>\n",
       "      <th>total_min_month</th>\n",
       "      <th>messages_sent</th>\n",
       "      <th>gb_used</th>\n",
       "      <th>first_name</th>\n",
       "      <th>last_name</th>\n",
       "      <th>age</th>\n",
       "      <th>city</th>\n",
       "      <th>subscription_date</th>\n",
       "      <th>plan_name</th>\n",
       "      <th>churn_date</th>\n",
       "      <th>customer_churn</th>\n",
       "      <th>subscription_month</th>\n",
       "      <th>year</th>\n",
       "      <th>messages_included</th>\n",
       "      <th>mb_per_month_included</th>\n",
       "      <th>minutes_included</th>\n",
       "      <th>usd_monthly_pay</th>\n",
       "      <th>usd_per_gb</th>\n",
       "      <th>usd_per_message</th>\n",
       "      <th>usd_per_minute</th>\n",
       "      <th>gb_per_month_included</th>\n",
       "    </tr>\n",
       "  </thead>\n",
       "  <tbody>\n",
       "    <tr>\n",
       "      <th>1486</th>\n",
       "      <td>1240</td>\n",
       "      <td>August</td>\n",
       "      <td>161.0</td>\n",
       "      <td>1095.0</td>\n",
       "      <td>15.0</td>\n",
       "      <td>49.0</td>\n",
       "      <td>Drema</td>\n",
       "      <td>Lopez</td>\n",
       "      <td>61</td>\n",
       "      <td>Baton Rouge, LA MSA</td>\n",
       "      <td>2018-03-18</td>\n",
       "      <td>surf</td>\n",
       "      <td>NaT</td>\n",
       "      <td>No churn</td>\n",
       "      <td>March</td>\n",
       "      <td>2018</td>\n",
       "      <td>50</td>\n",
       "      <td>15360</td>\n",
       "      <td>500</td>\n",
       "      <td>20</td>\n",
       "      <td>10</td>\n",
       "      <td>0.03</td>\n",
       "      <td>0.03</td>\n",
       "      <td>15.0</td>\n",
       "    </tr>\n",
       "    <tr>\n",
       "      <th>1659</th>\n",
       "      <td>1292</td>\n",
       "      <td>August</td>\n",
       "      <td>42.0</td>\n",
       "      <td>323.0</td>\n",
       "      <td>0.0</td>\n",
       "      <td>51.0</td>\n",
       "      <td>Cassey</td>\n",
       "      <td>French</td>\n",
       "      <td>42</td>\n",
       "      <td>Dallas-Fort Worth-Arlington, TX MSA</td>\n",
       "      <td>2018-01-27</td>\n",
       "      <td>surf</td>\n",
       "      <td>NaT</td>\n",
       "      <td>No churn</td>\n",
       "      <td>January</td>\n",
       "      <td>2018</td>\n",
       "      <td>50</td>\n",
       "      <td>15360</td>\n",
       "      <td>500</td>\n",
       "      <td>20</td>\n",
       "      <td>10</td>\n",
       "      <td>0.03</td>\n",
       "      <td>0.03</td>\n",
       "      <td>15.0</td>\n",
       "    </tr>\n",
       "    <tr>\n",
       "      <th>1660</th>\n",
       "      <td>1292</td>\n",
       "      <td>December</td>\n",
       "      <td>28.0</td>\n",
       "      <td>144.0</td>\n",
       "      <td>0.0</td>\n",
       "      <td>51.0</td>\n",
       "      <td>Cassey</td>\n",
       "      <td>French</td>\n",
       "      <td>42</td>\n",
       "      <td>Dallas-Fort Worth-Arlington, TX MSA</td>\n",
       "      <td>2018-01-27</td>\n",
       "      <td>surf</td>\n",
       "      <td>NaT</td>\n",
       "      <td>No churn</td>\n",
       "      <td>January</td>\n",
       "      <td>2018</td>\n",
       "      <td>50</td>\n",
       "      <td>15360</td>\n",
       "      <td>500</td>\n",
       "      <td>20</td>\n",
       "      <td>10</td>\n",
       "      <td>0.03</td>\n",
       "      <td>0.03</td>\n",
       "      <td>15.0</td>\n",
       "    </tr>\n",
       "    <tr>\n",
       "      <th>1117</th>\n",
       "      <td>1121</td>\n",
       "      <td>December</td>\n",
       "      <td>0.0</td>\n",
       "      <td>0.0</td>\n",
       "      <td>97.0</td>\n",
       "      <td>66.0</td>\n",
       "      <td>Kathaleen</td>\n",
       "      <td>Albert</td>\n",
       "      <td>34</td>\n",
       "      <td>Miami-Fort Lauderdale-West Palm Beach, FL MSA</td>\n",
       "      <td>2018-03-13</td>\n",
       "      <td>surf</td>\n",
       "      <td>NaT</td>\n",
       "      <td>No churn</td>\n",
       "      <td>March</td>\n",
       "      <td>2018</td>\n",
       "      <td>50</td>\n",
       "      <td>15360</td>\n",
       "      <td>500</td>\n",
       "      <td>20</td>\n",
       "      <td>10</td>\n",
       "      <td>0.03</td>\n",
       "      <td>0.03</td>\n",
       "      <td>15.0</td>\n",
       "    </tr>\n",
       "    <tr>\n",
       "      <th>1980</th>\n",
       "      <td>1379</td>\n",
       "      <td>December</td>\n",
       "      <td>144.0</td>\n",
       "      <td>1103.0</td>\n",
       "      <td>126.0</td>\n",
       "      <td>70.0</td>\n",
       "      <td>Jarrett</td>\n",
       "      <td>Spencer</td>\n",
       "      <td>34</td>\n",
       "      <td>Grand Rapids-Kentwood, MI MSA</td>\n",
       "      <td>2018-10-18</td>\n",
       "      <td>surf</td>\n",
       "      <td>NaT</td>\n",
       "      <td>No churn</td>\n",
       "      <td>October</td>\n",
       "      <td>2018</td>\n",
       "      <td>50</td>\n",
       "      <td>15360</td>\n",
       "      <td>500</td>\n",
       "      <td>20</td>\n",
       "      <td>10</td>\n",
       "      <td>0.03</td>\n",
       "      <td>0.03</td>\n",
       "      <td>15.0</td>\n",
       "    </tr>\n",
       "  </tbody>\n",
       "</table>\n",
       "</div>"
      ],
      "text/plain": [
       "      user_id     month  total_calls_made  total_min_month  messages_sent  \\\n",
       "1486     1240    August             161.0           1095.0           15.0   \n",
       "1659     1292    August              42.0            323.0            0.0   \n",
       "1660     1292  December              28.0            144.0            0.0   \n",
       "1117     1121  December               0.0              0.0           97.0   \n",
       "1980     1379  December             144.0           1103.0          126.0   \n",
       "\n",
       "      gb_used first_name last_name  age  \\\n",
       "1486     49.0      Drema     Lopez   61   \n",
       "1659     51.0     Cassey    French   42   \n",
       "1660     51.0     Cassey    French   42   \n",
       "1117     66.0  Kathaleen    Albert   34   \n",
       "1980     70.0    Jarrett   Spencer   34   \n",
       "\n",
       "                                               city subscription_date  \\\n",
       "1486                            Baton Rouge, LA MSA        2018-03-18   \n",
       "1659            Dallas-Fort Worth-Arlington, TX MSA        2018-01-27   \n",
       "1660            Dallas-Fort Worth-Arlington, TX MSA        2018-01-27   \n",
       "1117  Miami-Fort Lauderdale-West Palm Beach, FL MSA        2018-03-13   \n",
       "1980                  Grand Rapids-Kentwood, MI MSA        2018-10-18   \n",
       "\n",
       "     plan_name churn_date customer_churn subscription_month  year  \\\n",
       "1486      surf        NaT       No churn              March  2018   \n",
       "1659      surf        NaT       No churn            January  2018   \n",
       "1660      surf        NaT       No churn            January  2018   \n",
       "1117      surf        NaT       No churn              March  2018   \n",
       "1980      surf        NaT       No churn            October  2018   \n",
       "\n",
       "      messages_included  mb_per_month_included  minutes_included  \\\n",
       "1486                 50                  15360               500   \n",
       "1659                 50                  15360               500   \n",
       "1660                 50                  15360               500   \n",
       "1117                 50                  15360               500   \n",
       "1980                 50                  15360               500   \n",
       "\n",
       "      usd_monthly_pay  usd_per_gb  usd_per_message  usd_per_minute  \\\n",
       "1486               20          10             0.03            0.03   \n",
       "1659               20          10             0.03            0.03   \n",
       "1660               20          10             0.03            0.03   \n",
       "1117               20          10             0.03            0.03   \n",
       "1980               20          10             0.03            0.03   \n",
       "\n",
       "      gb_per_month_included  \n",
       "1486                   15.0  \n",
       "1659                   15.0  \n",
       "1660                   15.0  \n",
       "1117                   15.0  \n",
       "1980                   15.0  "
      ]
     },
     "execution_count": 66,
     "metadata": {},
     "output_type": "execute_result"
    }
   ],
   "source": [
    "aggregated_data.sort_values('gb_used').tail()"
   ]
  },
  {
   "cell_type": "code",
   "execution_count": 67,
   "metadata": {
    "scrolled": false
   },
   "outputs": [
    {
     "data": {
      "text/html": [
       "<div>\n",
       "<style scoped>\n",
       "    .dataframe tbody tr th:only-of-type {\n",
       "        vertical-align: middle;\n",
       "    }\n",
       "\n",
       "    .dataframe tbody tr th {\n",
       "        vertical-align: top;\n",
       "    }\n",
       "\n",
       "    .dataframe thead th {\n",
       "        text-align: right;\n",
       "    }\n",
       "</style>\n",
       "<table border=\"1\" class=\"dataframe\">\n",
       "  <thead>\n",
       "    <tr style=\"text-align: right;\">\n",
       "      <th></th>\n",
       "      <th>user_id</th>\n",
       "      <th>month</th>\n",
       "      <th>total_calls_made</th>\n",
       "      <th>total_min_month</th>\n",
       "      <th>messages_sent</th>\n",
       "      <th>gb_used</th>\n",
       "      <th>first_name</th>\n",
       "      <th>last_name</th>\n",
       "      <th>age</th>\n",
       "      <th>city</th>\n",
       "      <th>subscription_date</th>\n",
       "      <th>plan_name</th>\n",
       "      <th>churn_date</th>\n",
       "      <th>customer_churn</th>\n",
       "      <th>subscription_month</th>\n",
       "      <th>year</th>\n",
       "      <th>messages_included</th>\n",
       "      <th>mb_per_month_included</th>\n",
       "      <th>minutes_included</th>\n",
       "      <th>usd_monthly_pay</th>\n",
       "      <th>usd_per_gb</th>\n",
       "      <th>usd_per_message</th>\n",
       "      <th>usd_per_minute</th>\n",
       "      <th>gb_per_month_included</th>\n",
       "      <th>messages_cost</th>\n",
       "      <th>calls_cost</th>\n",
       "      <th>gb_cost</th>\n",
       "      <th>revenue</th>\n",
       "    </tr>\n",
       "  </thead>\n",
       "  <tbody>\n",
       "    <tr>\n",
       "      <th>1486</th>\n",
       "      <td>1240</td>\n",
       "      <td>August</td>\n",
       "      <td>161.0</td>\n",
       "      <td>1095.0</td>\n",
       "      <td>15.0</td>\n",
       "      <td>49.0</td>\n",
       "      <td>Drema</td>\n",
       "      <td>Lopez</td>\n",
       "      <td>61</td>\n",
       "      <td>Baton Rouge, LA MSA</td>\n",
       "      <td>2018-03-18</td>\n",
       "      <td>surf</td>\n",
       "      <td>NaT</td>\n",
       "      <td>No churn</td>\n",
       "      <td>March</td>\n",
       "      <td>2018</td>\n",
       "      <td>50</td>\n",
       "      <td>15360</td>\n",
       "      <td>500</td>\n",
       "      <td>20</td>\n",
       "      <td>10</td>\n",
       "      <td>0.03</td>\n",
       "      <td>0.03</td>\n",
       "      <td>15.0</td>\n",
       "      <td>0.00</td>\n",
       "      <td>17.85</td>\n",
       "      <td>340.0</td>\n",
       "      <td>377.85</td>\n",
       "    </tr>\n",
       "    <tr>\n",
       "      <th>1659</th>\n",
       "      <td>1292</td>\n",
       "      <td>August</td>\n",
       "      <td>42.0</td>\n",
       "      <td>323.0</td>\n",
       "      <td>0.0</td>\n",
       "      <td>51.0</td>\n",
       "      <td>Cassey</td>\n",
       "      <td>French</td>\n",
       "      <td>42</td>\n",
       "      <td>Dallas-Fort Worth-Arlington, TX MSA</td>\n",
       "      <td>2018-01-27</td>\n",
       "      <td>surf</td>\n",
       "      <td>NaT</td>\n",
       "      <td>No churn</td>\n",
       "      <td>January</td>\n",
       "      <td>2018</td>\n",
       "      <td>50</td>\n",
       "      <td>15360</td>\n",
       "      <td>500</td>\n",
       "      <td>20</td>\n",
       "      <td>10</td>\n",
       "      <td>0.03</td>\n",
       "      <td>0.03</td>\n",
       "      <td>15.0</td>\n",
       "      <td>0.00</td>\n",
       "      <td>0.00</td>\n",
       "      <td>360.0</td>\n",
       "      <td>380.00</td>\n",
       "    </tr>\n",
       "    <tr>\n",
       "      <th>1660</th>\n",
       "      <td>1292</td>\n",
       "      <td>December</td>\n",
       "      <td>28.0</td>\n",
       "      <td>144.0</td>\n",
       "      <td>0.0</td>\n",
       "      <td>51.0</td>\n",
       "      <td>Cassey</td>\n",
       "      <td>French</td>\n",
       "      <td>42</td>\n",
       "      <td>Dallas-Fort Worth-Arlington, TX MSA</td>\n",
       "      <td>2018-01-27</td>\n",
       "      <td>surf</td>\n",
       "      <td>NaT</td>\n",
       "      <td>No churn</td>\n",
       "      <td>January</td>\n",
       "      <td>2018</td>\n",
       "      <td>50</td>\n",
       "      <td>15360</td>\n",
       "      <td>500</td>\n",
       "      <td>20</td>\n",
       "      <td>10</td>\n",
       "      <td>0.03</td>\n",
       "      <td>0.03</td>\n",
       "      <td>15.0</td>\n",
       "      <td>0.00</td>\n",
       "      <td>0.00</td>\n",
       "      <td>360.0</td>\n",
       "      <td>380.00</td>\n",
       "    </tr>\n",
       "    <tr>\n",
       "      <th>1117</th>\n",
       "      <td>1121</td>\n",
       "      <td>December</td>\n",
       "      <td>0.0</td>\n",
       "      <td>0.0</td>\n",
       "      <td>97.0</td>\n",
       "      <td>66.0</td>\n",
       "      <td>Kathaleen</td>\n",
       "      <td>Albert</td>\n",
       "      <td>34</td>\n",
       "      <td>Miami-Fort Lauderdale-West Palm Beach, FL MSA</td>\n",
       "      <td>2018-03-13</td>\n",
       "      <td>surf</td>\n",
       "      <td>NaT</td>\n",
       "      <td>No churn</td>\n",
       "      <td>March</td>\n",
       "      <td>2018</td>\n",
       "      <td>50</td>\n",
       "      <td>15360</td>\n",
       "      <td>500</td>\n",
       "      <td>20</td>\n",
       "      <td>10</td>\n",
       "      <td>0.03</td>\n",
       "      <td>0.03</td>\n",
       "      <td>15.0</td>\n",
       "      <td>1.41</td>\n",
       "      <td>0.00</td>\n",
       "      <td>510.0</td>\n",
       "      <td>531.41</td>\n",
       "    </tr>\n",
       "    <tr>\n",
       "      <th>1980</th>\n",
       "      <td>1379</td>\n",
       "      <td>December</td>\n",
       "      <td>144.0</td>\n",
       "      <td>1103.0</td>\n",
       "      <td>126.0</td>\n",
       "      <td>70.0</td>\n",
       "      <td>Jarrett</td>\n",
       "      <td>Spencer</td>\n",
       "      <td>34</td>\n",
       "      <td>Grand Rapids-Kentwood, MI MSA</td>\n",
       "      <td>2018-10-18</td>\n",
       "      <td>surf</td>\n",
       "      <td>NaT</td>\n",
       "      <td>No churn</td>\n",
       "      <td>October</td>\n",
       "      <td>2018</td>\n",
       "      <td>50</td>\n",
       "      <td>15360</td>\n",
       "      <td>500</td>\n",
       "      <td>20</td>\n",
       "      <td>10</td>\n",
       "      <td>0.03</td>\n",
       "      <td>0.03</td>\n",
       "      <td>15.0</td>\n",
       "      <td>2.28</td>\n",
       "      <td>18.09</td>\n",
       "      <td>550.0</td>\n",
       "      <td>590.37</td>\n",
       "    </tr>\n",
       "  </tbody>\n",
       "</table>\n",
       "</div>"
      ],
      "text/plain": [
       "      user_id     month  total_calls_made  total_min_month  messages_sent  \\\n",
       "1486     1240    August             161.0           1095.0           15.0   \n",
       "1659     1292    August              42.0            323.0            0.0   \n",
       "1660     1292  December              28.0            144.0            0.0   \n",
       "1117     1121  December               0.0              0.0           97.0   \n",
       "1980     1379  December             144.0           1103.0          126.0   \n",
       "\n",
       "      gb_used first_name last_name  age  \\\n",
       "1486     49.0      Drema     Lopez   61   \n",
       "1659     51.0     Cassey    French   42   \n",
       "1660     51.0     Cassey    French   42   \n",
       "1117     66.0  Kathaleen    Albert   34   \n",
       "1980     70.0    Jarrett   Spencer   34   \n",
       "\n",
       "                                               city subscription_date  \\\n",
       "1486                            Baton Rouge, LA MSA        2018-03-18   \n",
       "1659            Dallas-Fort Worth-Arlington, TX MSA        2018-01-27   \n",
       "1660            Dallas-Fort Worth-Arlington, TX MSA        2018-01-27   \n",
       "1117  Miami-Fort Lauderdale-West Palm Beach, FL MSA        2018-03-13   \n",
       "1980                  Grand Rapids-Kentwood, MI MSA        2018-10-18   \n",
       "\n",
       "     plan_name churn_date customer_churn subscription_month  year  \\\n",
       "1486      surf        NaT       No churn              March  2018   \n",
       "1659      surf        NaT       No churn            January  2018   \n",
       "1660      surf        NaT       No churn            January  2018   \n",
       "1117      surf        NaT       No churn              March  2018   \n",
       "1980      surf        NaT       No churn            October  2018   \n",
       "\n",
       "      messages_included  mb_per_month_included  minutes_included  \\\n",
       "1486                 50                  15360               500   \n",
       "1659                 50                  15360               500   \n",
       "1660                 50                  15360               500   \n",
       "1117                 50                  15360               500   \n",
       "1980                 50                  15360               500   \n",
       "\n",
       "      usd_monthly_pay  usd_per_gb  usd_per_message  usd_per_minute  \\\n",
       "1486               20          10             0.03            0.03   \n",
       "1659               20          10             0.03            0.03   \n",
       "1660               20          10             0.03            0.03   \n",
       "1117               20          10             0.03            0.03   \n",
       "1980               20          10             0.03            0.03   \n",
       "\n",
       "      gb_per_month_included  messages_cost  calls_cost  gb_cost  revenue  \n",
       "1486                   15.0           0.00       17.85    340.0   377.85  \n",
       "1659                   15.0           0.00        0.00    360.0   380.00  \n",
       "1660                   15.0           0.00        0.00    360.0   380.00  \n",
       "1117                   15.0           1.41        0.00    510.0   531.41  \n",
       "1980                   15.0           2.28       18.09    550.0   590.37  "
      ]
     },
     "execution_count": 67,
     "metadata": {},
     "output_type": "execute_result"
    }
   ],
   "source": [
    "# Calculate the monthly revenue for each user and add a new column witht the value for extra cost per message, call, gb\n",
    "\n",
    "aggregated_data['messages_cost'] = aggregated_data.apply(\n",
    "    lambda x: max(0, x['messages_sent'] - x['messages_included']) * x['usd_per_message'],axis = 1)\n",
    "aggregated_data['calls_cost'] = aggregated_data.apply(\n",
    "    lambda x: max(0, x['total_min_month'] - x['minutes_included']) * x['usd_per_minute'],axis = 1)\n",
    "aggregated_data['gb_cost'] = aggregated_data.apply(\n",
    "    lambda x: max(0, x['gb_used'] - x['gb_per_month_included'])*x['usd_per_gb'],axis = 1)\n",
    "\n",
    "aggregated_data['revenue'] = aggregated_data['messages_cost'] + aggregated_data['calls_cost'] + aggregated_data['gb_cost'] + aggregated_data['usd_monthly_pay']\n",
    "aggregated_data.sort_values('gb_used').tail()"
   ]
  },
  {
   "cell_type": "markdown",
   "metadata": {},
   "source": [
    "- Ultimate plan has more revenue because the price of the plan is more expensive, but Surf plan gets revenue from the users who use more than their plan, since more users pass the limit of gb provided in the plan"
   ]
  },
  {
   "cell_type": "markdown",
   "metadata": {},
   "source": [
    "## Exploratory Analysis\n",
    "\n",
    "   * Customer's behavior: \n",
    "       * minutes, texts, and volume of data the users of each plan require per month\n",
    "   * Mean, variance and standard deviation\n",
    "   * Histograms & distributions\n",
    "   * Describe distributions"
   ]
  },
  {
   "cell_type": "markdown",
   "metadata": {},
   "source": [
    "### Study user behaviour\n"
   ]
  },
  {
   "cell_type": "code",
   "execution_count": 68,
   "metadata": {
    "scrolled": true
   },
   "outputs": [
    {
     "data": {
      "image/png": "[encoded data removed]",
      "text/plain": [
       "<Figure size 432x288 with 1 Axes>"
      ]
     },
     "metadata": {
      "needs_background": "light"
     },
     "output_type": "display_data"
    }
   ],
   "source": [
    "#distribution of plan usage per number of users\n",
    "aggregated_data['plan_name'].value_counts().plot(kind='bar', figsize=(6,4), color='lightseagreen',edgecolor = \"gray\", grid=False)\n",
    "plt.title(\"Plans usage\")\n",
    "plt.xlabel('plan_name')\n",
    "plt.ylabel('user_id');"
   ]
  },
  {
   "cell_type": "code",
   "execution_count": 69,
   "metadata": {},
   "outputs": [
    {
     "data": {
      "text/html": [
       "<div>\n",
       "<style scoped>\n",
       "    .dataframe tbody tr th:only-of-type {\n",
       "        vertical-align: middle;\n",
       "    }\n",
       "\n",
       "    .dataframe tbody tr th {\n",
       "        vertical-align: top;\n",
       "    }\n",
       "\n",
       "    .dataframe thead th {\n",
       "        text-align: right;\n",
       "    }\n",
       "</style>\n",
       "<table border=\"1\" class=\"dataframe\">\n",
       "  <thead>\n",
       "    <tr style=\"text-align: right;\">\n",
       "      <th></th>\n",
       "      <th>user_id</th>\n",
       "      <th>month</th>\n",
       "      <th>total_calls_made</th>\n",
       "      <th>total_min_month</th>\n",
       "      <th>messages_sent</th>\n",
       "      <th>gb_used</th>\n",
       "      <th>first_name</th>\n",
       "      <th>last_name</th>\n",
       "      <th>age</th>\n",
       "      <th>city</th>\n",
       "      <th>subscription_date</th>\n",
       "      <th>plan_name</th>\n",
       "      <th>churn_date</th>\n",
       "      <th>customer_churn</th>\n",
       "      <th>subscription_month</th>\n",
       "      <th>year</th>\n",
       "      <th>messages_included</th>\n",
       "      <th>mb_per_month_included</th>\n",
       "      <th>minutes_included</th>\n",
       "      <th>usd_monthly_pay</th>\n",
       "      <th>usd_per_gb</th>\n",
       "      <th>usd_per_message</th>\n",
       "      <th>usd_per_minute</th>\n",
       "      <th>gb_per_month_included</th>\n",
       "      <th>messages_cost</th>\n",
       "      <th>calls_cost</th>\n",
       "      <th>gb_cost</th>\n",
       "      <th>revenue</th>\n",
       "    </tr>\n",
       "  </thead>\n",
       "  <tbody>\n",
       "    <tr>\n",
       "      <th>1486</th>\n",
       "      <td>1240</td>\n",
       "      <td>August</td>\n",
       "      <td>161.0</td>\n",
       "      <td>1095.0</td>\n",
       "      <td>15.0</td>\n",
       "      <td>49.0</td>\n",
       "      <td>Drema</td>\n",
       "      <td>Lopez</td>\n",
       "      <td>61</td>\n",
       "      <td>Baton Rouge, LA MSA</td>\n",
       "      <td>2018-03-18</td>\n",
       "      <td>surf</td>\n",
       "      <td>NaT</td>\n",
       "      <td>No churn</td>\n",
       "      <td>March</td>\n",
       "      <td>2018</td>\n",
       "      <td>50</td>\n",
       "      <td>15360</td>\n",
       "      <td>500</td>\n",
       "      <td>20</td>\n",
       "      <td>10</td>\n",
       "      <td>0.03</td>\n",
       "      <td>0.03</td>\n",
       "      <td>15.0</td>\n",
       "      <td>0.00</td>\n",
       "      <td>17.85</td>\n",
       "      <td>340.0</td>\n",
       "      <td>377.85</td>\n",
       "    </tr>\n",
       "    <tr>\n",
       "      <th>1659</th>\n",
       "      <td>1292</td>\n",
       "      <td>August</td>\n",
       "      <td>42.0</td>\n",
       "      <td>323.0</td>\n",
       "      <td>0.0</td>\n",
       "      <td>51.0</td>\n",
       "      <td>Cassey</td>\n",
       "      <td>French</td>\n",
       "      <td>42</td>\n",
       "      <td>Dallas-Fort Worth-Arlington, TX MSA</td>\n",
       "      <td>2018-01-27</td>\n",
       "      <td>surf</td>\n",
       "      <td>NaT</td>\n",
       "      <td>No churn</td>\n",
       "      <td>January</td>\n",
       "      <td>2018</td>\n",
       "      <td>50</td>\n",
       "      <td>15360</td>\n",
       "      <td>500</td>\n",
       "      <td>20</td>\n",
       "      <td>10</td>\n",
       "      <td>0.03</td>\n",
       "      <td>0.03</td>\n",
       "      <td>15.0</td>\n",
       "      <td>0.00</td>\n",
       "      <td>0.00</td>\n",
       "      <td>360.0</td>\n",
       "      <td>380.00</td>\n",
       "    </tr>\n",
       "    <tr>\n",
       "      <th>1660</th>\n",
       "      <td>1292</td>\n",
       "      <td>December</td>\n",
       "      <td>28.0</td>\n",
       "      <td>144.0</td>\n",
       "      <td>0.0</td>\n",
       "      <td>51.0</td>\n",
       "      <td>Cassey</td>\n",
       "      <td>French</td>\n",
       "      <td>42</td>\n",
       "      <td>Dallas-Fort Worth-Arlington, TX MSA</td>\n",
       "      <td>2018-01-27</td>\n",
       "      <td>surf</td>\n",
       "      <td>NaT</td>\n",
       "      <td>No churn</td>\n",
       "      <td>January</td>\n",
       "      <td>2018</td>\n",
       "      <td>50</td>\n",
       "      <td>15360</td>\n",
       "      <td>500</td>\n",
       "      <td>20</td>\n",
       "      <td>10</td>\n",
       "      <td>0.03</td>\n",
       "      <td>0.03</td>\n",
       "      <td>15.0</td>\n",
       "      <td>0.00</td>\n",
       "      <td>0.00</td>\n",
       "      <td>360.0</td>\n",
       "      <td>380.00</td>\n",
       "    </tr>\n",
       "    <tr>\n",
       "      <th>1117</th>\n",
       "      <td>1121</td>\n",
       "      <td>December</td>\n",
       "      <td>0.0</td>\n",
       "      <td>0.0</td>\n",
       "      <td>97.0</td>\n",
       "      <td>66.0</td>\n",
       "      <td>Kathaleen</td>\n",
       "      <td>Albert</td>\n",
       "      <td>34</td>\n",
       "      <td>Miami-Fort Lauderdale-West Palm Beach, FL MSA</td>\n",
       "      <td>2018-03-13</td>\n",
       "      <td>surf</td>\n",
       "      <td>NaT</td>\n",
       "      <td>No churn</td>\n",
       "      <td>March</td>\n",
       "      <td>2018</td>\n",
       "      <td>50</td>\n",
       "      <td>15360</td>\n",
       "      <td>500</td>\n",
       "      <td>20</td>\n",
       "      <td>10</td>\n",
       "      <td>0.03</td>\n",
       "      <td>0.03</td>\n",
       "      <td>15.0</td>\n",
       "      <td>1.41</td>\n",
       "      <td>0.00</td>\n",
       "      <td>510.0</td>\n",
       "      <td>531.41</td>\n",
       "    </tr>\n",
       "    <tr>\n",
       "      <th>1980</th>\n",
       "      <td>1379</td>\n",
       "      <td>December</td>\n",
       "      <td>144.0</td>\n",
       "      <td>1103.0</td>\n",
       "      <td>126.0</td>\n",
       "      <td>70.0</td>\n",
       "      <td>Jarrett</td>\n",
       "      <td>Spencer</td>\n",
       "      <td>34</td>\n",
       "      <td>Grand Rapids-Kentwood, MI MSA</td>\n",
       "      <td>2018-10-18</td>\n",
       "      <td>surf</td>\n",
       "      <td>NaT</td>\n",
       "      <td>No churn</td>\n",
       "      <td>October</td>\n",
       "      <td>2018</td>\n",
       "      <td>50</td>\n",
       "      <td>15360</td>\n",
       "      <td>500</td>\n",
       "      <td>20</td>\n",
       "      <td>10</td>\n",
       "      <td>0.03</td>\n",
       "      <td>0.03</td>\n",
       "      <td>15.0</td>\n",
       "      <td>2.28</td>\n",
       "      <td>18.09</td>\n",
       "      <td>550.0</td>\n",
       "      <td>590.37</td>\n",
       "    </tr>\n",
       "  </tbody>\n",
       "</table>\n",
       "</div>"
      ],
      "text/plain": [
       "      user_id     month  total_calls_made  total_min_month  messages_sent  \\\n",
       "1486     1240    August             161.0           1095.0           15.0   \n",
       "1659     1292    August              42.0            323.0            0.0   \n",
       "1660     1292  December              28.0            144.0            0.0   \n",
       "1117     1121  December               0.0              0.0           97.0   \n",
       "1980     1379  December             144.0           1103.0          126.0   \n",
       "\n",
       "      gb_used first_name last_name  age  \\\n",
       "1486     49.0      Drema     Lopez   61   \n",
       "1659     51.0     Cassey    French   42   \n",
       "1660     51.0     Cassey    French   42   \n",
       "1117     66.0  Kathaleen    Albert   34   \n",
       "1980     70.0    Jarrett   Spencer   34   \n",
       "\n",
       "                                               city subscription_date  \\\n",
       "1486                            Baton Rouge, LA MSA        2018-03-18   \n",
       "1659            Dallas-Fort Worth-Arlington, TX MSA        2018-01-27   \n",
       "1660            Dallas-Fort Worth-Arlington, TX MSA        2018-01-27   \n",
       "1117  Miami-Fort Lauderdale-West Palm Beach, FL MSA        2018-03-13   \n",
       "1980                  Grand Rapids-Kentwood, MI MSA        2018-10-18   \n",
       "\n",
       "     plan_name churn_date customer_churn subscription_month  year  \\\n",
       "1486      surf        NaT       No churn              March  2018   \n",
       "1659      surf        NaT       No churn            January  2018   \n",
       "1660      surf        NaT       No churn            January  2018   \n",
       "1117      surf        NaT       No churn              March  2018   \n",
       "1980      surf        NaT       No churn            October  2018   \n",
       "\n",
       "      messages_included  mb_per_month_included  minutes_included  \\\n",
       "1486                 50                  15360               500   \n",
       "1659                 50                  15360               500   \n",
       "1660                 50                  15360               500   \n",
       "1117                 50                  15360               500   \n",
       "1980                 50                  15360               500   \n",
       "\n",
       "      usd_monthly_pay  usd_per_gb  usd_per_message  usd_per_minute  \\\n",
       "1486               20          10             0.03            0.03   \n",
       "1659               20          10             0.03            0.03   \n",
       "1660               20          10             0.03            0.03   \n",
       "1117               20          10             0.03            0.03   \n",
       "1980               20          10             0.03            0.03   \n",
       "\n",
       "      gb_per_month_included  messages_cost  calls_cost  gb_cost  revenue  \n",
       "1486                   15.0           0.00       17.85    340.0   377.85  \n",
       "1659                   15.0           0.00        0.00    360.0   380.00  \n",
       "1660                   15.0           0.00        0.00    360.0   380.00  \n",
       "1117                   15.0           1.41        0.00    510.0   531.41  \n",
       "1980                   15.0           2.28       18.09    550.0   590.37  "
      ]
     },
     "execution_count": 69,
     "metadata": {},
     "output_type": "execute_result"
    }
   ],
   "source": [
    "aggregated_data.sort_values('gb_used').tail()"
   ]
  },
  {
   "cell_type": "code",
   "execution_count": 70,
   "metadata": {},
   "outputs": [],
   "source": [
    "#filtered data for surf plan\n",
    "surf_plan_info = aggregated_data.query(\"plan_name == 'surf'\")\n",
    "surf_plan_info = surf_plan_info[['total_calls_made', 'total_min_month', 'messages_sent', 'gb_used', 'revenue']]\n",
    "\n",
    "# filtered data for the ultimate plan\n",
    "ultimate_plan_info = aggregated_data.query(\"plan_name == 'ultimate'\")\n",
    "ultimate_plan_info = ultimate_plan_info[['total_calls_made', 'total_min_month', 'messages_sent', 'gb_used', 'revenue','month']]\n",
    "\n"
   ]
  },
  {
   "cell_type": "code",
   "execution_count": 71,
   "metadata": {},
   "outputs": [
    {
     "data": {
      "text/html": [
       "<div>\n",
       "<style scoped>\n",
       "    .dataframe tbody tr th:only-of-type {\n",
       "        vertical-align: middle;\n",
       "    }\n",
       "\n",
       "    .dataframe tbody tr th {\n",
       "        vertical-align: top;\n",
       "    }\n",
       "\n",
       "    .dataframe thead th {\n",
       "        text-align: right;\n",
       "    }\n",
       "</style>\n",
       "<table border=\"1\" class=\"dataframe\">\n",
       "  <thead>\n",
       "    <tr style=\"text-align: right;\">\n",
       "      <th></th>\n",
       "      <th>total_calls_made</th>\n",
       "      <th>total_min_month</th>\n",
       "      <th>messages_sent</th>\n",
       "      <th>gb_used</th>\n",
       "      <th>revenue</th>\n",
       "    </tr>\n",
       "  </thead>\n",
       "  <tbody>\n",
       "    <tr>\n",
       "      <th>count</th>\n",
       "      <td>1573.000000</td>\n",
       "      <td>1573.000000</td>\n",
       "      <td>1573.000000</td>\n",
       "      <td>1573.000000</td>\n",
       "      <td>1573.000000</td>\n",
       "    </tr>\n",
       "    <tr>\n",
       "      <th>mean</th>\n",
       "      <td>59.811825</td>\n",
       "      <td>428.749523</td>\n",
       "      <td>31.159568</td>\n",
       "      <td>16.670693</td>\n",
       "      <td>60.706408</td>\n",
       "    </tr>\n",
       "    <tr>\n",
       "      <th>std</th>\n",
       "      <td>32.017989</td>\n",
       "      <td>234.453150</td>\n",
       "      <td>33.566717</td>\n",
       "      <td>7.847522</td>\n",
       "      <td>55.388042</td>\n",
       "    </tr>\n",
       "    <tr>\n",
       "      <th>min</th>\n",
       "      <td>0.000000</td>\n",
       "      <td>0.000000</td>\n",
       "      <td>0.000000</td>\n",
       "      <td>0.000000</td>\n",
       "      <td>20.000000</td>\n",
       "    </tr>\n",
       "    <tr>\n",
       "      <th>25%</th>\n",
       "      <td>39.000000</td>\n",
       "      <td>272.000000</td>\n",
       "      <td>3.000000</td>\n",
       "      <td>12.000000</td>\n",
       "      <td>20.000000</td>\n",
       "    </tr>\n",
       "    <tr>\n",
       "      <th>50%</th>\n",
       "      <td>60.000000</td>\n",
       "      <td>425.000000</td>\n",
       "      <td>24.000000</td>\n",
       "      <td>17.000000</td>\n",
       "      <td>40.360000</td>\n",
       "    </tr>\n",
       "    <tr>\n",
       "      <th>75%</th>\n",
       "      <td>79.000000</td>\n",
       "      <td>576.000000</td>\n",
       "      <td>47.000000</td>\n",
       "      <td>21.000000</td>\n",
       "      <td>80.360000</td>\n",
       "    </tr>\n",
       "    <tr>\n",
       "      <th>max</th>\n",
       "      <td>205.000000</td>\n",
       "      <td>1510.000000</td>\n",
       "      <td>266.000000</td>\n",
       "      <td>70.000000</td>\n",
       "      <td>590.370000</td>\n",
       "    </tr>\n",
       "  </tbody>\n",
       "</table>\n",
       "</div>"
      ],
      "text/plain": [
       "       total_calls_made  total_min_month  messages_sent      gb_used  \\\n",
       "count       1573.000000      1573.000000    1573.000000  1573.000000   \n",
       "mean          59.811825       428.749523      31.159568    16.670693   \n",
       "std           32.017989       234.453150      33.566717     7.847522   \n",
       "min            0.000000         0.000000       0.000000     0.000000   \n",
       "25%           39.000000       272.000000       3.000000    12.000000   \n",
       "50%           60.000000       425.000000      24.000000    17.000000   \n",
       "75%           79.000000       576.000000      47.000000    21.000000   \n",
       "max          205.000000      1510.000000     266.000000    70.000000   \n",
       "\n",
       "           revenue  \n",
       "count  1573.000000  \n",
       "mean     60.706408  \n",
       "std      55.388042  \n",
       "min      20.000000  \n",
       "25%      20.000000  \n",
       "50%      40.360000  \n",
       "75%      80.360000  \n",
       "max     590.370000  "
      ]
     },
     "execution_count": 71,
     "metadata": {},
     "output_type": "execute_result"
    }
   ],
   "source": [
    "surf_plan_info.describe()"
   ]
  },
  {
   "cell_type": "code",
   "execution_count": 72,
   "metadata": {},
   "outputs": [
    {
     "data": {
      "text/html": [
       "<div>\n",
       "<style scoped>\n",
       "    .dataframe tbody tr th:only-of-type {\n",
       "        vertical-align: middle;\n",
       "    }\n",
       "\n",
       "    .dataframe tbody tr th {\n",
       "        vertical-align: top;\n",
       "    }\n",
       "\n",
       "    .dataframe thead th {\n",
       "        text-align: right;\n",
       "    }\n",
       "</style>\n",
       "<table border=\"1\" class=\"dataframe\">\n",
       "  <thead>\n",
       "    <tr style=\"text-align: right;\">\n",
       "      <th></th>\n",
       "      <th>total_calls_made</th>\n",
       "      <th>total_min_month</th>\n",
       "      <th>messages_sent</th>\n",
       "      <th>gb_used</th>\n",
       "      <th>revenue</th>\n",
       "    </tr>\n",
       "  </thead>\n",
       "  <tbody>\n",
       "    <tr>\n",
       "      <th>count</th>\n",
       "      <td>720.000000</td>\n",
       "      <td>720.000000</td>\n",
       "      <td>720.000000</td>\n",
       "      <td>720.000000</td>\n",
       "      <td>720.000000</td>\n",
       "    </tr>\n",
       "    <tr>\n",
       "      <th>mean</th>\n",
       "      <td>60.626389</td>\n",
       "      <td>430.450000</td>\n",
       "      <td>37.551389</td>\n",
       "      <td>17.306944</td>\n",
       "      <td>72.313889</td>\n",
       "    </tr>\n",
       "    <tr>\n",
       "      <th>std</th>\n",
       "      <td>33.242994</td>\n",
       "      <td>240.508762</td>\n",
       "      <td>34.767179</td>\n",
       "      <td>7.670108</td>\n",
       "      <td>11.395108</td>\n",
       "    </tr>\n",
       "    <tr>\n",
       "      <th>min</th>\n",
       "      <td>0.000000</td>\n",
       "      <td>0.000000</td>\n",
       "      <td>0.000000</td>\n",
       "      <td>0.000000</td>\n",
       "      <td>70.000000</td>\n",
       "    </tr>\n",
       "    <tr>\n",
       "      <th>25%</th>\n",
       "      <td>36.000000</td>\n",
       "      <td>260.000000</td>\n",
       "      <td>7.000000</td>\n",
       "      <td>13.000000</td>\n",
       "      <td>70.000000</td>\n",
       "    </tr>\n",
       "    <tr>\n",
       "      <th>50%</th>\n",
       "      <td>61.000000</td>\n",
       "      <td>424.000000</td>\n",
       "      <td>30.000000</td>\n",
       "      <td>17.000000</td>\n",
       "      <td>70.000000</td>\n",
       "    </tr>\n",
       "    <tr>\n",
       "      <th>75%</th>\n",
       "      <td>80.000000</td>\n",
       "      <td>565.250000</td>\n",
       "      <td>61.000000</td>\n",
       "      <td>21.000000</td>\n",
       "      <td>70.000000</td>\n",
       "    </tr>\n",
       "    <tr>\n",
       "      <th>max</th>\n",
       "      <td>191.000000</td>\n",
       "      <td>1369.000000</td>\n",
       "      <td>166.000000</td>\n",
       "      <td>46.000000</td>\n",
       "      <td>182.000000</td>\n",
       "    </tr>\n",
       "  </tbody>\n",
       "</table>\n",
       "</div>"
      ],
      "text/plain": [
       "       total_calls_made  total_min_month  messages_sent     gb_used  \\\n",
       "count        720.000000       720.000000     720.000000  720.000000   \n",
       "mean          60.626389       430.450000      37.551389   17.306944   \n",
       "std           33.242994       240.508762      34.767179    7.670108   \n",
       "min            0.000000         0.000000       0.000000    0.000000   \n",
       "25%           36.000000       260.000000       7.000000   13.000000   \n",
       "50%           61.000000       424.000000      30.000000   17.000000   \n",
       "75%           80.000000       565.250000      61.000000   21.000000   \n",
       "max          191.000000      1369.000000     166.000000   46.000000   \n",
       "\n",
       "          revenue  \n",
       "count  720.000000  \n",
       "mean    72.313889  \n",
       "std     11.395108  \n",
       "min     70.000000  \n",
       "25%     70.000000  \n",
       "50%     70.000000  \n",
       "75%     70.000000  \n",
       "max    182.000000  "
      ]
     },
     "execution_count": 72,
     "metadata": {},
     "output_type": "execute_result"
    }
   ],
   "source": [
    "ultimate_plan_info.describe()"
   ]
  },
  {
   "cell_type": "code",
   "execution_count": 73,
   "metadata": {
    "scrolled": false
   },
   "outputs": [
    {
     "data": {
      "image/png": "[encoded data removed]",
      "text/plain": [
       "<Figure size 1080x720 with 4 Axes>"
      ]
     },
     "metadata": {
      "needs_background": "light"
     },
     "output_type": "display_data"
    },
    {
     "data": {
      "image/png": "[encoded data removed]",
      "text/plain": [
       "<Figure size 1080x720 with 4 Axes>"
      ]
     },
     "metadata": {
      "needs_background": "light"
     },
     "output_type": "display_data"
    }
   ],
   "source": [
    "#histogram for filtered data\n",
    "ultimate_plan_info[['total_calls_made', 'total_min_month', 'messages_sent', 'gb_used']].hist(bins=30, figsize=(15, 10), color='green',edgecolor = \"gray\", grid=False)\n",
    "plt.suptitle('Ultimate plan info', y=0.95);\n",
    "\n",
    "\n",
    "surf_plan_info[['total_calls_made', 'total_min_month', 'messages_sent', 'gb_used']].hist(bins=30, figsize=(15, 10), color='orange',edgecolor = \"gray\", grid=False)\n",
    "plt.suptitle('Surf plan info', y=0.95);\n"
   ]
  },
  {
   "cell_type": "code",
   "execution_count": 74,
   "metadata": {},
   "outputs": [
    {
     "data": {
      "image/png": "[encoded data removed]",
      "text/plain": [
       "<Figure size 720x576 with 1 Axes>"
      ]
     },
     "metadata": {
      "needs_background": "light"
     },
     "output_type": "display_data"
    }
   ],
   "source": [
    "# Reviewer's code\n",
    "\n",
    "\n",
    "aggregated_data.groupby('plan_name')['total_min_month'].plot.hist(alpha=0.5, legend=True, bins=25, figsize=(10,8))\n",
    "\n",
    "plt.legend(['Surf', 'Ultimate'])\n",
    "plt.title('Title')\n",
    "plt.xlabel('x')\n",
    "plt.ylabel('y')\n",
    "\n",
    "plt.show()"
   ]
  },
  {
   "cell_type": "code",
   "execution_count": 75,
   "metadata": {
    "scrolled": false
   },
   "outputs": [
    {
     "data": {
      "text/html": [
       "<div>\n",
       "<style scoped>\n",
       "    .dataframe tbody tr th:only-of-type {\n",
       "        vertical-align: middle;\n",
       "    }\n",
       "\n",
       "    .dataframe tbody tr th {\n",
       "        vertical-align: top;\n",
       "    }\n",
       "\n",
       "    .dataframe thead th {\n",
       "        text-align: right;\n",
       "    }\n",
       "</style>\n",
       "<table border=\"1\" class=\"dataframe\">\n",
       "  <thead>\n",
       "    <tr style=\"text-align: right;\">\n",
       "      <th></th>\n",
       "      <th>gb_used</th>\n",
       "      <th>messages_sent</th>\n",
       "      <th>total_calls_made</th>\n",
       "      <th>total_min_month</th>\n",
       "    </tr>\n",
       "    <tr>\n",
       "      <th>plan_name</th>\n",
       "      <th></th>\n",
       "      <th></th>\n",
       "      <th></th>\n",
       "      <th></th>\n",
       "    </tr>\n",
       "  </thead>\n",
       "  <tbody>\n",
       "    <tr>\n",
       "      <th>surf</th>\n",
       "      <td>16.670693</td>\n",
       "      <td>31.159568</td>\n",
       "      <td>59.811825</td>\n",
       "      <td>428.749523</td>\n",
       "    </tr>\n",
       "    <tr>\n",
       "      <th>ultimate</th>\n",
       "      <td>17.306944</td>\n",
       "      <td>37.551389</td>\n",
       "      <td>60.626389</td>\n",
       "      <td>430.450000</td>\n",
       "    </tr>\n",
       "  </tbody>\n",
       "</table>\n",
       "</div>"
      ],
      "text/plain": [
       "             gb_used  messages_sent  total_calls_made  total_min_month\n",
       "plan_name                                                             \n",
       "surf       16.670693      31.159568         59.811825       428.749523\n",
       "ultimate   17.306944      37.551389         60.626389       430.450000"
      ]
     },
     "metadata": {},
     "output_type": "display_data"
    },
    {
     "data": {
      "image/png": "[encoded data removed]",
      "text/plain": [
       "<Figure size 432x288 with 1 Axes>"
      ]
     },
     "metadata": {
      "needs_background": "light"
     },
     "output_type": "display_data"
    }
   ],
   "source": [
    "#average data use per plan\n",
    "usage_data = aggregated_data.pivot_table(index='plan_name', values=['total_calls_made', 'total_min_month', 'messages_sent', 'gb_used'], aggfunc='mean')\n",
    "display(usage_data)\n",
    "usage_data.plot(kind='bar');"
   ]
  },
  {
   "cell_type": "code",
   "execution_count": 76,
   "metadata": {},
   "outputs": [],
   "source": [
    "def user_behaviour(behavior):\n",
    "    fig, ax = plt.subplots(figsize=(8,7))\n",
    "    ax = sns.histplot(\n",
    "        aggregated_data, \n",
    "        x=behavior, \n",
    "        hue=\"plan_name\", \n",
    "        kde=True, \n",
    "        palette=\"husl\"\n",
    "    )\n",
    "\n",
    "    mean=aggregated_data[behavior].mean()\n",
    "    std=aggregated_data[behavior].std()\n",
    "    var=aggregated_data[behavior].var()\n",
    "    cv=std/mean\n",
    "    plt.show()\n",
    "    print(\"Average is\",mean)\n",
    "    print(aggregated_data.groupby(['plan_name'])[behavior].mean())\n",
    "    print()\n",
    "    print(aggregated_data.groupby(['plan_name'])[behavior].std())\n",
    "    print()\n",
    "    print(aggregated_data.groupby(['plan_name'])[behavior].var())\n",
    "    print()\n",
    "    if cv>1:\n",
    "        print(\"Varies a lot\")\n",
    "    else:\n",
    "        print(\"Centered around average\")"
   ]
  },
  {
   "cell_type": "markdown",
   "metadata": {},
   "source": [
    "### Calls"
   ]
  },
  {
   "cell_type": "markdown",
   "metadata": {},
   "source": [
    "#### Total min per month"
   ]
  },
  {
   "cell_type": "code",
   "execution_count": 77,
   "metadata": {},
   "outputs": [
    {
     "data": {
      "image/png": "[encoded data removed]",
      "text/plain": [
       "<Figure size 576x504 with 1 Axes>"
      ]
     },
     "metadata": {
      "needs_background": "light"
     },
     "output_type": "display_data"
    },
    {
     "name": "stdout",
     "output_type": "stream",
     "text": [
      "Average is 429.2834714348016\n",
      "plan_name\n",
      "surf        428.749523\n",
      "ultimate    430.450000\n",
      "Name: total_min_month, dtype: float64\n",
      "\n",
      "plan_name\n",
      "surf        234.453150\n",
      "ultimate    240.508762\n",
      "Name: total_min_month, dtype: float64\n",
      "\n",
      "plan_name\n",
      "surf        54968.279461\n",
      "ultimate    57844.464812\n",
      "Name: total_min_month, dtype: float64\n",
      "\n",
      "Centered around average\n"
     ]
    }
   ],
   "source": [
    "#total minutes per month and plan\n",
    "user_behaviour('total_min_month')"
   ]
  },
  {
   "cell_type": "markdown",
   "metadata": {},
   "source": [
    "#### Total calls per month"
   ]
  },
  {
   "cell_type": "code",
   "execution_count": 78,
   "metadata": {
    "scrolled": false
   },
   "outputs": [
    {
     "data": {
      "image/png": "[encoded data removed]",
      "text/plain": [
       "<Figure size 576x504 with 1 Axes>"
      ]
     },
     "metadata": {
      "needs_background": "light"
     },
     "output_type": "display_data"
    },
    {
     "name": "stdout",
     "output_type": "stream",
     "text": [
      "Average is 60.06759703445268\n",
      "plan_name\n",
      "surf        59.811825\n",
      "ultimate    60.626389\n",
      "Name: total_calls_made, dtype: float64\n",
      "\n",
      "plan_name\n",
      "surf        32.017989\n",
      "ultimate    33.242994\n",
      "Name: total_calls_made, dtype: float64\n",
      "\n",
      "plan_name\n",
      "surf        1025.15159\n",
      "ultimate    1105.09666\n",
      "Name: total_calls_made, dtype: float64\n",
      "\n",
      "Centered around average\n"
     ]
    }
   ],
   "source": [
    "user_behaviour('total_calls_made')"
   ]
  },
  {
   "cell_type": "code",
   "execution_count": 79,
   "metadata": {},
   "outputs": [
    {
     "name": "stdout",
     "output_type": "stream",
     "text": [
      "Percentage of Surf plan users who use more call minutes than provided in the plan: 35.98%\n",
      "Percentage of Ultimate plan users who use more call minutes than provided in the plan: 0.00%\n"
     ]
    }
   ],
   "source": [
    "print('Percentage of Surf plan users who use more call minutes than provided in the plan: {:.2%}'.format((aggregated_data.loc[aggregated_data['plan_name']=='surf', 'total_min_month']>500).mean()))\n",
    "print('Percentage of Ultimate plan users who use more call minutes than provided in the plan: {:.2%}'.format((aggregated_data.loc[aggregated_data['plan_name']=='ultimate', 'total_min_month']>3000).mean()))"
   ]
  },
  {
   "cell_type": "markdown",
   "metadata": {},
   "source": [
    " "
   ]
  },
  {
   "cell_type": "markdown",
   "metadata": {},
   "source": [
    "### Messages"
   ]
  },
  {
   "cell_type": "code",
   "execution_count": 80,
   "metadata": {
    "scrolled": false
   },
   "outputs": [
    {
     "data": {
      "image/png": "[encoded data removed]",
      "text/plain": [
       "<Figure size 576x504 with 1 Axes>"
      ]
     },
     "metadata": {
      "needs_background": "light"
     },
     "output_type": "display_data"
    },
    {
     "name": "stdout",
     "output_type": "stream",
     "text": [
      "Average is 33.166593981683384\n",
      "plan_name\n",
      "surf        31.159568\n",
      "ultimate    37.551389\n",
      "Name: messages_sent, dtype: float64\n",
      "\n",
      "plan_name\n",
      "surf        33.566717\n",
      "ultimate    34.767179\n",
      "Name: messages_sent, dtype: float64\n",
      "\n",
      "plan_name\n",
      "surf        1126.724522\n",
      "ultimate    1208.756744\n",
      "Name: messages_sent, dtype: float64\n",
      "\n",
      "Varies a lot\n"
     ]
    }
   ],
   "source": [
    "user_behaviour('messages_sent')"
   ]
  },
  {
   "cell_type": "code",
   "execution_count": 81,
   "metadata": {},
   "outputs": [
    {
     "name": "stdout",
     "output_type": "stream",
     "text": [
      "Percentage of Surf plan users who use more messages than provided in the plan: 21.61%\n",
      "Percentage of Ultimate plan users who use more messages than provided in the plan: 0.00%\n"
     ]
    }
   ],
   "source": [
    "print('Percentage of Surf plan users who use more messages than provided in the plan: {:.2%}'.format((aggregated_data.loc[aggregated_data['plan_name']=='surf', 'messages_sent']>50).mean()))\n",
    "print('Percentage of Ultimate plan users who use more messages than provided in the plan: {:.2%}'.format((aggregated_data.loc[aggregated_data['plan_name']=='ultimate', 'messages_sent']>1000).mean()))\n"
   ]
  },
  {
   "cell_type": "markdown",
   "metadata": {},
   "source": [
    " "
   ]
  },
  {
   "cell_type": "markdown",
   "metadata": {},
   "source": [
    "### Internet"
   ]
  },
  {
   "cell_type": "code",
   "execution_count": 82,
   "metadata": {
    "scrolled": false
   },
   "outputs": [
    {
     "data": {
      "image/png": "[encoded data removed]",
      "text/plain": [
       "<Figure size 576x504 with 1 Axes>"
      ]
     },
     "metadata": {
      "needs_background": "light"
     },
     "output_type": "display_data"
    },
    {
     "name": "stdout",
     "output_type": "stream",
     "text": [
      "Average is 16.870475359790667\n",
      "plan_name\n",
      "surf        16.670693\n",
      "ultimate    17.306944\n",
      "Name: gb_used, dtype: float64\n",
      "\n",
      "plan_name\n",
      "surf        7.847522\n",
      "ultimate    7.670108\n",
      "Name: gb_used, dtype: float64\n",
      "\n",
      "plan_name\n",
      "surf        61.58360\n",
      "ultimate    58.83055\n",
      "Name: gb_used, dtype: float64\n",
      "\n",
      "Centered around average\n"
     ]
    }
   ],
   "source": [
    "user_behaviour('gb_used')"
   ]
  },
  {
   "cell_type": "code",
   "execution_count": 83,
   "metadata": {
    "scrolled": false
   },
   "outputs": [
    {
     "name": "stdout",
     "output_type": "stream",
     "text": [
      "Percentage of Surf plan users who use more GB than provided in the plan: 57.91%\n",
      "Percentage of Ultimate plan users who use more GB than provided in the plan: 5.69%\n"
     ]
    }
   ],
   "source": [
    "print('Percentage of Surf plan users who use more GB than provided in the plan: {:.2%}'.format((aggregated_data.loc[aggregated_data['plan_name']=='surf', 'gb_used']>15).mean()))\n",
    "print('Percentage of Ultimate plan users who use more GB than provided in the plan: {:.2%}'.format((aggregated_data.loc[aggregated_data['plan_name']=='ultimate', 'gb_used']>30).mean()))\n"
   ]
  },
  {
   "cell_type": "markdown",
   "metadata": {},
   "source": [
    " "
   ]
  },
  {
   "cell_type": "markdown",
   "metadata": {},
   "source": [
    "### Revenue"
   ]
  },
  {
   "cell_type": "code",
   "execution_count": 84,
   "metadata": {
    "scrolled": false
   },
   "outputs": [
    {
     "data": {
      "image/png": "[encoded data removed]",
      "text/plain": [
       "<Figure size 576x504 with 1 Axes>"
      ]
     },
     "metadata": {
      "needs_background": "light"
     },
     "output_type": "display_data"
    },
    {
     "name": "stdout",
     "output_type": "stream",
     "text": [
      "Average is 64.3511469690362\n",
      "plan_name\n",
      "surf        60.706408\n",
      "ultimate    72.313889\n",
      "Name: revenue, dtype: float64\n",
      "\n",
      "plan_name\n",
      "surf        55.388042\n",
      "ultimate    11.395108\n",
      "Name: revenue, dtype: float64\n",
      "\n",
      "plan_name\n",
      "surf        3067.835152\n",
      "ultimate     129.848486\n",
      "Name: revenue, dtype: float64\n",
      "\n",
      "Centered around average\n"
     ]
    }
   ],
   "source": [
    "user_behaviour('revenue')"
   ]
  },
  {
   "cell_type": "code",
   "execution_count": 85,
   "metadata": {},
   "outputs": [
    {
     "data": {
      "image/png": "[encoded data removed]",
      "text/plain": [
       "<Figure size 432x288 with 1 Axes>"
      ]
     },
     "metadata": {
      "needs_background": "light"
     },
     "output_type": "display_data"
    }
   ],
   "source": [
    "pivot_plan = aggregated_data.pivot_table(index=['plan_name'], values='revenue', aggfunc='mean')\n",
    "pivot_plan.plot(kind='bar', color='green')\n",
    "plt.title('Average price paid per plan');\n"
   ]
  },
  {
   "cell_type": "code",
   "execution_count": 86,
   "metadata": {},
   "outputs": [
    {
     "data": {
      "text/html": [
       "<div>\n",
       "<style scoped>\n",
       "    .dataframe tbody tr th:only-of-type {\n",
       "        vertical-align: middle;\n",
       "    }\n",
       "\n",
       "    .dataframe tbody tr th {\n",
       "        vertical-align: top;\n",
       "    }\n",
       "\n",
       "    .dataframe thead tr th {\n",
       "        text-align: left;\n",
       "    }\n",
       "\n",
       "    .dataframe thead tr:last-of-type th {\n",
       "        text-align: right;\n",
       "    }\n",
       "</style>\n",
       "<table border=\"1\" class=\"dataframe\">\n",
       "  <thead>\n",
       "    <tr>\n",
       "      <th></th>\n",
       "      <th colspan=\"4\" halign=\"left\">mean</th>\n",
       "      <th colspan=\"4\" halign=\"left\">std</th>\n",
       "      <th colspan=\"4\" halign=\"left\">var</th>\n",
       "    </tr>\n",
       "    <tr>\n",
       "      <th></th>\n",
       "      <th>gb_used</th>\n",
       "      <th>messages_sent</th>\n",
       "      <th>total_calls_made</th>\n",
       "      <th>total_min_month</th>\n",
       "      <th>gb_used</th>\n",
       "      <th>messages_sent</th>\n",
       "      <th>total_calls_made</th>\n",
       "      <th>total_min_month</th>\n",
       "      <th>gb_used</th>\n",
       "      <th>messages_sent</th>\n",
       "      <th>total_calls_made</th>\n",
       "      <th>total_min_month</th>\n",
       "    </tr>\n",
       "    <tr>\n",
       "      <th>plan_name</th>\n",
       "      <th></th>\n",
       "      <th></th>\n",
       "      <th></th>\n",
       "      <th></th>\n",
       "      <th></th>\n",
       "      <th></th>\n",
       "      <th></th>\n",
       "      <th></th>\n",
       "      <th></th>\n",
       "      <th></th>\n",
       "      <th></th>\n",
       "      <th></th>\n",
       "    </tr>\n",
       "  </thead>\n",
       "  <tbody>\n",
       "    <tr>\n",
       "      <th>surf</th>\n",
       "      <td>16.670693</td>\n",
       "      <td>31.159568</td>\n",
       "      <td>59.811825</td>\n",
       "      <td>428.749523</td>\n",
       "      <td>7.847522</td>\n",
       "      <td>33.566717</td>\n",
       "      <td>32.017989</td>\n",
       "      <td>234.453150</td>\n",
       "      <td>61.58360</td>\n",
       "      <td>1126.724522</td>\n",
       "      <td>1025.15159</td>\n",
       "      <td>54968.279461</td>\n",
       "    </tr>\n",
       "    <tr>\n",
       "      <th>ultimate</th>\n",
       "      <td>17.306944</td>\n",
       "      <td>37.551389</td>\n",
       "      <td>60.626389</td>\n",
       "      <td>430.450000</td>\n",
       "      <td>7.670108</td>\n",
       "      <td>34.767179</td>\n",
       "      <td>33.242994</td>\n",
       "      <td>240.508762</td>\n",
       "      <td>58.83055</td>\n",
       "      <td>1208.756744</td>\n",
       "      <td>1105.09666</td>\n",
       "      <td>57844.464812</td>\n",
       "    </tr>\n",
       "  </tbody>\n",
       "</table>\n",
       "</div>"
      ],
      "text/plain": [
       "                mean                                                      std  \\\n",
       "             gb_used messages_sent total_calls_made total_min_month   gb_used   \n",
       "plan_name                                                                       \n",
       "surf       16.670693     31.159568        59.811825      428.749523  7.847522   \n",
       "ultimate   17.306944     37.551389        60.626389      430.450000  7.670108   \n",
       "\n",
       "                                                               var  \\\n",
       "          messages_sent total_calls_made total_min_month   gb_used   \n",
       "plan_name                                                            \n",
       "surf          33.566717        32.017989      234.453150  61.58360   \n",
       "ultimate      34.767179        33.242994      240.508762  58.83055   \n",
       "\n",
       "                                                          \n",
       "          messages_sent total_calls_made total_min_month  \n",
       "plan_name                                                 \n",
       "surf        1126.724522       1025.15159    54968.279461  \n",
       "ultimate    1208.756744       1105.09666    57844.464812  "
      ]
     },
     "execution_count": 86,
     "metadata": {},
     "output_type": "execute_result"
    }
   ],
   "source": [
    "# Reviewer's code\n",
    "\n",
    "aggregated_data.pivot_table(index='plan_name', values=['total_min_month', 'messages_sent', 'gb_used','total_calls_made'],\n",
    "                       aggfunc=['mean', 'std', 'var'])"
   ]
  },
  {
   "cell_type": "markdown",
   "metadata": {},
   "source": [
    "### Conclusions :\n",
    "\n",
    "<span style=\"color:green\">**General:** </span> \n",
    "\n",
    "- Surf plan users use more minutes than the call limit included in their plan and more messages than provided in their plan. Surf users also use mpre internet gb than the provided in the plan.\n",
    "- Regarding the revenue, we can see that only in the Surf plan there's a change, since users in this plan pass the limit included in their plan and therefore, the monthly pay of the plan increases, while Ultimate users do not pass the limit so easily\n",
    "- We can see from the distribution that users in Surf plan pass the limit included in the plan in calls, messages and internet. The average usage per plan is pretty similar\n",
    "- The usage of internet for both plans is very similar, when the difference in the plan package is very different (15GB vs 30gb a month)\n",
    "\n",
    "**Ultimate plan: -on average-**\n",
    "\n",
    "* 60 calls\n",
    "* 430 minutes per month,\n",
    "* send 37 messages\n",
    "* use almost 17gb per month\n",
    "* variance of: \n",
    "    * calls made = 898.79, \n",
    "    * messages sent = 978\n",
    "\n",
    "**Surf plan: -on average-**\n",
    "\n",
    "* 59 calls\n",
    "* 428 minutes per month,\n",
    "* send 31 messages\n",
    "* use 16 mb per month\n",
    "* variance of: \n",
    "    * calls made = 918.90\n",
    "    * messages sent = 807\n",
    "\n"
   ]
  },
  {
   "cell_type": "markdown",
   "metadata": {},
   "source": [
    " "
   ]
  },
  {
   "cell_type": "markdown",
   "metadata": {},
   "source": [
    "## Test statistical hypotheses"
   ]
  },
  {
   "cell_type": "markdown",
   "metadata": {},
   "source": [
    "**Hypothesis:**  the average revenue from users in the NY-NJ area is different from that of the users from the other regions\n",
    "- The null hypothesess is the average revenue from users of Ultimate and Surf calling plans are same. \n",
    "    * **H0**: Average revenue per month for Ultimate users = Average revenue per month for Surf user\n",
    "    * **H1**: Average revenue per month for Ultimate users != Average revenue per month for Surf users\n",
    "    \n",
    "    alpha = 0.05\n",
    "\n",
    "    If\n",
    "    * p-value < alpha: reject H0\n",
    "    * p-value > alpha: fail to reject H0\n"
   ]
  },
  {
   "cell_type": "code",
   "execution_count": 87,
   "metadata": {},
   "outputs": [],
   "source": [
    "# Test the hypotheses\n",
    "surf_plan_info = aggregated_data.loc[aggregated_data['plan_name']=='surf', 'revenue']\n",
    "ultimate_plan_info = aggregated_data.loc[aggregated_data['plan_name']=='ultimate', 'revenue']"
   ]
  },
  {
   "cell_type": "code",
   "execution_count": 88,
   "metadata": {},
   "outputs": [],
   "source": [
    "alpha = 0.05"
   ]
  },
  {
   "cell_type": "code",
   "execution_count": 89,
   "metadata": {},
   "outputs": [
    {
     "name": "stdout",
     "output_type": "stream",
     "text": [
      "p-value = 3.17039054811355e-15\n",
      "We reject the null hypothesis\n"
     ]
    }
   ],
   "source": [
    "results = st.ttest_ind(surf_plan_info, ultimate_plan_info, equal_var = False)\n",
    "print('p-value = {}'.format(results.pvalue))\n",
    "\n",
    "if results.pvalue < alpha:\n",
    "    print('We reject the null hypothesis')\n",
    "else:\n",
    "    print(\"We can't reject the null hypothesis\")\n"
   ]
  },
  {
   "cell_type": "markdown",
   "metadata": {},
   "source": [
    "<span style=\"color:green\">**Notes from the analyst:** </span> \n",
    "\n",
    "- The average revenue from users in Surf and Ultimate plans are different. \n"
   ]
  },
  {
   "cell_type": "markdown",
   "metadata": {},
   "source": [
    "- The **alternative** one is that the average revenue from users of Ultimate and Surf calling plans are different\n",
    "    * **H0**: The average revenue from users in NY-NJ area = Average revenue for users from other region\n",
    "    * **H1:** The average revenue from users in NY-NJ area != Average revenue for users from other regions\n",
    "\n",
    "alpha = 0.05"
   ]
  },
  {
   "cell_type": "code",
   "execution_count": 90,
   "metadata": {},
   "outputs": [],
   "source": [
    "NY_NJ_data = aggregated_data.loc[aggregated_data['city'] == 'New York-Newark-Jersey City, NY-NJ-PA MSA', 'revenue']\n",
    "rest = aggregated_data.loc[aggregated_data['city'] != 'New York-Newark-Jersey City, NY-NJ-PA MSA', 'revenue']\n"
   ]
  },
  {
   "cell_type": "code",
   "execution_count": 91,
   "metadata": {},
   "outputs": [
    {
     "name": "stdout",
     "output_type": "stream",
     "text": [
      "p-value = 0.04355743162134299\n",
      "We reject the null hypothesis\n"
     ]
    }
   ],
   "source": [
    "alpha = 0.05\n",
    "\n",
    "results_2 = st.ttest_ind(NY_NJ_data, rest)\n",
    "print('p-value = {}'.format(results_2.pvalue))\n",
    "\n",
    "if (results_2.pvalue < alpha):\n",
    "    print('We reject the null hypothesis')\n",
    "else:\n",
    "    print(\"We can't reject the null hypothesis\")"
   ]
  },
  {
   "cell_type": "code",
   "execution_count": 92,
   "metadata": {
    "scrolled": true
   },
   "outputs": [
    {
     "name": "stdout",
     "output_type": "stream",
     "text": [
      "The average revenue from users in NY-NJ area:  59.921352785145885\n",
      "The average revenue from users not from NY_NJ:  65.22277139874738\n"
     ]
    }
   ],
   "source": [
    "# revenue of users in NY-NJ\n",
    "print('The average revenue from users in NY-NJ area: ', NY_NJ_data.mean())\n",
    "print('The average revenue from users not from NY_NJ: ', rest.mean())"
   ]
  },
  {
   "cell_type": "markdown",
   "metadata": {},
   "source": [
    "<span style=\"color:green\">**Notes from the analyst:** </span> \n",
    "\n",
    "- Average revenue from users in the NY-NJ area is different from the users in other regions\n",
    "- Average revenue from other regions than NY-NJ is actually higher that NY-NJ users\n",
    "- For our test hypothesis we used t-test and a significance level of 0.05.\n",
    "- We conclude that the mean of the revenue between NY-NJ newjersey is different from the mean of the revenue from other areas althought we don't have any information about how much they are different."
   ]
  },
  {
   "cell_type": "markdown",
   "metadata": {},
   "source": [
    "## General conclusion\n",
    "\n"
   ]
  },
  {
   "cell_type": "markdown",
   "metadata": {},
   "source": [
    "We worked with 5 separate datasets. We cleaned and calculated:\n",
    "\n",
    "- Calls:\n",
    "    - total calls made per month and user\n",
    "    - total minutes spent per month and user\n",
    "- Messages:\n",
    "    - total messages sent per month and user\n",
    "- Internet: \n",
    "    - total gb used per month and user\n",
    "    \n",
    "- Monthy revenue per user. \n",
    "\n",
    "We described the user's behavior on the usage of the call minutes, messages and internet included and compared to each plan. We calculated the mean, variance and standard deviation, plotting histograms and understand the distribution. \n",
    "\n",
    "In the analysis we saw some differences in the behavior of the users per plan:\n",
    "\n",
    "- **Calls:** 35% of Surf users pass the limit of calls provided in the plan, against 0% from Ultimate users, who did not pass it\n",
    "- **Messages:** 21% of Surf users pass the limit of messages provided in the plan, against 0% from Ultimate users. \n",
    "- **Internet:** 57% of Surf users pass the 15GB limit, while only 5% of Ultimate users pass the 30GB limit. \n",
    "\n",
    "\n",
    "We tested two hypotheses:\n",
    "\n",
    "1. The average revenue from users of Ultimate and Surf calling plans differs\n",
    "1. The average revenue from users in NY-NJ area is different from that of the users from other regions.\n",
    "\n",
    "We can conclude:\n",
    "That Surf users have a cheaper plan but end up needing more GB, minutes and messages per month. While Ultimate user have a better usage of their plan. \n"
   ]
  },
  {
   "cell_type": "markdown",
   "metadata": {},
   "source": [
    " "
   ]
  }
 ],
 "metadata": {
  "ExecuteTimeLog": [
   {
    "duration": 828,
    "start_time": "2021-11-16T09:21:11.304Z"
   },
   {
    "duration": 893,
    "start_time": "2021-11-16T09:21:17.728Z"
   },
   {
    "duration": 1150,
    "start_time": "2021-11-16T09:21:29.568Z"
   },
   {
    "duration": 3,
    "start_time": "2021-11-16T09:24:14.495Z"
   },
   {
    "duration": 120,
    "start_time": "2021-11-16T09:24:46.630Z"
   },
   {
    "duration": 3,
    "start_time": "2021-11-16T09:28:27.882Z"
   },
   {
    "duration": 4,
    "start_time": "2021-11-16T09:29:54.281Z"
   },
   {
    "duration": 3,
    "start_time": "2021-11-16T09:30:45.936Z"
   },
   {
    "duration": 4,
    "start_time": "2021-11-16T09:31:06.300Z"
   },
   {
    "duration": 113,
    "start_time": "2021-11-16T09:31:37.208Z"
   },
   {
    "duration": 143,
    "start_time": "2021-11-16T09:31:48.656Z"
   },
   {
    "duration": 98,
    "start_time": "2021-11-16T09:31:55.678Z"
   },
   {
    "duration": 3,
    "start_time": "2021-11-16T09:32:08.535Z"
   },
   {
    "duration": 111,
    "start_time": "2021-11-16T09:32:10.120Z"
   },
   {
    "duration": 3,
    "start_time": "2021-11-16T09:32:15.732Z"
   },
   {
    "duration": 4,
    "start_time": "2021-11-16T09:32:29.423Z"
   },
   {
    "duration": 3,
    "start_time": "2021-11-16T10:03:03.074Z"
   },
   {
    "duration": 3,
    "start_time": "2021-11-16T10:10:01.288Z"
   },
   {
    "duration": 3,
    "start_time": "2021-11-16T10:10:46.923Z"
   },
   {
    "duration": 121,
    "start_time": "2021-11-16T10:37:46.494Z"
   },
   {
    "duration": 125,
    "start_time": "2021-11-16T10:38:20.632Z"
   },
   {
    "duration": 112,
    "start_time": "2021-11-16T10:46:53.001Z"
   },
   {
    "duration": 110,
    "start_time": "2021-11-16T10:48:25.775Z"
   },
   {
    "duration": 3,
    "start_time": "2021-11-16T10:50:18.720Z"
   },
   {
    "duration": 4,
    "start_time": "2021-11-16T10:50:37.649Z"
   },
   {
    "duration": 2,
    "start_time": "2021-11-16T10:50:51.884Z"
   },
   {
    "duration": 3,
    "start_time": "2021-11-16T10:51:56.237Z"
   },
   {
    "duration": 101,
    "start_time": "2021-11-16T10:53:13.791Z"
   },
   {
    "duration": 3,
    "start_time": "2021-11-16T10:55:59.186Z"
   },
   {
    "duration": 3,
    "start_time": "2021-11-16T10:56:10.751Z"
   },
   {
    "duration": 3,
    "start_time": "2021-11-16T10:56:49.038Z"
   },
   {
    "duration": 3,
    "start_time": "2021-11-16T10:56:49.174Z"
   },
   {
    "duration": 4,
    "start_time": "2021-11-16T10:56:49.414Z"
   },
   {
    "duration": 3,
    "start_time": "2021-11-16T10:56:49.680Z"
   },
   {
    "duration": 3,
    "start_time": "2021-11-16T10:56:50.370Z"
   },
   {
    "duration": 114,
    "start_time": "2021-11-16T10:59:34.518Z"
   },
   {
    "duration": 3,
    "start_time": "2021-11-16T11:01:41.201Z"
   },
   {
    "duration": 116,
    "start_time": "2021-11-16T11:01:48.754Z"
   },
   {
    "duration": 3,
    "start_time": "2021-11-16T11:02:16.685Z"
   },
   {
    "duration": 3,
    "start_time": "2021-11-16T11:02:19.479Z"
   },
   {
    "duration": 3,
    "start_time": "2021-11-16T11:02:47.067Z"
   },
   {
    "duration": 3,
    "start_time": "2021-11-16T11:02:49.353Z"
   },
   {
    "duration": 3,
    "start_time": "2021-11-16T11:03:07.835Z"
   },
   {
    "duration": 3,
    "start_time": "2021-11-16T11:03:07.953Z"
   },
   {
    "duration": 112,
    "start_time": "2021-11-16T11:07:52.072Z"
   },
   {
    "duration": 187,
    "start_time": "2021-11-16T11:09:23.468Z"
   },
   {
    "duration": 4,
    "start_time": "2021-11-16T11:10:01.455Z"
   },
   {
    "duration": 3,
    "start_time": "2021-11-16T11:10:05.069Z"
   },
   {
    "duration": 4,
    "start_time": "2021-11-16T11:10:13.376Z"
   },
   {
    "duration": 3,
    "start_time": "2021-11-16T11:10:14.434Z"
   },
   {
    "duration": 3,
    "start_time": "2021-11-16T11:10:22.853Z"
   },
   {
    "duration": 4,
    "start_time": "2021-11-16T11:27:29.279Z"
   },
   {
    "duration": 4,
    "start_time": "2021-11-16T11:29:08.919Z"
   },
   {
    "duration": 118,
    "start_time": "2021-11-16T11:29:46.703Z"
   },
   {
    "duration": 437,
    "start_time": "2021-11-16T11:36:02.181Z"
   },
   {
    "duration": 157,
    "start_time": "2021-11-16T11:36:14.388Z"
   },
   {
    "duration": 207,
    "start_time": "2021-11-16T11:47:15.898Z"
   },
   {
    "duration": 3,
    "start_time": "2021-11-16T11:53:52.092Z"
   },
   {
    "duration": 3,
    "start_time": "2021-11-16T11:53:52.236Z"
   },
   {
    "duration": 3,
    "start_time": "2021-11-16T11:59:12.005Z"
   },
   {
    "duration": 112,
    "start_time": "2021-11-16T12:00:33.446Z"
   },
   {
    "duration": 3,
    "start_time": "2021-11-16T12:02:14.453Z"
   },
   {
    "duration": 3,
    "start_time": "2021-11-16T12:02:39.512Z"
   },
   {
    "duration": 106,
    "start_time": "2021-11-16T12:03:03.460Z"
   },
   {
    "duration": 3,
    "start_time": "2021-11-17T20:37:21.139Z"
   },
   {
    "duration": 3,
    "start_time": "2021-11-17T20:37:22.229Z"
   },
   {
    "duration": 3,
    "start_time": "2021-11-17T20:38:38.806Z"
   },
   {
    "duration": 3,
    "start_time": "2021-11-17T20:38:41.958Z"
   },
   {
    "duration": 3,
    "start_time": "2021-11-17T20:43:46.551Z"
   },
   {
    "duration": 4,
    "start_time": "2021-11-17T20:58:21.835Z"
   },
   {
    "duration": 3,
    "start_time": "2021-11-17T20:59:21.872Z"
   },
   {
    "duration": 4,
    "start_time": "2021-11-17T20:59:45.352Z"
   },
   {
    "duration": 4,
    "start_time": "2021-11-17T20:59:49.646Z"
   },
   {
    "duration": 159,
    "start_time": "2021-11-17T21:02:26.949Z"
   },
   {
    "duration": 3,
    "start_time": "2021-11-17T21:03:53.461Z"
   },
   {
    "duration": 3,
    "start_time": "2021-11-17T21:03:53.694Z"
   },
   {
    "duration": 3,
    "start_time": "2021-11-17T21:05:28.145Z"
   },
   {
    "duration": 116,
    "start_time": "2021-11-17T21:05:57.787Z"
   },
   {
    "duration": 3,
    "start_time": "2021-11-17T21:06:37.993Z"
   },
   {
    "duration": 3,
    "start_time": "2021-11-17T21:06:38.261Z"
   },
   {
    "duration": 3,
    "start_time": "2021-11-17T21:11:54.358Z"
   },
   {
    "duration": 3,
    "start_time": "2021-11-17T21:12:43.846Z"
   },
   {
    "duration": 4,
    "start_time": "2021-11-17T21:13:08.773Z"
   },
   {
    "duration": 3,
    "start_time": "2021-11-17T21:14:44.441Z"
   },
   {
    "duration": 3,
    "start_time": "2021-11-17T21:15:42.059Z"
   },
   {
    "duration": 4,
    "start_time": "2021-11-17T21:15:51.995Z"
   },
   {
    "duration": 3,
    "start_time": "2021-11-17T21:15:53.923Z"
   },
   {
    "duration": 3,
    "start_time": "2021-11-17T21:15:55.282Z"
   },
   {
    "duration": 3,
    "start_time": "2021-11-17T21:16:28.492Z"
   },
   {
    "duration": 3,
    "start_time": "2021-11-17T21:16:32.603Z"
   },
   {
    "duration": 3,
    "start_time": "2021-11-17T21:17:06.941Z"
   },
   {
    "duration": 98,
    "start_time": "2021-11-17T21:18:05.733Z"
   },
   {
    "duration": 4,
    "start_time": "2021-11-17T21:21:35.255Z"
   },
   {
    "duration": 3,
    "start_time": "2021-11-17T21:21:37.804Z"
   },
   {
    "duration": 4,
    "start_time": "2021-11-17T21:23:06.071Z"
   },
   {
    "duration": 3,
    "start_time": "2021-11-17T21:23:24.799Z"
   },
   {
    "duration": 3,
    "start_time": "2021-11-17T21:23:32.591Z"
   },
   {
    "duration": 98,
    "start_time": "2021-11-17T21:28:31.559Z"
   },
   {
    "duration": 3,
    "start_time": "2021-11-17T21:28:45.448Z"
   },
   {
    "duration": 3,
    "start_time": "2021-11-17T21:29:17.303Z"
   },
   {
    "duration": 3,
    "start_time": "2021-11-17T21:29:29.617Z"
   },
   {
    "duration": 3,
    "start_time": "2021-11-17T21:29:32.681Z"
   },
   {
    "duration": 3,
    "start_time": "2021-11-17T21:36:11.474Z"
   },
   {
    "duration": 3,
    "start_time": "2021-11-17T21:36:14.791Z"
   },
   {
    "duration": 3,
    "start_time": "2021-11-17T21:36:53.943Z"
   },
   {
    "duration": 3,
    "start_time": "2021-11-17T21:36:56.165Z"
   },
   {
    "duration": 4,
    "start_time": "2021-11-17T21:37:16.590Z"
   },
   {
    "duration": 3,
    "start_time": "2021-11-17T21:37:22.702Z"
   },
   {
    "duration": 4,
    "start_time": "2021-11-17T21:38:03.479Z"
   },
   {
    "duration": 3,
    "start_time": "2021-11-17T21:38:08.601Z"
   },
   {
    "duration": 3,
    "start_time": "2021-11-17T21:38:12.928Z"
   },
   {
    "duration": 3,
    "start_time": "2021-11-17T21:38:48.896Z"
   },
   {
    "duration": 2,
    "start_time": "2021-11-17T21:38:49.171Z"
   },
   {
    "duration": 4,
    "start_time": "2021-11-17T21:39:57.889Z"
   },
   {
    "duration": 3,
    "start_time": "2021-11-17T21:39:58.057Z"
   },
   {
    "duration": 3,
    "start_time": "2021-11-17T21:41:20.108Z"
   },
   {
    "duration": 3,
    "start_time": "2021-11-17T21:41:20.629Z"
   },
   {
    "duration": 3,
    "start_time": "2021-11-17T21:42:49.136Z"
   },
   {
    "duration": 3,
    "start_time": "2021-11-17T21:43:15.137Z"
   },
   {
    "duration": 4,
    "start_time": "2021-11-17T21:43:16.766Z"
   },
   {
    "duration": 4,
    "start_time": "2021-11-17T21:43:31.711Z"
   },
   {
    "duration": 3,
    "start_time": "2021-11-17T21:43:36.312Z"
   },
   {
    "duration": 4,
    "start_time": "2021-11-17T21:45:08.825Z"
   },
   {
    "duration": 4,
    "start_time": "2021-11-17T21:45:10.119Z"
   },
   {
    "duration": 4,
    "start_time": "2021-11-17T21:45:13.748Z"
   },
   {
    "duration": 3,
    "start_time": "2021-11-17T21:45:22.219Z"
   },
   {
    "duration": 3,
    "start_time": "2021-11-17T21:45:33.412Z"
   },
   {
    "duration": 2,
    "start_time": "2021-11-17T21:46:01.885Z"
   },
   {
    "duration": 3,
    "start_time": "2021-11-17T21:46:03.628Z"
   },
   {
    "duration": 107,
    "start_time": "2021-11-17T21:47:32.512Z"
   },
   {
    "duration": 103,
    "start_time": "2021-11-17T21:50:36.243Z"
   },
   {
    "duration": 3,
    "start_time": "2021-11-18T06:28:31.440Z"
   },
   {
    "duration": 3,
    "start_time": "2021-11-18T06:29:00.168Z"
   },
   {
    "duration": 3,
    "start_time": "2021-11-18T06:31:27.008Z"
   },
   {
    "duration": 2,
    "start_time": "2021-11-18T06:35:34.288Z"
   },
   {
    "duration": 2,
    "start_time": "2021-11-18T06:38:04.527Z"
   }
  ],
  "kernelspec": {
   "display_name": "Python 3 (ipykernel)",
   "language": "python",
   "name": "python3"
  },
  "language_info": {
   "codemirror_mode": {
    "name": "ipython",
    "version": 3
   },
   "file_extension": ".py",
   "mimetype": "text/x-python",
   "name": "python",
   "nbconvert_exporter": "python",
   "pygments_lexer": "ipython3",
   "version": "3.9.5"
  },
  "toc": {
   "base_numbering": 1,
   "nav_menu": {},
   "number_sections": true,
   "sideBar": true,
   "skip_h1_title": true,
   "title_cell": "Table of Contents",
   "title_sidebar": "Contents",
   "toc_cell": false,
   "toc_position": {
    "height": "calc(100% - 180px)",
    "left": "10px",
    "top": "150px",
    "width": "317.179px"
   },
   "toc_section_display": true,
   "toc_window_display": true
  }
 },
 "nbformat": 4,
 "nbformat_minor": 2
}
