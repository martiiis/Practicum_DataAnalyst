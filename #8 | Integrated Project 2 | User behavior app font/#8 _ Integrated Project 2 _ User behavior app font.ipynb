{
 "cells": [
  {
   "cell_type": "markdown",
   "metadata": {},
   "source": [
    "# Project description\n",
    "---\n",
    "**Context**\n",
    "\n",
    "You work at a startup that sells food products. You need to investigate user behavior for the company's app.\n",
    "\n",
    "First study the sales funnel. Find out how users reach the purchase stage. How many users actually make it to this stage? How many get stuck at previous stages? Which stages in particular?\n",
    "\n",
    "Then look at the results of an A/A/B test. (Read on for more information about A/A/B testing.) The designers would like to change the fonts for the entire app, but the managers are afraid the users might find the new design intimidating. They decide to make a decision based on the results of an A/A/B test.\n",
    "\n",
    "The users are split into three groups: two control groups get the old fonts and one test group gets the new ones. Find out which set of fonts produces better results.\n",
    "\n",
    "Creating two A groups has certain advantages. We can make it a principle that we will only be confident in the accuracy of our testing when the two control groups are similar. If there are significant differences between the A groups, this can help us uncover factors that may be distorting the results. Comparing control groups also tells us how much time and data we'll need when running further tests.\n",
    "\n",
    "You'll be using the same dataset for general analytics and for A/A/B analysis. In real projects, experiments are constantly being conducted. Analysts study the quality of an app using general data, without paying attention to whether users are participating in experiments."
   ]
  },
  {
   "cell_type": "markdown",
   "metadata": {},
   "source": [
    "\n",
    "# Description of the data\n",
    "---\n",
    "\n",
    "Each log entry is a user action or an event.\n",
    "- `EventName` — event name\n",
    "- `DeviceIDHash` — unique user identifier\n",
    "- `EventTimestamp` — event time\n",
    "- `ExpId` — experiment number: 246 and 247 are the control groups, 248 is the test group"
   ]
  },
  {
   "cell_type": "markdown",
   "metadata": {},
   "source": [
    "# Table of Contents\n",
    "---\n",
    "\n",
    "**Step 1. Open the data file and read the general information**\n",
    "\n",
    "- File path: /datasets/logs_exp_us.csv Download dataset\n",
    "\n",
    "**Step 2. Prepare the data for analysis** \n",
    "- Rename the columns in a way that's convenient for you\n",
    "- Check for missing values and data types. Correct the data if needed\n",
    "- Add a date and time column and a separate column for dates\n",
    "\n",
    "**Step 3. Study and check the data**\n",
    "- How many events are in the logs?\n",
    "- How many users are in the logs?\n",
    "- What's the average number of events per user?\n",
    "- What period of time does the data cover? \n",
    "    - Maximum and the minimum date. \n",
    "    - Plot a histogram by date and time. \n",
    "        - Find the moment at which the data starts to be complete and ignore the earlier section. What period does the data actually represent?\n",
    "- Did we lose many events and users when excluding the older data?\n",
    "- Making sure we have users from all three experimental groups.\n",
    "\n",
    "**Step 4. Study the event funnel**\n",
    "- See what events are in the logs and their frequency of occurrence. Sort them by frequency.\n",
    "- Find the number of users who performed each of these actions. Sort the events by the number of users. Calculate the proportion of users who performed the action at least once.\n",
    "- In what order do you think the actions took place. Are all of them part of a single sequence? You don't need to take them into account when calculating the funnel.\n",
    "- Use the event funnel to find the share of users that proceed from each stage to the next. (For instance, for the sequence of events A → B → C, calculate the ratio of users at stage B to the number of users at stage A and the ratio of users at stage C to the number at stage B.)\n",
    "- At what stage do you lose the most users?\n",
    "- What share of users make the entire journey from their first event to payment?\n",
    "\n",
    "**Step 5. Study the results of the experiment**\n",
    "- How many users are there in each group?\n",
    "- We have two control groups in the A/A test, where we check our mechanisms and calculations. See if there is a statistically significant difference between samples 246 and 247.\n",
    "- Select the most popular event. In each of the control groups, find the number of users who performed this action. Find their share. Check whether the difference between the groups is statistically significant. Repeat the procedure for all other events (it will save time if you create a special function for this test). Can you confirm that the groups were split properly?\n",
    "- Do the same thing for the group with altered fonts. Compare the results with those of each of the control groups for each event in isolation. Compare the results with the combined results for the control groups. What conclusions can you draw from the experiment?\n",
    "- What significance level have you set to test the statistical hypotheses mentioned above? Calculate how many statistical hypothesis tests you carried out. With a statistical significance level of 0.1, one in 10 results could be false. What should the significance level be? If you want to change it, run through the previous steps again and check your conclusions."
   ]
  },
  {
   "cell_type": "markdown",
   "metadata": {},
   "source": [
    "## **Step 1. Open the data file and read the general information**"
   ]
  },
  {
   "cell_type": "code",
   "execution_count": null,
   "metadata": {},
   "outputs": [],
   "source": [
    "! pip install -qq plotly"
   ]
  },
  {
   "cell_type": "code",
   "execution_count": null,
   "metadata": {},
   "outputs": [],
   "source": [
    "import warnings\n",
    "warnings.filterwarnings('ignore')"
   ]
  },
  {
   "cell_type": "code",
   "execution_count": null,
   "metadata": {},
   "outputs": [],
   "source": [
    "import pandas as pd\n",
    "import random\n",
    "import math as mth\n",
    "import matplotlib\n",
    "import numpy as np\n",
    "import datetime as dt\n",
    "import seaborn as sns\n",
    "from scipy import stats\n",
    "from random import sample\n",
    "import plotly.express as px\n",
    "from functools import reduce\n",
    "from scipy import stats as st\n",
    "import matplotlib.pyplot as plt\n",
    "from itertools import chain,cycle\n",
    "from plotly import graph_objects as go\n",
    "from plotly.subplots import make_subplots"
   ]
  },
  {
   "cell_type": "code",
   "execution_count": null,
   "metadata": {},
   "outputs": [],
   "source": [
    "try:\n",
    "    exp_data = pd.read_csv('/Users/doronerlich/Desktop/Code ME/Integrated Project 2/logs_exp_us.csv', sep='\\t')\n",
    "except:\n",
    "    exp_data = pd.read_csv('/datasets/logs_exp_us.csv', sep='\\t')"
   ]
  },
  {
   "cell_type": "code",
   "execution_count": null,
   "metadata": {},
   "outputs": [],
   "source": [
    "exp_data.info('deep')"
   ]
  },
  {
   "cell_type": "code",
   "execution_count": null,
   "metadata": {},
   "outputs": [],
   "source": [
    "exp_data.describe(include='all', datetime_is_numeric=True).fillna('N/A').T"
   ]
  },
  {
   "cell_type": "markdown",
   "metadata": {},
   "source": [
    "<span style=\"color:green\">**Notes from the analyst:** </span> \n",
    "\n",
    "- The dataset has 244,126 rows and 4 columns\n",
    "- The column names has format issues and we will need to change data types\n",
    "- At first look, we might not have missing values\n"
   ]
  },
  {
   "cell_type": "code",
   "execution_count": null,
   "metadata": {},
   "outputs": [],
   "source": [
    "def exploration(parameter):\n",
    "    print(\"Unique values of '{}' column:\".format(parameter))\n",
    "    print()\n",
    "    print(exp_data[parameter].unique())\n",
    "    print()\n",
    "    print(\"Value counts of '{}' column:\".format(parameter))\n",
    "    print()\n",
    "    print(exp_data[parameter].value_counts())\n",
    "    print()\n",
    "    print('------------------------------------')\n",
    "    print()"
   ]
  },
  {
   "cell_type": "code",
   "execution_count": null,
   "metadata": {},
   "outputs": [],
   "source": [
    "exploration('EventName')\n",
    "exploration('DeviceIDHash')\n",
    "exploration('EventTimestamp')\n",
    "exploration('ExpId')"
   ]
  },
  {
   "cell_type": "code",
   "execution_count": null,
   "metadata": {},
   "outputs": [],
   "source": [
    "exp_data.head()"
   ]
  },
  {
   "cell_type": "markdown",
   "metadata": {},
   "source": [
    "<span style=\"color:green\">**Notes from the analyst:** </span> \n",
    "\n",
    "- We have 5 unique types of events\n",
    "- Some users are very active comparing to others that only used the app once\n",
    "- We do not have a timestamp that appears more than 9. times\n",
    "- We have 3 experiment groups with different sizes"
   ]
  },
  {
   "cell_type": "markdown",
   "metadata": {},
   "source": [
    "<h3 style=\"color:orange\">Conlcusions:</h3> \n",
    "\n",
    "- There are 244,126 rows and 4 columns in the data frame\n",
    "- Column names have upper and lowercase, and incorrect datatypes\n",
    "- At first look, we might not have missing values\n",
    "- There are 176,654 different timestamps;\n",
    "- We have 3 experiment groups with different sizes:\n",
    "    - 246, 247 and 248. They are not of equal size. 248 has the most events/actions, then 246 and then 247.\n",
    "\n"
   ]
  },
  {
   "cell_type": "code",
   "execution_count": null,
   "metadata": {},
   "outputs": [],
   "source": [
    "#change column names\n",
    "exp_data = exp_data.rename(columns={'EventName':'event_name', \n",
    "                                    'DeviceIDHash':'user_id', 'EventTimestamp':'timestamp', 'ExpId':'exp_id'})"
   ]
  },
  {
   "cell_type": "code",
   "execution_count": null,
   "metadata": {},
   "outputs": [],
   "source": [
    "#check if any user appears in more than 1 experiment group\n",
    "exp_data.groupby(['user_id']).agg({'exp_id': 'nunique'}).sort_values(by='exp_id', ascending=False\n",
    "                                                                    ).query('exp_id > 1').reset_index()"
   ]
  },
  {
   "cell_type": "markdown",
   "metadata": {},
   "source": [
    "### Change data types & adding datetime columns"
   ]
  },
  {
   "cell_type": "code",
   "execution_count": null,
   "metadata": {},
   "outputs": [],
   "source": [
    "exp_data[\"event_name\"] = exp_data[\"event_name\"].astype(\"category\")\n"
   ]
  },
  {
   "cell_type": "code",
   "execution_count": null,
   "metadata": {},
   "outputs": [],
   "source": [
    "exp_data['logs'] = pd.to_datetime(exp_data['timestamp'], unit='s')"
   ]
  },
  {
   "cell_type": "code",
   "execution_count": null,
   "metadata": {},
   "outputs": [],
   "source": [
    "exp_data['log_date'] = exp_data['logs'].astype('datetime64[D]')\n"
   ]
  },
  {
   "cell_type": "code",
   "execution_count": null,
   "metadata": {},
   "outputs": [],
   "source": [
    "exp_data.head()"
   ]
  },
  {
   "cell_type": "markdown",
   "metadata": {},
   "source": [
    "### Check for duplicates"
   ]
  },
  {
   "cell_type": "code",
   "execution_count": null,
   "metadata": {},
   "outputs": [],
   "source": [
    "#check for duplicates\n",
    "exp_data.duplicated().sum()"
   ]
  },
  {
   "cell_type": "code",
   "execution_count": null,
   "metadata": {
    "scrolled": true
   },
   "outputs": [],
   "source": [
    "#check sample of the duplicated ones\n",
    "exp_data[exp_data.duplicated()].sort_values('user_id').head(10)"
   ]
  },
  {
   "cell_type": "code",
   "execution_count": null,
   "metadata": {},
   "outputs": [],
   "source": [
    "#drop duplicates\n",
    "exp_data = exp_data.drop_duplicates().reset_index(drop=True)"
   ]
  },
  {
   "cell_type": "code",
   "execution_count": null,
   "metadata": {},
   "outputs": [],
   "source": [
    "exp_data.duplicated().sum()"
   ]
  },
  {
   "cell_type": "code",
   "execution_count": null,
   "metadata": {
    "scrolled": true
   },
   "outputs": [],
   "source": [
    "exp_data.info('deep')"
   ]
  },
  {
   "cell_type": "markdown",
   "metadata": {},
   "source": [
    "<h3 style=\"color:orange\">Conlcusions:</h3> \n",
    "\n",
    "- Renamed columns for a better naming format\n",
    "- Checked if we have users in more than one experient group -- there are none\n",
    "- Changed datatype in `even_name` to category\n",
    "- Added a new columnn: \n",
    "    - `logs` with each event's info\n",
    "    - `log_date` for timestamp of the event\n",
    "- Found 413 duplicates that we dropped from the dataset\n",
    "\n",
    "We now working with a dataset of 243,713 rows and 6 columns"
   ]
  },
  {
   "cell_type": "markdown",
   "metadata": {},
   "source": [
    "## **Step 3. Study and check the data**\n",
    "\n",
    "- How many events are in the logs?\n",
    "- How many users are in the logs?\n",
    "- What's the average number of events per user?\n",
    "- What period of time does the data cover? \n",
    "    - Maximum and the minimum date. \n",
    "    - Plot a histogram by date and time. \n",
    "        - Find the moment at which the data starts to be complete and ignore the earlier section. What period does the data actually represent?\n",
    "- Did we lose many events and users when excluding the older data?\n",
    "- Making sure we have users from all three experimental groups."
   ]
  },
  {
   "cell_type": "markdown",
   "metadata": {},
   "source": [
    "### Users/events info"
   ]
  },
  {
   "cell_type": "code",
   "execution_count": null,
   "metadata": {
    "scrolled": false
   },
   "outputs": [],
   "source": [
    "#users/events info\n",
    "\n",
    "user_logs = (exp_data.groupby('user_id')['logs'].count().reset_index()).groupby('logs')['user_id'].nunique().reset_index()\n",
    "logs_per_user = exp_data.groupby('user_id')['logs'].count().reset_index()\n",
    "\n",
    "fig = px.histogram(user_logs, x=\"logs\", y='user_id', log_y=True, \n",
    "                   color_discrete_sequence=(px.colors.sequential.Rainbow), title='Distribution of Logs per User', nbins=100)\n",
    "fig.update_layout(bargap=0.05,\n",
    "    xaxis_tickfont_size=14,\n",
    "    yaxis=dict(\n",
    "        title='# of Users',\n",
    "        titlefont_size=16,\n",
    "        tickfont_size=14), xaxis=dict(\n",
    "        title=\"# of Logs\",\n",
    "        titlefont_size=16,\n",
    "        tickfont_size=14))\n",
    "fig.show()\n",
    "print(\"\"\"Number of logs in the Data Frame: {}.\n",
    "Unique users in the Data Frame:  {} .\n",
    "The distribution is skewed to the right, which means that the mode is often less than the median, \n",
    "which is less than the mean.\n",
    "The most frequent number of logins is {}, the average number of logs per user is {:.2f}, the median \n",
    "is {}.\n",
    "The first event in the Data Frame occurred at {}, and the latest occurred at \n",
    "{}.\"\"\".format(\n",
    "    exp_data['user_id'].count(), exp_data['user_id'].nunique(), \n",
    "    int(logs_per_user['logs'].mode()), logs_per_user['logs'].mean(), int(logs_per_user['logs'].median()),\n",
    "    exp_data['logs'].min(),exp_data['logs'].max()))"
   ]
  },
  {
   "cell_type": "markdown",
   "metadata": {},
   "source": [
    "### Distribution events overtime"
   ]
  },
  {
   "cell_type": "code",
   "execution_count": null,
   "metadata": {
    "scrolled": false
   },
   "outputs": [],
   "source": [
    "#distribution events/users between first and last \n",
    "\n",
    "fig = px.histogram(exp_data, x=\"logs\", title='Histogram of Events by Date and Time', \n",
    "                   nbins=200, log_y=True, color_discrete_sequence=(px.colors.sequential.Rainbow))\n",
    "\n",
    "fig.update_layout(bargap=0.2, \n",
    "    xaxis_tickfont_size=14,\n",
    "    yaxis=dict(\n",
    "        title='# of Events',\n",
    "        titlefont_size=16,\n",
    "        tickfont_size=14), xaxis=dict(\n",
    "        title=\"Event Date\",\n",
    "        titlefont_size=16,\n",
    "        tickfont_size=14))\n",
    "fig.show()"
   ]
  },
  {
   "cell_type": "markdown",
   "metadata": {},
   "source": [
    "<span style=\"color:green\">**Notes from the analyst:** </span> \n",
    "\n",
    "- First event took place on early July 25th, 2019\n",
    "- Last event took 9:15pm on August 7th, 2019\n",
    "\n",
    "- From the histogram we can we see the biggest amount of events happened beginning August 19th, 2019. We see general pattern and consistency. \n",
    "\n",
    "The time period that fully represents the data is from August 1st to August 7th 2019\n"
   ]
  },
  {
   "cell_type": "markdown",
   "metadata": {},
   "source": [
    "### Filtering the data with only relevant time period"
   ]
  },
  {
   "cell_type": "code",
   "execution_count": null,
   "metadata": {},
   "outputs": [],
   "source": [
    "filtered_exp = exp_data.query('log_date >= \"2019-08-01\"')"
   ]
  },
  {
   "cell_type": "code",
   "execution_count": null,
   "metadata": {
    "scrolled": true
   },
   "outputs": [],
   "source": [
    "filtered_exp.sort_values(by='logs').head()"
   ]
  },
  {
   "cell_type": "markdown",
   "metadata": {},
   "source": [
    "### Reviewing data removed when filtering "
   ]
  },
  {
   "cell_type": "code",
   "execution_count": null,
   "metadata": {},
   "outputs": [],
   "source": [
    "labels = [\"Filtered Data\", \"Older Events\"]\n",
    "fig = make_subplots(rows=1, cols=2, specs=[[{'type':'domain'}, {'type':'domain'}]])\n",
    "fig.add_trace(go.Pie(labels=labels, values=[filtered_exp['user_id'].nunique(), exp_data['user_id'].nunique()-filtered_exp['user_id'].nunique()], name=\"Users\"),\n",
    "              1, 1)\n",
    "fig.add_trace(go.Pie(labels=labels, values=[filtered_exp['logs'].count(), exp_data['logs'].count()-filtered_exp['logs'].count()], name=\"Events\"),\n",
    "              1, 2)\n",
    "fig.update_traces(hole=.3, hoverinfo=\"label+value+percent+name\", marker=dict(colors=(px.colors.sequential.Rainbow)))\n",
    "\n",
    "fig.update_layout(coloraxis=dict(colorscale='Oranges'),\n",
    "    title_text=\"Filtered data | Percentage of Data Removed\",\n",
    "    annotations=[dict(text='Users', x=0.18, y=0.5, font_size=18, showarrow=False),\n",
    "                 dict(text='Events', x=0.82, y=0.5, font_size=18, showarrow=False)])\n",
    "\n",
    "fig.show()\n",
    "\n",
    "print(\"\"\"Filtered data: the number of users and events removed is {} and {}, respectively. \n",
    "In the charts we can see that the percentage of the data removed is less than 0.3% of users and less than 1.2% of events.\"\"\".format(\n",
    "    exp_data['user_id'].nunique()-filtered_exp['user_id'].nunique(), exp_data['logs'].count()-filtered_exp['logs'].count()))\n",
    "\n",
    "\n"
   ]
  },
  {
   "cell_type": "markdown",
   "metadata": {},
   "source": [
    "### Distribution events/activities per group in filtered period"
   ]
  },
  {
   "cell_type": "code",
   "execution_count": null,
   "metadata": {
    "scrolled": false
   },
   "outputs": [],
   "source": [
    "fig = px.histogram(filtered_exp, x=\"logs\", color='exp_id',title='Histogram of Events by Date and Time for Filtered Data', \n",
    "                   nbins=200, color_discrete_sequence=px.colors.sequential.Pinkyl)\n",
    "fig.update_layout(bargap=0.2, \n",
    "    xaxis_tickfont_size=14,\n",
    "    yaxis=dict(\n",
    "        title='Total # of Events',\n",
    "        titlefont_size=16,\n",
    "        tickfont_size=14), xaxis=dict(\n",
    "        title=\"Event Date\",\n",
    "        titlefont_size=16,\n",
    "        tickfont_size=14), \n",
    "        legend=dict(title=\"Experiment Group\"))\n",
    "fig.show()\n"
   ]
  },
  {
   "cell_type": "markdown",
   "metadata": {},
   "source": [
    "<h3 style=\"color:orange\">Conlcusions:</h3> \n",
    "\n",
    "After processing and analyzing the data in this first section we conclude:\n",
    "\n",
    "- Number of events in the dataset: 243713\n",
    "- 7551 unique users in the dataset\n",
    "- Average number of events is 32.28\n",
    "- First event took place on July 25th, 2019 04:43:36\n",
    "- Last event took place on August 7th, 2019 21:15:17\n",
    "- Biggest amount of events happened beginning August 19th, 2019. We see general pattern and consistency.\n",
    "\n",
    "\n",
    "- We sliced the data with the events happening between August 1st, called it `filtered_exp`\n",
    "- In this filtered new dataset, we removed 17 users and 2826 events, which corresponds to 0.3% and 1.2% of the dataset respectively\n",
    "- We now work with a dataset of 240,887 rows\n",
    "- The 3 groups are represented in the filtered data\n"
   ]
  },
  {
   "cell_type": "markdown",
   "metadata": {},
   "source": [
    "## **Step 4. Study the event funnel**\n",
    "\n",
    "- Event's frequency\n",
    "- Unique users per event\n",
    "- Order of events and event funnel\n",
    "- Event funnel chart\n",
    "- Event funnel chart per group\n"
   ]
  },
  {
   "cell_type": "markdown",
   "metadata": {},
   "source": [
    "### Event's frequency"
   ]
  },
  {
   "cell_type": "code",
   "execution_count": null,
   "metadata": {
    "scrolled": false
   },
   "outputs": [],
   "source": [
    "fig = px.bar(filtered_exp.groupby(['event_name'])['logs'].count().reset_index().sort_values(by='logs'), \n",
    "             x='logs', y='event_name', color_discrete_sequence=(px.colors.sequential.Agsunset_r,0), orientation='h', text='logs')\n",
    "fig.update_layout(title='Number of Events per Event Name in Filtered Data',\n",
    "    xaxis_tickfont_size=14,\n",
    "    xaxis=dict(\n",
    "        title='# of Events',\n",
    "        titlefont_size=16,\n",
    "        tickfont_size=14), yaxis=dict(\n",
    "        title=\"Event Name\",\n",
    "        titlefont_size=16,\n",
    "        tickfont_size=14), width=900, height=400)\n",
    "fig.show()\n"
   ]
  },
  {
   "cell_type": "markdown",
   "metadata": {},
   "source": [
    "<span style=\"color:green\">**Notes from the analyst:** </span> \n",
    "\n",
    "- From the graph above, we can see our main event is \"MainScreenAppear\", which makes sense as it might be the first screen when opening the app. \n",
    "\n",
    "- The least frequent event is \"Tutorial\", maybe users need to actively click on it to show and that is less common \n",
    "\n"
   ]
  },
  {
   "cell_type": "markdown",
   "metadata": {},
   "source": [
    "### Unique users per event"
   ]
  },
  {
   "cell_type": "code",
   "execution_count": null,
   "metadata": {},
   "outputs": [],
   "source": [
    "prop = (filtered_exp.groupby('event_name')['user_id'].nunique()/filtered_exp.user_id.nunique()).round(2).reset_index().rename(columns={'user_id': 'proportion'})\n",
    "prop_u = filtered_exp.groupby('event_name')['user_id'].nunique().reset_index()\n",
    "prop = prop.merge(prop_u, on='event_name')\n",
    "fig = px.bar(prop.sort_values(by='user_id'), \n",
    "             x='user_id', y='event_name', color_discrete_sequence=(px.colors.sequential.Agsunset_r, 5),\n",
    "             hover_data=['proportion'], orientation='h', text='proportion')\n",
    "fig.update_layout(title='Number of Unique Users per Event and Usage Proportion',\n",
    "    xaxis_tickfont_size=14,\n",
    "    xaxis=dict(\n",
    "        title='# of Unique Users per Event',\n",
    "        titlefont_size=16,\n",
    "        tickfont_size=14), yaxis=dict(\n",
    "        title=\"Event Name\",\n",
    "        titlefont_size=16,\n",
    "        tickfont_size=14), width=900, height=400)\n",
    "fig.show() "
   ]
  },
  {
   "cell_type": "markdown",
   "metadata": {},
   "source": [
    "<span style=\"color:green\">**Notes from the analyst:** </span> \n",
    "\n",
    "- 98% of the users at least opened the main screen once. \n",
    "- 61% performed the action \"OfferscreenAppear\" \n",
    "- 47% of users got to \"PaymentScreenSuccessful\"\n",
    "- Only 11% of users actually clicked on Tutorial. We might need to review what's included there and if the content is still relevant for the users. \n",
    "\n",
    "\n",
    "\n",
    "Based on the charts above, we can understand the order of the events:\n",
    "\n",
    "1. Main Screen Appear -- opening the app\n",
    "2. Offer Screen Appear -- the user might check if there are any offers available or discounts\n",
    "3. Cart Screen Appear -- user added products to the cart\n",
    "4. Payment Screen Successful -- user did checkout and complete purchase\n",
    "5. Tutorial might be something related with the app and might be in the wrong place as users maybe click on it if they do not know how to perform X action. As said before, we need to review the content on this section and adjust it or delete it. "
   ]
  },
  {
   "cell_type": "markdown",
   "metadata": {},
   "source": [
    "### Event's funnel"
   ]
  },
  {
   "cell_type": "code",
   "execution_count": null,
   "metadata": {
    "scrolled": false
   },
   "outputs": [],
   "source": [
    "prop_f = prop.drop(4)\n",
    "fig = go.Figure(go.Funnel(\n",
    "    y = prop_f.sort_values(by = 'user_id', ascending = False)['event_name'],\n",
    "    x = prop_f.sort_values(by = 'user_id', ascending = False)['user_id'],\n",
    "    textinfo = \"value + percent previous + percent initial\"))\n",
    "fig.update_traces(marker=dict(color=(px.colors.sequential.Agsunset_r)))\n",
    "fig.update_layout(\n",
    "    title_text=\"Filtered Data | Event Funnel\", width=1000, height=500,plot_bgcolor='white', paper_bgcolor='white')\n",
    "fig.show()"
   ]
  },
  {
   "cell_type": "code",
   "execution_count": null,
   "metadata": {
    "scrolled": true
   },
   "outputs": [],
   "source": [
    "funnel = filtered_exp.query('event_name != \"Tutorial\"').pivot_table(index='event_name',values = 'user_id',aggfunc='nunique').sort_values(by='user_id', ascending=False).reset_index().drop(4)\n",
    "funnel['percentage_from_previous']=((funnel['user_id'].pct_change().fillna(1))*100).round(2).astype(str) + '%'\n",
    "funnel['percentage_from_initial'] = ((funnel['user_id'].pct_change().cumsum().fillna(1))*100).round(2).astype(str) + '%'\n",
    "\n",
    "funnel"
   ]
  },
  {
   "cell_type": "markdown",
   "metadata": {},
   "source": [
    "<span style=\"color:green\">**Notes from the analyst:** </span> \n",
    "\n",
    "- Thanks to the event funnel is easier to understand the action path since the opening of the app to the purchase stage\n",
    "- Only 50% of users actually get to their cart, which is very low retetion in the flow. \n",
    "- But 81% of the user who view offers, get to the cart \n",
    "- And 95% of them actually perform a purchase, which is good, so we might need to improve the flow before to retain more users from the offers to the cart screen\n"
   ]
  },
  {
   "cell_type": "markdown",
   "metadata": {},
   "source": [
    "### Event funnel chart per group"
   ]
  },
  {
   "cell_type": "code",
   "execution_count": null,
   "metadata": {},
   "outputs": [],
   "source": [
    "prop_e = filtered_exp.groupby(['event_name', 'exp_id'])['user_id'].nunique().reset_index().merge((filtered_exp.groupby(['event_name', 'exp_id'])['user_id'].nunique()/filtered_exp.user_id.nunique()).round(2).reset_index().rename(columns={'user_id': 'proportion'}), on=['event_name', 'exp_id']).drop([12,13,14])\n",
    "\n",
    "fig = go.Figure()\n",
    "\n",
    "fig.add_trace(go.Funnel(\n",
    "    name = '246',\n",
    "    y = prop_e.query('exp_id == 246').sort_values(by = 'user_id', ascending = False)['event_name'],\n",
    "    x = prop_e.query('exp_id == 246').sort_values(by = 'user_id', ascending = False)['user_id'],\n",
    "    textinfo = \"value + percent previous + percent initial\"))\n",
    "\n",
    "fig.add_trace(go.Funnel(\n",
    "    name = '247',\n",
    "    y = prop_e.query('exp_id == 247').sort_values(by = 'user_id', ascending = False)['event_name'],\n",
    "    x = prop_e.query('exp_id == 247').sort_values(by = 'user_id', ascending = False)['user_id'],\n",
    "    textinfo = \"value + percent previous + percent initial\"))\n",
    "\n",
    "fig.add_trace(go.Funnel(\n",
    "    name = '248',\n",
    "    y = prop_e.query('exp_id == 248').sort_values(by = 'user_id', ascending = False)['event_name'],\n",
    "    x = prop_e.query('exp_id == 248').sort_values(by = 'user_id', ascending = False)['user_id'],\n",
    "    textinfo = \"value + percent previous + percent initial\"))\n",
    "\n",
    "fig.update_traces(marker=dict(color=(px.colors.sequential.Agsunset_r)))\n",
    "fig.update_layout(\n",
    "    title_text=\"Filtered Data | Event Funnel per Exp. Group\", width=1100, height=600, \n",
    "    legend=dict(title='Groups:', orientation=\"h\", yanchor=\"bottom\", y=1.02, xanchor=\"center\", x=1), \n",
    "    plot_bgcolor='white', paper_bgcolor='white')\n",
    "\n",
    "fig.show();\n"
   ]
  },
  {
   "cell_type": "markdown",
   "metadata": {},
   "source": [
    "<span style=\"color:green\">**Notes from the analyst:** </span> \n",
    "\n",
    "- If we look at the funnel per group we can see the 3 groups have very similar trends"
   ]
  },
  {
   "cell_type": "markdown",
   "metadata": {},
   "source": [
    "<h3 style=\"color:orange\">Conlcusions:</h3> \n",
    "\n",
    "**In this section we conclude:**\n",
    "\n",
    "- From the users who opened the Main Screen, 98% of them did it at least once\n",
    "- 61% performed the action \"OfferscreenAppear\"\n",
    "- 47% of users got to \"PaymentScreenSuccessful\"\n",
    "- Only 11% of users actually clicked on Tutorial. We might need to review what's included there and if the content is still relevant for the users.\n",
    "\n",
    "Based on the charts above, we can understand the order of the events:\n",
    "\n",
    "1. Main Screen Appear -- opening the app\n",
    "2. Offer Screen Appear -- the user might check if there are any offers available or discounts\n",
    "3. Cart Screen Appear -- user added products to the cart\n",
    "4. Payment Screen Successful -- user did checkout and complete purchase\n",
    "\n",
    "*Tutorial might be something related with the app and might be in the wrong place as users maybe click on it if they do not know how to perform X action. As said before, we need to review the content on this section and adjust it or delete it.*\n",
    "\n",
    "\n",
    "Thanks to the event funnel is easier to understand the action path since the opening of the app to the purchase stage\n",
    "- Only 50% of users actually get to their cart, which is very low retetion in the flow.\n",
    "- But 81% of the user who view offers, get to the cart\n",
    "- And 95% of them actually perform a purchase, which is good, so we might need to improve the flow before to retain more users from the offers to the cart screen\n",
    "\n",
    "- The 3 groups have very similar trends\n",
    "\n"
   ]
  },
  {
   "cell_type": "markdown",
   "metadata": {},
   "source": [
    "## **Step 5. Study the results of the experiment**"
   ]
  },
  {
   "cell_type": "markdown",
   "metadata": {},
   "source": [
    "### Users per group and login distribution"
   ]
  },
  {
   "cell_type": "code",
   "execution_count": null,
   "metadata": {},
   "outputs": [],
   "source": [
    "fig = px.bar(filtered_exp.groupby(['exp_id'])['user_id'].nunique(), \n",
    "             y='user_id', color_discrete_sequence=(px.colors.sequential.Agsunset,3), text='user_id')\n",
    "fig.update_layout(title='Number of Users per Experiment Group in Filtered Data',\n",
    "    xaxis_tickfont_size=14,\n",
    "    yaxis=dict(\n",
    "        title='Number of Users',\n",
    "        titlefont_size=16,\n",
    "        tickfont_size=14), xaxis=dict(\n",
    "        title=\"Experiment Group\",\n",
    "        titlefont_size=16,\n",
    "        tickfont_size=14, tickmode = 'array', tickvals= filtered_exp.exp_id, ticktext = filtered_exp.exp_id))\n",
    "fig.show() "
   ]
  },
  {
   "cell_type": "markdown",
   "metadata": {},
   "source": [
    "<span style=\"color:green\">**Notes from the analyst:** </span> \n",
    "\n",
    "- The groups are evenly distributed:\n",
    "\n",
    "    - **248** has the most users (2,537)\n",
    "    - **247** with 2,513\n",
    "    - **246** with 2,484 users.\n",
    "\n"
   ]
  },
  {
   "cell_type": "code",
   "execution_count": null,
   "metadata": {},
   "outputs": [],
   "source": [
    "fig = px.scatter(filtered_exp.groupby(['event_name', 'user_id', 'exp_id'])['logs'].count().reset_index(), y='logs', \n",
    "x='event_name', size='exp_id', color=\"user_id\", symbol='event_name',color_continuous_scale=(px.colors.sequential.Agsunset))\n",
    "fig.update_coloraxes(showscale=False)\n",
    "fig.update_layout(title='Distribution of Logs per User per Event',\n",
    "    xaxis_tickfont_size=14,\n",
    "    yaxis=dict(\n",
    "        title='Number of Logs',\n",
    "        titlefont_size=16,\n",
    "        tickfont_size=14), xaxis=dict(\n",
    "        title=\"Event Name\",\n",
    "        titlefont_size=16,\n",
    "        tickfont_size=14))\n",
    "fig.show()"
   ]
  },
  {
   "cell_type": "markdown",
   "metadata": {},
   "source": [
    "<span style=\"color:green\">**Notes from the analyst:** </span> \n",
    "\n",
    "- We see some outliers on the cart and successfull payment screens, meaning we have users who buy a lot \n"
   ]
  },
  {
   "cell_type": "code",
   "execution_count": null,
   "metadata": {
    "scrolled": true
   },
   "outputs": [],
   "source": [
    "exp_piv = filtered_exp.pivot_table(columns=\"exp_id\", index=\"event_name\", values='user_id', aggfunc='nunique').append(filtered_exp.pivot_table(columns=\"exp_id\", values='user_id', aggfunc='nunique')).reset_index().rename(columns={'index': 'event'})\n",
    "exp_piv['control_groups'] = exp_piv[246].iloc[:]+exp_piv[247].iloc[:]\n",
    "exp_piv"
   ]
  },
  {
   "cell_type": "markdown",
   "metadata": {},
   "source": [
    "<span style=\"color:green\">**Notes from the analyst:** </span> \n",
    "\n",
    "- We created a table above to see the overall number of users per group and the number of users on each event\n"
   ]
  },
  {
   "cell_type": "markdown",
   "metadata": {},
   "source": [
    "### A/A test & A/B test\n",
    "\n",
    "- We have two control groups in the A/A test, where we check our mechanisms and calculations. See if there is a statistically significant difference between samples 246 and 247.\n",
    "\n",
    "Groups **246** and **247** are the control groups, will be used for the A/A test. \n",
    "\n",
    "**A/A tests** are designed to help examine the reliability of the A/B testing tool used to run the A/B tests. The concept is that these two groups have the same exact experience:\n",
    "   - Two groups of users that are provided with absolutely identical high traffic web pages;\n",
    "   - Similar user experience for both of these groups \n",
    "   - It is expected that KPI (Key Performance Indicator) will also be the same for both groups.\n",
    "\n",
    "**Null Hypothesis (H0) that group 246's proportion is equal to that of group 247. If rejected, the Alternative Hypothesis (H1) is that group 246's proportion is NOT equal to that of group 247.**\n",
    "\n",
    "\n",
    "\n",
    "After that, we will perform **A/B test** comparing each control group (**246** & **247**) to the test group: **248**\n",
    "\n",
    "* **Null Hypothesis (H0) means that either control group's proportion is equal to that of the test group. If rejected, the Alternative Hypothesis (H1) is that their proportions are NOT equal.**\n",
    "\n",
    "Both the A/A test and the A/B tests will be per event name. In the final A/B test, we will compare both control groups to the test group.\n",
    "\n",
    "\n",
    "<span style=\"color:purple\">**Actions taken:** </span>\n",
    "- Select the most popular event. In each of the control groups, find the number of users who performed this action. Find their share. Check whether the difference between the groups is statistically significant. Repeat the procedure for all other events (it will save time if you create a special function for this test). Can you confirm that the groups were split properly?\n",
    "- Do the same thing for the group with altered fonts. Compare the results with those of each of the control groups for each event in isolation. Compare the results with the combined results for the control groups. What conclusions can you draw from the experiment?\n",
    "- What significance level have you set to test the statistical hypotheses mentioned above? Calculate how many statistical hypothesis tests you carried out. With a statistical significance level of 0.1, one in 10 results could be false. What should the significance level be? If you want to change it, run through the previous steps again and check your conclusions"
   ]
  },
  {
   "cell_type": "code",
   "execution_count": null,
   "metadata": {},
   "outputs": [],
   "source": [
    "alpha = 0.05 \n",
    "\n",
    "def test_aab(a,b,e):\n",
    "    logs_a = exp_piv[exp_piv.event == \"user_id\"][a].iloc[0]\n",
    "    logs_b = exp_piv[exp_piv.event == \"user_id\"][b].iloc[0]\n",
    "\n",
    "    event_a = exp_piv[exp_piv.event == e][a].iloc[0]\n",
    "    event_b = exp_piv[exp_piv.event == e][b].iloc[0]\n",
    "\n",
    "    p1 = event_a/logs_a\n",
    "\n",
    "    p2 = event_b/logs_b\n",
    "\n",
    "    p_combined = (event_a + event_b) / (logs_a + logs_b)\n",
    "\n",
    "    difference = p1 - p2 \n",
    "\n",
    "    z_value = difference / mth.sqrt(p_combined * (1 - p_combined) * (1/logs_a + 1/logs_b))\n",
    "\n",
    "    distr = st.norm(0, 1)  \n",
    "\n",
    "    p_value = (1 - distr.cdf(abs(z_value))) * 2\n",
    "\n",
    "    print(\"\"\"Share of users from group {} with {} event is {:.2%}.\"\"\".format(a, e, (event_a/logs_a)))\n",
    "    print(\"\"\"Share of users from group {} with {} event is {:.2%}.\"\"\".format(b, e, (event_b/logs_b)))\n",
    "    print('p-value: {:.3f}'.format(p_value))\n",
    "\n",
    "    if (p_value < alpha):\n",
    "        print(\"\"\"Conclusion: \n",
    "Reject the Null Hypothesis (H0) related to event {} using significance level (alpha) of 0.05.\"\"\".format(e))\n",
    "    else:\n",
    "        print(\"\"\"Conclusion: \n",
    "We are unable reject the Null Hypothesis (H0) in regards to event {} using significance level \n",
    "(alpha) of 0.05.\"\"\".format(e)) \n",
    "        "
   ]
  },
  {
   "cell_type": "markdown",
   "metadata": {},
   "source": [
    "#### A/A Test - Statistical Significance of the Difference between Control Groups\n"
   ]
  },
  {
   "cell_type": "code",
   "execution_count": null,
   "metadata": {},
   "outputs": [],
   "source": [
    "events = [\"OffersScreenAppear\", \"CartScreenAppear\", \"PaymentScreenSuccessful\", \"Tutorial\"]\n",
    "\n",
    "for e in events:\n",
    "    test_aab(246, 247, e)\n",
    "    print()\n",
    "    print('-----------')\n",
    "    print()"
   ]
  },
  {
   "cell_type": "markdown",
   "metadata": {},
   "source": [
    "<span style=\"color:orange\">**Conlcusions:**</span> \n",
    "\n",
    "- p-value is higher than the alpha (0.05) = We can't reject the null hypothesis that the behavior of either the two control groups is equal in the all of the events in the event funnel.\n",
    "\n"
   ]
  },
  {
   "cell_type": "markdown",
   "metadata": {},
   "source": [
    "#### A/B Test - Statistical Significance of the Difference between Control Group 246 and Test Group 248"
   ]
  },
  {
   "cell_type": "code",
   "execution_count": null,
   "metadata": {},
   "outputs": [],
   "source": [
    "events = [\"OffersScreenAppear\", \"CartScreenAppear\", \"PaymentScreenSuccessful\", \"Tutorial\"]\n",
    "\n",
    "for e in events:\n",
    "    test_aab(246, 248, e)\n",
    "    print()\n",
    "    print('-----------')\n",
    "    print()"
   ]
  },
  {
   "cell_type": "markdown",
   "metadata": {},
   "source": [
    "<span style=\"color:orange\">**Conlcusions:**</span> \n",
    "\n",
    "- p-value is higher than the alpha (0.05) = We can't reject the null hypothesis that the behavior of either the control group and the test group is equal in the all of the events in the event funnel.\n",
    "\n"
   ]
  },
  {
   "cell_type": "markdown",
   "metadata": {},
   "source": [
    "#### A/B Test - Statistical Significance of the Difference between Control Group 247 and Test Group 248"
   ]
  },
  {
   "cell_type": "code",
   "execution_count": null,
   "metadata": {},
   "outputs": [],
   "source": [
    "events = [\"OffersScreenAppear\", \"CartScreenAppear\", \"PaymentScreenSuccessful\", \"Tutorial\"]\n",
    "\n",
    "for e in events:\n",
    "    test_aab(247, 248, e)\n",
    "    print()\n",
    "    print('-----------')\n",
    "    print()"
   ]
  },
  {
   "cell_type": "markdown",
   "metadata": {},
   "source": [
    "<span style=\"color:orange\">**Conlcusions:**</span> \n",
    "\n",
    "- p-value is higher than the alpha (0.05) = We can't reject the null hypothesis that the behavior of either the control group and the test group is equal in the all of the events in the event funnel.\n",
    "\n"
   ]
  },
  {
   "cell_type": "markdown",
   "metadata": {},
   "source": [
    "### A/B Test Comparing Both Control Groups and The Test Group"
   ]
  },
  {
   "cell_type": "code",
   "execution_count": null,
   "metadata": {},
   "outputs": [],
   "source": [
    "events = [\"OffersScreenAppear\", \"CartScreenAppear\", \"PaymentScreenSuccessful\", \"Tutorial\"]\n",
    "\n",
    "for e in events:\n",
    "    test_aab(\"control_groups\", 248, e)\n",
    "    print()\n",
    "    print('-----------')\n",
    "    print()"
   ]
  },
  {
   "cell_type": "markdown",
   "metadata": {},
   "source": [
    "<span style=\"color:orange\">**Conlcusions:**</span> \n",
    "\n",
    "- p-value is higher than the alpha (0.05) = We can't reject the null hypothesis that the behavior of either the two control groups or either control group and the test group is equal in the all of the events (other than the \"MainScreenAppear\" event). In every event, the combined control group had higher share than the test group, even though the test group has the highest number of users of the three groups\n",
    "\n"
   ]
  },
  {
   "cell_type": "markdown",
   "metadata": {},
   "source": [
    "<h3 style=\"color:orange\">Conlcusions:</h3> \n",
    "\n",
    "In this section:\n",
    "\n",
    "- The groups are evenly distributed:\n",
    "    - 248 has the most users (2,537)\n",
    "    - 247 with 2,513\n",
    "    - 246 with 2,484 users.\n",
    "    \n",
    "- We see some outliers on the cart and successfull payment screens, meaning we have users who buy a lot \n",
    "- We created a table to see the overall number of users per group and the number of users on each event \n",
    "\n",
    "\n",
    "- We have 2 control groups: **246** & **247**\n",
    "- Performed A/A test  and A/B test\n",
    "- The function applies z-test to check two independents data groups and decide on whether the sample are equals or not. Applied the function to each event (other than the \"MainScreenAppear\" event), first comparing the two control groups to each other in the A/A test, then 2 A/B tests comparing each control group to the test group and finally combining the control groups and comparing it to the test group.\n",
    "\n",
    "**A/A and A/B tests Conclusions:**\n",
    "\n",
    "- The control group had the highest share of the 3 on each event page. \n",
    "- The z-test took place 16 times and each one we were unable to reject the null hypothesis that there is no difference in the behavior of either the control groups and the test one. \n",
    "- Having so many test running might increase the risk of a Type I error (a false positive result of a statistical test) but decreasing the alpha won't have any bearing on the tests' results.\n",
    "\n"
   ]
  },
  {
   "cell_type": "markdown",
   "metadata": {},
   "source": [
    "## Conclusions\n"
   ]
  },
  {
   "cell_type": "markdown",
   "metadata": {},
   "source": [
    "- Behavior of users with the new font suggested by the designers is similar to those users of the control group. We can conclude that altering the font does not have effect on the user's behavior and do not stop them from using the app and completing a purchase\n",
    "\n",
    "- What we discovered, unrelated to the font change is that the flow from the offers to check the cart and then make a purchase should be improve to retain more users between the offers and checking the cart, so we can increase our sales from the app. "
   ]
  }
 ],
 "metadata": {
  "kernelspec": {
   "display_name": "Python 3 (ipykernel)",
   "language": "python",
   "name": "python3"
  },
  "language_info": {
   "codemirror_mode": {
    "name": "ipython",
    "version": 3
   },
   "file_extension": ".py",
   "mimetype": "text/x-python",
   "name": "python",
   "nbconvert_exporter": "python",
   "pygments_lexer": "ipython3",
   "version": "3.9.5"
  },
  "toc": {
   "base_numbering": 1,
   "nav_menu": {},
   "number_sections": true,
   "sideBar": true,
   "skip_h1_title": true,
   "title_cell": "Table of Contents",
   "title_sidebar": "Contents",
   "toc_cell": false,
   "toc_position": {},
   "toc_section_display": true,
   "toc_window_display": true
  }
 },
 "nbformat": 4,
 "nbformat_minor": 2
}
