{
 "cells": [
  {
   "cell_type": "markdown",
   "metadata": {},
   "source": [
    "# Project description\n",
    "---\n",
    "**Context**\n",
    "\n",
    "As the analyst at a big online store, together with the marketing department, we've compiled a list of hypotheses that may help boost revenue.\n",
    "\n",
    "We need to prioritize these hypotheses, launch an A/B test, and analyze the results.\n"
   ]
  },
  {
   "cell_type": "markdown",
   "metadata": {},
   "source": [
    "# Description of the data\n",
    "---\n",
    "**Data used in the first part of the project**\n",
    "\n",
    "`/datasets/hypotheses_us.csv` [Download dataset](https://practicum-content.s3.us-west-1.amazonaws.com/datasets/hypotheses_us.csv)\n",
    "\n",
    "- `Hypotheses` — brief descriptions of the hypotheses\n",
    "- `Reach` — user reach, on a scale of one to ten\n",
    "- `Impact` — impact on users, on a scale of one to ten\n",
    "- `Confidence` — confidence in the hypothesis, on a scale of one to ten\n",
    "- `Effort` — the resources required to test a hypothesis, on a scale of one to ten. The higher the `Effort` value, the more resource-intensive the test.\n",
    "\n",
    "**Data used in the second part of the project**\n",
    "\n",
    "`/datasets/orders_us.csv` [Download dataset](https://practicum-content.s3.us-west-1.amazonaws.com/datasets/orders_us.csv)\n",
    "\n",
    "- `transactionId` — order identifier\n",
    "- `visitorId` — identifier of the user who placed the order\n",
    "- `date` — of the order\n",
    "- `revenue` — from the order\n",
    "- `group` — the A/B test group that the user belongs to\n",
    "\n",
    "`/datasets/visits_us.csv` [Download dataset](https://practicum-content.s3.us-west-1.amazonaws.com/datasets/visits_us.csv)\n",
    "\n",
    "- `date` — date\n",
    "- `group` — A/B test group\n",
    "- `visits` — the number of visits on the date specified in the A/B test group specified\n",
    "\n",
    "Make sure to preprocess the data. There might be mistakes in the original datasets; for example, some of the visitors might have gotten into both group A and group B."
   ]
  },
  {
   "cell_type": "markdown",
   "metadata": {},
   "source": [
    "# Table of Contents\n",
    "\n",
    "---\n",
    "**Part 0. Preparing the data for analysis**\n",
    "   * Data Preprocessing\n",
    "\n",
    "**Part 1. Prioritizing Hypotheses**\n",
    "\n",
    "The file `hypotheses_us.csv` contains nine hypotheses on boosting an online store's revenue with `Reach`, `Impact`, `Confidence`, and `Effort` specified for each.\n",
    "\n",
    "**The task is:**\n",
    "\n",
    "- Apply the `ICE` framework to prioritize hypotheses. Sort them in descending order of priority.\n",
    "- Apply the `RICE` framework to prioritize hypotheses. Sort them in descending order of priority.\n",
    "- Show how the prioritization of hypotheses changes when you use `RICE` instead of `ICE`. Provide an explanation for the changes.\n",
    "\n",
    "\n",
    "\n",
    "**Part 2. A/B Test Analysis** \n",
    "\n",
    "You carried out an A/B test and got the results described in the files `orders_us.csv` and `visits_us.csv`.\n",
    "\n",
    "**Task**: Analyze the A/B test:\n",
    "\n",
    "1. Graph cumulative revenue by group. Make conclusions and conjectures.\n",
    "2. Graph cumulative average order size by group. Make conclusions and conjectures.\n",
    "3. Graph the relative difference in cumulative average order size for group B compared with group A. Make conclusions and conjectures.\n",
    "4. Calculate each group's conversion rate as the ratio of orders to the number of visits for each day. Plot the daily conversion rates of the two groups and describe the difference. Draw conclusions and make conjectures.\n",
    "5. Plot a scatter chart of the number of orders per user. Make conclusions and conjectures.\n",
    "6. Calculate the 95th and 99th percentiles for the number of orders per user. Define the point at which a data point becomes an anomaly.\n",
    "7. Plot a scatter chart of order prices. Make conclusions and conjectures.\n",
    "8. Calculate the 95th and 99th percentiles of order prices. Define the point at which a data point becomes an anomaly.\n",
    "9. Find the statistical significance of the difference in conversion between the groups using the raw data. Make conclusions and conjectures.\n",
    "10. Find the statistical significance of the difference in average order size between the groups using the raw data. Make conclusions and conjectures.\n",
    "11. Find the statistical significance of the difference in conversion between the groups using the filtered data. Make conclusions and conjectures.\n",
    "12. Find the statistical significance of the difference in average order size between the groups using the filtered data. Make conclusions and conjectures.\n",
    "13. Make a decision based on the test results. The possible decisions are: \n",
    "    1. Stop the test, consider one of the groups the leader. \n",
    "    2. Stop the test, conclude that there is no difference between the groups. \n",
    "    3. Continue the test.\n"
   ]
  },
  {
   "cell_type": "markdown",
   "metadata": {},
   "source": [
    "## Preparing the data for analysis | data preprocessing\n",
    "---"
   ]
  },
  {
   "cell_type": "code",
   "execution_count": 1,
   "metadata": {},
   "outputs": [],
   "source": [
    "import pandas as pd\n",
    "import random\n",
    "#import sidetable\n",
    "import math as mt\n",
    "import matplotlib\n",
    "import numpy as np\n",
    "import datetime as dt\n",
    "import seaborn as sns\n",
    "from scipy import stats\n",
    "from random import sample\n",
    "from functools import reduce\n",
    "from scipy import stats as st\n",
    "from scipy.stats import levene\n",
    "import matplotlib.pyplot as plt\n",
    "from itertools import chain,cycle\n",
    "from IPython.display import display_html\n",
    "import warnings\n",
    "warnings.filterwarnings('ignore')"
   ]
  },
  {
   "cell_type": "code",
   "execution_count": 2,
   "metadata": {},
   "outputs": [],
   "source": [
    "try:\n",
    "    hypotheses = pd.read_csv('hypotheses_us.csv', sep = ';')\n",
    "    orders = pd.read_csv('orders_us.csv')\n",
    "    visits = pd.read_csv('visits_us.csv')\n",
    "except:\n",
    "    hypotheses = pd.read_csv('/datasets/hypotheses_us.csv', sep = ';')\n",
    "    orders = pd.read_csv('/datasets/orders_us.csv')\n",
    "    visits = pd.read_csv('/datasets/visits_us.csv')    "
   ]
  },
  {
   "cell_type": "markdown",
   "metadata": {},
   "source": [
    "<span style=\"color:purple\">**Actions taken:** </span>\n",
    "\n",
    "- Below we will review each dataset to get familiar with the information "
   ]
  },
  {
   "cell_type": "code",
   "execution_count": 3,
   "metadata": {},
   "outputs": [
    {
     "name": "stdout",
     "output_type": "stream",
     "text": [
      "<class 'pandas.core.frame.DataFrame'>\n",
      "RangeIndex: 9 entries, 0 to 8\n",
      "Data columns (total 5 columns):\n",
      " #   Column      Non-Null Count  Dtype \n",
      "---  ------      --------------  ----- \n",
      " 0   Hypothesis  9 non-null      object\n",
      " 1   Reach       9 non-null      int64 \n",
      " 2   Impact      9 non-null      int64 \n",
      " 3   Confidence  9 non-null      int64 \n",
      " 4   Effort      9 non-null      int64 \n",
      "dtypes: int64(4), object(1)\n",
      "memory usage: 488.0+ bytes\n"
     ]
    }
   ],
   "source": [
    "hypotheses.info('deep')"
   ]
  },
  {
   "cell_type": "code",
   "execution_count": 4,
   "metadata": {},
   "outputs": [
    {
     "data": {
      "text/html": [
       "<div>\n",
       "<style scoped>\n",
       "    .dataframe tbody tr th:only-of-type {\n",
       "        vertical-align: middle;\n",
       "    }\n",
       "\n",
       "    .dataframe tbody tr th {\n",
       "        vertical-align: top;\n",
       "    }\n",
       "\n",
       "    .dataframe thead th {\n",
       "        text-align: right;\n",
       "    }\n",
       "</style>\n",
       "<table border=\"1\" class=\"dataframe\">\n",
       "  <thead>\n",
       "    <tr style=\"text-align: right;\">\n",
       "      <th></th>\n",
       "      <th>count</th>\n",
       "      <th>unique</th>\n",
       "      <th>top</th>\n",
       "      <th>freq</th>\n",
       "      <th>mean</th>\n",
       "      <th>std</th>\n",
       "      <th>min</th>\n",
       "      <th>25%</th>\n",
       "      <th>50%</th>\n",
       "      <th>75%</th>\n",
       "      <th>max</th>\n",
       "    </tr>\n",
       "  </thead>\n",
       "  <tbody>\n",
       "    <tr>\n",
       "      <th>Hypothesis</th>\n",
       "      <td>9</td>\n",
       "      <td>9</td>\n",
       "      <td>Change the background color on the main page. ...</td>\n",
       "      <td>1</td>\n",
       "      <td>N/A</td>\n",
       "      <td>N/A</td>\n",
       "      <td>N/A</td>\n",
       "      <td>N/A</td>\n",
       "      <td>N/A</td>\n",
       "      <td>N/A</td>\n",
       "      <td>N/A</td>\n",
       "    </tr>\n",
       "    <tr>\n",
       "      <th>Reach</th>\n",
       "      <td>9.0</td>\n",
       "      <td>N/A</td>\n",
       "      <td>N/A</td>\n",
       "      <td>N/A</td>\n",
       "      <td>4.777778</td>\n",
       "      <td>3.153481</td>\n",
       "      <td>1.0</td>\n",
       "      <td>3.0</td>\n",
       "      <td>3.0</td>\n",
       "      <td>8.0</td>\n",
       "      <td>10.0</td>\n",
       "    </tr>\n",
       "    <tr>\n",
       "      <th>Impact</th>\n",
       "      <td>9.0</td>\n",
       "      <td>N/A</td>\n",
       "      <td>N/A</td>\n",
       "      <td>N/A</td>\n",
       "      <td>4.777778</td>\n",
       "      <td>3.192874</td>\n",
       "      <td>1.0</td>\n",
       "      <td>3.0</td>\n",
       "      <td>3.0</td>\n",
       "      <td>7.0</td>\n",
       "      <td>10.0</td>\n",
       "    </tr>\n",
       "    <tr>\n",
       "      <th>Confidence</th>\n",
       "      <td>9.0</td>\n",
       "      <td>N/A</td>\n",
       "      <td>N/A</td>\n",
       "      <td>N/A</td>\n",
       "      <td>5.555556</td>\n",
       "      <td>3.045944</td>\n",
       "      <td>1.0</td>\n",
       "      <td>3.0</td>\n",
       "      <td>7.0</td>\n",
       "      <td>8.0</td>\n",
       "      <td>9.0</td>\n",
       "    </tr>\n",
       "    <tr>\n",
       "      <th>Effort</th>\n",
       "      <td>9.0</td>\n",
       "      <td>N/A</td>\n",
       "      <td>N/A</td>\n",
       "      <td>N/A</td>\n",
       "      <td>4.888889</td>\n",
       "      <td>2.803767</td>\n",
       "      <td>1.0</td>\n",
       "      <td>3.0</td>\n",
       "      <td>5.0</td>\n",
       "      <td>6.0</td>\n",
       "      <td>10.0</td>\n",
       "    </tr>\n",
       "  </tbody>\n",
       "</table>\n",
       "</div>"
      ],
      "text/plain": [
       "           count unique                                                top  \\\n",
       "Hypothesis     9      9  Change the background color on the main page. ...   \n",
       "Reach        9.0    N/A                                                N/A   \n",
       "Impact       9.0    N/A                                                N/A   \n",
       "Confidence   9.0    N/A                                                N/A   \n",
       "Effort       9.0    N/A                                                N/A   \n",
       "\n",
       "           freq      mean       std  min  25%  50%  75%   max  \n",
       "Hypothesis    1       N/A       N/A  N/A  N/A  N/A  N/A   N/A  \n",
       "Reach       N/A  4.777778  3.153481  1.0  3.0  3.0  8.0  10.0  \n",
       "Impact      N/A  4.777778  3.192874  1.0  3.0  3.0  7.0  10.0  \n",
       "Confidence  N/A  5.555556  3.045944  1.0  3.0  7.0  8.0   9.0  \n",
       "Effort      N/A  4.888889  2.803767  1.0  3.0  5.0  6.0  10.0  "
      ]
     },
     "execution_count": 4,
     "metadata": {},
     "output_type": "execute_result"
    }
   ],
   "source": [
    "hypotheses.describe(include='all', datetime_is_numeric=True).fillna('N/A').T"
   ]
  },
  {
   "cell_type": "code",
   "execution_count": 5,
   "metadata": {},
   "outputs": [
    {
     "data": {
      "text/html": [
       "<div>\n",
       "<style scoped>\n",
       "    .dataframe tbody tr th:only-of-type {\n",
       "        vertical-align: middle;\n",
       "    }\n",
       "\n",
       "    .dataframe tbody tr th {\n",
       "        vertical-align: top;\n",
       "    }\n",
       "\n",
       "    .dataframe thead th {\n",
       "        text-align: right;\n",
       "    }\n",
       "</style>\n",
       "<table border=\"1\" class=\"dataframe\">\n",
       "  <thead>\n",
       "    <tr style=\"text-align: right;\">\n",
       "      <th></th>\n",
       "      <th>Hypothesis</th>\n",
       "      <th>Reach</th>\n",
       "      <th>Impact</th>\n",
       "      <th>Confidence</th>\n",
       "      <th>Effort</th>\n",
       "    </tr>\n",
       "  </thead>\n",
       "  <tbody>\n",
       "    <tr>\n",
       "      <th>0</th>\n",
       "      <td>Add two new channels for attracting traffic. T...</td>\n",
       "      <td>3</td>\n",
       "      <td>10</td>\n",
       "      <td>8</td>\n",
       "      <td>6</td>\n",
       "    </tr>\n",
       "    <tr>\n",
       "      <th>1</th>\n",
       "      <td>Launch your own delivery service. This will sh...</td>\n",
       "      <td>2</td>\n",
       "      <td>5</td>\n",
       "      <td>4</td>\n",
       "      <td>10</td>\n",
       "    </tr>\n",
       "    <tr>\n",
       "      <th>2</th>\n",
       "      <td>Add product recommendation blocks to the store...</td>\n",
       "      <td>8</td>\n",
       "      <td>3</td>\n",
       "      <td>7</td>\n",
       "      <td>3</td>\n",
       "    </tr>\n",
       "    <tr>\n",
       "      <th>3</th>\n",
       "      <td>Change the category structure. This will incre...</td>\n",
       "      <td>8</td>\n",
       "      <td>3</td>\n",
       "      <td>3</td>\n",
       "      <td>8</td>\n",
       "    </tr>\n",
       "    <tr>\n",
       "      <th>4</th>\n",
       "      <td>Change the background color on the main page. ...</td>\n",
       "      <td>3</td>\n",
       "      <td>1</td>\n",
       "      <td>1</td>\n",
       "      <td>1</td>\n",
       "    </tr>\n",
       "  </tbody>\n",
       "</table>\n",
       "</div>"
      ],
      "text/plain": [
       "                                          Hypothesis  Reach  Impact  \\\n",
       "0  Add two new channels for attracting traffic. T...      3      10   \n",
       "1  Launch your own delivery service. This will sh...      2       5   \n",
       "2  Add product recommendation blocks to the store...      8       3   \n",
       "3  Change the category structure. This will incre...      8       3   \n",
       "4  Change the background color on the main page. ...      3       1   \n",
       "\n",
       "   Confidence  Effort  \n",
       "0           8       6  \n",
       "1           4      10  \n",
       "2           7       3  \n",
       "3           3       8  \n",
       "4           1       1  "
      ]
     },
     "execution_count": 5,
     "metadata": {},
     "output_type": "execute_result"
    }
   ],
   "source": [
    "hypotheses.head()"
   ]
  },
  {
   "cell_type": "code",
   "execution_count": 6,
   "metadata": {},
   "outputs": [
    {
     "name": "stdout",
     "output_type": "stream",
     "text": [
      "<class 'pandas.core.frame.DataFrame'>\n",
      "RangeIndex: 1197 entries, 0 to 1196\n",
      "Data columns (total 5 columns):\n",
      " #   Column         Non-Null Count  Dtype  \n",
      "---  ------         --------------  -----  \n",
      " 0   transactionId  1197 non-null   int64  \n",
      " 1   visitorId      1197 non-null   int64  \n",
      " 2   date           1197 non-null   object \n",
      " 3   revenue        1197 non-null   float64\n",
      " 4   group          1197 non-null   object \n",
      "dtypes: float64(1), int64(2), object(2)\n",
      "memory usage: 46.9+ KB\n"
     ]
    }
   ],
   "source": [
    "orders.info('deep')"
   ]
  },
  {
   "cell_type": "code",
   "execution_count": 7,
   "metadata": {},
   "outputs": [
    {
     "data": {
      "text/html": [
       "<div>\n",
       "<style scoped>\n",
       "    .dataframe tbody tr th:only-of-type {\n",
       "        vertical-align: middle;\n",
       "    }\n",
       "\n",
       "    .dataframe tbody tr th {\n",
       "        vertical-align: top;\n",
       "    }\n",
       "\n",
       "    .dataframe thead th {\n",
       "        text-align: right;\n",
       "    }\n",
       "</style>\n",
       "<table border=\"1\" class=\"dataframe\">\n",
       "  <thead>\n",
       "    <tr style=\"text-align: right;\">\n",
       "      <th></th>\n",
       "      <th>count</th>\n",
       "      <th>unique</th>\n",
       "      <th>top</th>\n",
       "      <th>freq</th>\n",
       "      <th>mean</th>\n",
       "      <th>std</th>\n",
       "      <th>min</th>\n",
       "      <th>25%</th>\n",
       "      <th>50%</th>\n",
       "      <th>75%</th>\n",
       "      <th>max</th>\n",
       "    </tr>\n",
       "  </thead>\n",
       "  <tbody>\n",
       "    <tr>\n",
       "      <th>transactionId</th>\n",
       "      <td>1197.0</td>\n",
       "      <td>N/A</td>\n",
       "      <td>N/A</td>\n",
       "      <td>N/A</td>\n",
       "      <td>2155621385.529657</td>\n",
       "      <td>1229084904.760058</td>\n",
       "      <td>1062393.0</td>\n",
       "      <td>1166775572.0</td>\n",
       "      <td>2145193898.0</td>\n",
       "      <td>3237740112.0</td>\n",
       "      <td>4293855558.0</td>\n",
       "    </tr>\n",
       "    <tr>\n",
       "      <th>visitorId</th>\n",
       "      <td>1197.0</td>\n",
       "      <td>N/A</td>\n",
       "      <td>N/A</td>\n",
       "      <td>N/A</td>\n",
       "      <td>2165960143.099415</td>\n",
       "      <td>1236014192.14687</td>\n",
       "      <td>5114589.0</td>\n",
       "      <td>1111826046.0</td>\n",
       "      <td>2217984702.0</td>\n",
       "      <td>3177606451.0</td>\n",
       "      <td>4283872382.0</td>\n",
       "    </tr>\n",
       "    <tr>\n",
       "      <th>date</th>\n",
       "      <td>1197</td>\n",
       "      <td>31</td>\n",
       "      <td>2019-08-05</td>\n",
       "      <td>48</td>\n",
       "      <td>N/A</td>\n",
       "      <td>N/A</td>\n",
       "      <td>N/A</td>\n",
       "      <td>N/A</td>\n",
       "      <td>N/A</td>\n",
       "      <td>N/A</td>\n",
       "      <td>N/A</td>\n",
       "    </tr>\n",
       "    <tr>\n",
       "      <th>revenue</th>\n",
       "      <td>1197.0</td>\n",
       "      <td>N/A</td>\n",
       "      <td>N/A</td>\n",
       "      <td>N/A</td>\n",
       "      <td>131.491646</td>\n",
       "      <td>603.004729</td>\n",
       "      <td>5.0</td>\n",
       "      <td>20.8</td>\n",
       "      <td>50.2</td>\n",
       "      <td>130.4</td>\n",
       "      <td>19920.4</td>\n",
       "    </tr>\n",
       "    <tr>\n",
       "      <th>group</th>\n",
       "      <td>1197</td>\n",
       "      <td>2</td>\n",
       "      <td>B</td>\n",
       "      <td>640</td>\n",
       "      <td>N/A</td>\n",
       "      <td>N/A</td>\n",
       "      <td>N/A</td>\n",
       "      <td>N/A</td>\n",
       "      <td>N/A</td>\n",
       "      <td>N/A</td>\n",
       "      <td>N/A</td>\n",
       "    </tr>\n",
       "  </tbody>\n",
       "</table>\n",
       "</div>"
      ],
      "text/plain": [
       "                count unique         top freq               mean  \\\n",
       "transactionId  1197.0    N/A         N/A  N/A  2155621385.529657   \n",
       "visitorId      1197.0    N/A         N/A  N/A  2165960143.099415   \n",
       "date             1197     31  2019-08-05   48                N/A   \n",
       "revenue        1197.0    N/A         N/A  N/A         131.491646   \n",
       "group            1197      2           B  640                N/A   \n",
       "\n",
       "                             std        min           25%           50%  \\\n",
       "transactionId  1229084904.760058  1062393.0  1166775572.0  2145193898.0   \n",
       "visitorId       1236014192.14687  5114589.0  1111826046.0  2217984702.0   \n",
       "date                         N/A        N/A           N/A           N/A   \n",
       "revenue               603.004729        5.0          20.8          50.2   \n",
       "group                        N/A        N/A           N/A           N/A   \n",
       "\n",
       "                        75%           max  \n",
       "transactionId  3237740112.0  4293855558.0  \n",
       "visitorId      3177606451.0  4283872382.0  \n",
       "date                    N/A           N/A  \n",
       "revenue               130.4       19920.4  \n",
       "group                   N/A           N/A  "
      ]
     },
     "execution_count": 7,
     "metadata": {},
     "output_type": "execute_result"
    }
   ],
   "source": [
    "orders.describe(include='all', datetime_is_numeric=True).fillna('N/A').T"
   ]
  },
  {
   "cell_type": "code",
   "execution_count": 8,
   "metadata": {},
   "outputs": [
    {
     "data": {
      "text/html": [
       "<div>\n",
       "<style scoped>\n",
       "    .dataframe tbody tr th:only-of-type {\n",
       "        vertical-align: middle;\n",
       "    }\n",
       "\n",
       "    .dataframe tbody tr th {\n",
       "        vertical-align: top;\n",
       "    }\n",
       "\n",
       "    .dataframe thead th {\n",
       "        text-align: right;\n",
       "    }\n",
       "</style>\n",
       "<table border=\"1\" class=\"dataframe\">\n",
       "  <thead>\n",
       "    <tr style=\"text-align: right;\">\n",
       "      <th></th>\n",
       "      <th>transactionId</th>\n",
       "      <th>visitorId</th>\n",
       "      <th>date</th>\n",
       "      <th>revenue</th>\n",
       "      <th>group</th>\n",
       "    </tr>\n",
       "  </thead>\n",
       "  <tbody>\n",
       "    <tr>\n",
       "      <th>0</th>\n",
       "      <td>3667963787</td>\n",
       "      <td>3312258926</td>\n",
       "      <td>2019-08-15</td>\n",
       "      <td>30.4</td>\n",
       "      <td>B</td>\n",
       "    </tr>\n",
       "    <tr>\n",
       "      <th>1</th>\n",
       "      <td>2804400009</td>\n",
       "      <td>3642806036</td>\n",
       "      <td>2019-08-15</td>\n",
       "      <td>15.2</td>\n",
       "      <td>B</td>\n",
       "    </tr>\n",
       "    <tr>\n",
       "      <th>2</th>\n",
       "      <td>2961555356</td>\n",
       "      <td>4069496402</td>\n",
       "      <td>2019-08-15</td>\n",
       "      <td>10.2</td>\n",
       "      <td>A</td>\n",
       "    </tr>\n",
       "    <tr>\n",
       "      <th>3</th>\n",
       "      <td>3797467345</td>\n",
       "      <td>1196621759</td>\n",
       "      <td>2019-08-15</td>\n",
       "      <td>155.1</td>\n",
       "      <td>B</td>\n",
       "    </tr>\n",
       "    <tr>\n",
       "      <th>4</th>\n",
       "      <td>2282983706</td>\n",
       "      <td>2322279887</td>\n",
       "      <td>2019-08-15</td>\n",
       "      <td>40.5</td>\n",
       "      <td>B</td>\n",
       "    </tr>\n",
       "  </tbody>\n",
       "</table>\n",
       "</div>"
      ],
      "text/plain": [
       "   transactionId   visitorId        date  revenue group\n",
       "0     3667963787  3312258926  2019-08-15     30.4     B\n",
       "1     2804400009  3642806036  2019-08-15     15.2     B\n",
       "2     2961555356  4069496402  2019-08-15     10.2     A\n",
       "3     3797467345  1196621759  2019-08-15    155.1     B\n",
       "4     2282983706  2322279887  2019-08-15     40.5     B"
      ]
     },
     "execution_count": 8,
     "metadata": {},
     "output_type": "execute_result"
    }
   ],
   "source": [
    "orders.head()"
   ]
  },
  {
   "cell_type": "code",
   "execution_count": 9,
   "metadata": {},
   "outputs": [
    {
     "name": "stdout",
     "output_type": "stream",
     "text": [
      "<class 'pandas.core.frame.DataFrame'>\n",
      "RangeIndex: 62 entries, 0 to 61\n",
      "Data columns (total 3 columns):\n",
      " #   Column  Non-Null Count  Dtype \n",
      "---  ------  --------------  ----- \n",
      " 0   date    62 non-null     object\n",
      " 1   group   62 non-null     object\n",
      " 2   visits  62 non-null     int64 \n",
      "dtypes: int64(1), object(2)\n",
      "memory usage: 1.6+ KB\n"
     ]
    }
   ],
   "source": [
    "visits.info('deep')"
   ]
  },
  {
   "cell_type": "code",
   "execution_count": 10,
   "metadata": {},
   "outputs": [
    {
     "data": {
      "text/html": [
       "<div>\n",
       "<style scoped>\n",
       "    .dataframe tbody tr th:only-of-type {\n",
       "        vertical-align: middle;\n",
       "    }\n",
       "\n",
       "    .dataframe tbody tr th {\n",
       "        vertical-align: top;\n",
       "    }\n",
       "\n",
       "    .dataframe thead th {\n",
       "        text-align: right;\n",
       "    }\n",
       "</style>\n",
       "<table border=\"1\" class=\"dataframe\">\n",
       "  <thead>\n",
       "    <tr style=\"text-align: right;\">\n",
       "      <th></th>\n",
       "      <th>count</th>\n",
       "      <th>unique</th>\n",
       "      <th>top</th>\n",
       "      <th>freq</th>\n",
       "      <th>mean</th>\n",
       "      <th>std</th>\n",
       "      <th>min</th>\n",
       "      <th>25%</th>\n",
       "      <th>50%</th>\n",
       "      <th>75%</th>\n",
       "      <th>max</th>\n",
       "    </tr>\n",
       "  </thead>\n",
       "  <tbody>\n",
       "    <tr>\n",
       "      <th>date</th>\n",
       "      <td>62</td>\n",
       "      <td>31</td>\n",
       "      <td>2019-08-29</td>\n",
       "      <td>2</td>\n",
       "      <td>N/A</td>\n",
       "      <td>N/A</td>\n",
       "      <td>N/A</td>\n",
       "      <td>N/A</td>\n",
       "      <td>N/A</td>\n",
       "      <td>N/A</td>\n",
       "      <td>N/A</td>\n",
       "    </tr>\n",
       "    <tr>\n",
       "      <th>group</th>\n",
       "      <td>62</td>\n",
       "      <td>2</td>\n",
       "      <td>B</td>\n",
       "      <td>31</td>\n",
       "      <td>N/A</td>\n",
       "      <td>N/A</td>\n",
       "      <td>N/A</td>\n",
       "      <td>N/A</td>\n",
       "      <td>N/A</td>\n",
       "      <td>N/A</td>\n",
       "      <td>N/A</td>\n",
       "    </tr>\n",
       "    <tr>\n",
       "      <th>visits</th>\n",
       "      <td>62.0</td>\n",
       "      <td>N/A</td>\n",
       "      <td>N/A</td>\n",
       "      <td>N/A</td>\n",
       "      <td>607.290323</td>\n",
       "      <td>114.40056</td>\n",
       "      <td>361.0</td>\n",
       "      <td>534.0</td>\n",
       "      <td>624.5</td>\n",
       "      <td>710.5</td>\n",
       "      <td>770.0</td>\n",
       "    </tr>\n",
       "  </tbody>\n",
       "</table>\n",
       "</div>"
      ],
      "text/plain": [
       "       count unique         top freq        mean        std    min    25%  \\\n",
       "date      62     31  2019-08-29    2         N/A        N/A    N/A    N/A   \n",
       "group     62      2           B   31         N/A        N/A    N/A    N/A   \n",
       "visits  62.0    N/A         N/A  N/A  607.290323  114.40056  361.0  534.0   \n",
       "\n",
       "          50%    75%    max  \n",
       "date      N/A    N/A    N/A  \n",
       "group     N/A    N/A    N/A  \n",
       "visits  624.5  710.5  770.0  "
      ]
     },
     "execution_count": 10,
     "metadata": {},
     "output_type": "execute_result"
    }
   ],
   "source": [
    "visits.describe(include='all', datetime_is_numeric=True).fillna('N/A').T"
   ]
  },
  {
   "cell_type": "code",
   "execution_count": 11,
   "metadata": {},
   "outputs": [
    {
     "data": {
      "text/html": [
       "<div>\n",
       "<style scoped>\n",
       "    .dataframe tbody tr th:only-of-type {\n",
       "        vertical-align: middle;\n",
       "    }\n",
       "\n",
       "    .dataframe tbody tr th {\n",
       "        vertical-align: top;\n",
       "    }\n",
       "\n",
       "    .dataframe thead th {\n",
       "        text-align: right;\n",
       "    }\n",
       "</style>\n",
       "<table border=\"1\" class=\"dataframe\">\n",
       "  <thead>\n",
       "    <tr style=\"text-align: right;\">\n",
       "      <th></th>\n",
       "      <th>date</th>\n",
       "      <th>group</th>\n",
       "      <th>visits</th>\n",
       "    </tr>\n",
       "  </thead>\n",
       "  <tbody>\n",
       "    <tr>\n",
       "      <th>0</th>\n",
       "      <td>2019-08-01</td>\n",
       "      <td>A</td>\n",
       "      <td>719</td>\n",
       "    </tr>\n",
       "    <tr>\n",
       "      <th>1</th>\n",
       "      <td>2019-08-02</td>\n",
       "      <td>A</td>\n",
       "      <td>619</td>\n",
       "    </tr>\n",
       "    <tr>\n",
       "      <th>2</th>\n",
       "      <td>2019-08-03</td>\n",
       "      <td>A</td>\n",
       "      <td>507</td>\n",
       "    </tr>\n",
       "    <tr>\n",
       "      <th>3</th>\n",
       "      <td>2019-08-04</td>\n",
       "      <td>A</td>\n",
       "      <td>717</td>\n",
       "    </tr>\n",
       "    <tr>\n",
       "      <th>4</th>\n",
       "      <td>2019-08-05</td>\n",
       "      <td>A</td>\n",
       "      <td>756</td>\n",
       "    </tr>\n",
       "  </tbody>\n",
       "</table>\n",
       "</div>"
      ],
      "text/plain": [
       "         date group  visits\n",
       "0  2019-08-01     A     719\n",
       "1  2019-08-02     A     619\n",
       "2  2019-08-03     A     507\n",
       "3  2019-08-04     A     717\n",
       "4  2019-08-05     A     756"
      ]
     },
     "execution_count": 11,
     "metadata": {},
     "output_type": "execute_result"
    }
   ],
   "source": [
    "visits.head()"
   ]
  },
  {
   "cell_type": "markdown",
   "metadata": {},
   "source": [
    "<span style=\"color:green\">**Notes from the analyst:** </span> \n",
    "\n",
    "- Overall, looks like the data is is good condition\n",
    "- We will need to change the date columns to the correct data type"
   ]
  },
  {
   "cell_type": "markdown",
   "metadata": {},
   "source": [
    "### Orders\n",
    "\n",
    "- Changing all columns to lowercase for easier use\n",
    "- Checking duplicated values\n",
    "- Change `date` column to datetime\n",
    "- Check if we have visitors in both A & B groups"
   ]
  },
  {
   "cell_type": "code",
   "execution_count": 12,
   "metadata": {},
   "outputs": [
    {
     "data": {
      "text/html": [
       "<div>\n",
       "<style scoped>\n",
       "    .dataframe tbody tr th:only-of-type {\n",
       "        vertical-align: middle;\n",
       "    }\n",
       "\n",
       "    .dataframe tbody tr th {\n",
       "        vertical-align: top;\n",
       "    }\n",
       "\n",
       "    .dataframe thead th {\n",
       "        text-align: right;\n",
       "    }\n",
       "</style>\n",
       "<table border=\"1\" class=\"dataframe\">\n",
       "  <thead>\n",
       "    <tr style=\"text-align: right;\">\n",
       "      <th></th>\n",
       "      <th>transactionid</th>\n",
       "      <th>visitorid</th>\n",
       "      <th>date</th>\n",
       "      <th>revenue</th>\n",
       "      <th>group</th>\n",
       "    </tr>\n",
       "  </thead>\n",
       "  <tbody>\n",
       "    <tr>\n",
       "      <th>0</th>\n",
       "      <td>3667963787</td>\n",
       "      <td>3312258926</td>\n",
       "      <td>2019-08-15</td>\n",
       "      <td>30.4</td>\n",
       "      <td>B</td>\n",
       "    </tr>\n",
       "    <tr>\n",
       "      <th>1</th>\n",
       "      <td>2804400009</td>\n",
       "      <td>3642806036</td>\n",
       "      <td>2019-08-15</td>\n",
       "      <td>15.2</td>\n",
       "      <td>B</td>\n",
       "    </tr>\n",
       "    <tr>\n",
       "      <th>2</th>\n",
       "      <td>2961555356</td>\n",
       "      <td>4069496402</td>\n",
       "      <td>2019-08-15</td>\n",
       "      <td>10.2</td>\n",
       "      <td>A</td>\n",
       "    </tr>\n",
       "    <tr>\n",
       "      <th>3</th>\n",
       "      <td>3797467345</td>\n",
       "      <td>1196621759</td>\n",
       "      <td>2019-08-15</td>\n",
       "      <td>155.1</td>\n",
       "      <td>B</td>\n",
       "    </tr>\n",
       "    <tr>\n",
       "      <th>4</th>\n",
       "      <td>2282983706</td>\n",
       "      <td>2322279887</td>\n",
       "      <td>2019-08-15</td>\n",
       "      <td>40.5</td>\n",
       "      <td>B</td>\n",
       "    </tr>\n",
       "  </tbody>\n",
       "</table>\n",
       "</div>"
      ],
      "text/plain": [
       "   transactionid   visitorid        date  revenue group\n",
       "0     3667963787  3312258926  2019-08-15     30.4     B\n",
       "1     2804400009  3642806036  2019-08-15     15.2     B\n",
       "2     2961555356  4069496402  2019-08-15     10.2     A\n",
       "3     3797467345  1196621759  2019-08-15    155.1     B\n",
       "4     2282983706  2322279887  2019-08-15     40.5     B"
      ]
     },
     "execution_count": 12,
     "metadata": {},
     "output_type": "execute_result"
    }
   ],
   "source": [
    "#change to lowercase\n",
    "orders.columns = orders.columns.str.lower() \n",
    "orders.head()"
   ]
  },
  {
   "cell_type": "code",
   "execution_count": 13,
   "metadata": {},
   "outputs": [
    {
     "data": {
      "text/plain": [
       "0"
      ]
     },
     "execution_count": 13,
     "metadata": {},
     "output_type": "execute_result"
    }
   ],
   "source": [
    "#check for duplicates\n",
    "orders.duplicated().sum()"
   ]
  },
  {
   "cell_type": "code",
   "execution_count": 14,
   "metadata": {},
   "outputs": [
    {
     "name": "stdout",
     "output_type": "stream",
     "text": [
      "<class 'pandas.core.frame.DataFrame'>\n",
      "RangeIndex: 1197 entries, 0 to 1196\n",
      "Data columns (total 5 columns):\n",
      " #   Column         Non-Null Count  Dtype         \n",
      "---  ------         --------------  -----         \n",
      " 0   transactionid  1197 non-null   int64         \n",
      " 1   visitorid      1197 non-null   int64         \n",
      " 2   date           1197 non-null   datetime64[ns]\n",
      " 3   revenue        1197 non-null   float64       \n",
      " 4   group          1197 non-null   object        \n",
      "dtypes: datetime64[ns](1), float64(1), int64(2), object(1)\n",
      "memory usage: 46.9+ KB\n"
     ]
    }
   ],
   "source": [
    "#change `date` column to datetime\n",
    "orders['date'] = pd.to_datetime(orders['date'], format='%Y-%m-%d')\n",
    "orders.info('deep')"
   ]
  },
  {
   "cell_type": "code",
   "execution_count": 15,
   "metadata": {},
   "outputs": [
    {
     "data": {
      "text/html": [
       "<div>\n",
       "<style scoped>\n",
       "    .dataframe tbody tr th:only-of-type {\n",
       "        vertical-align: middle;\n",
       "    }\n",
       "\n",
       "    .dataframe tbody tr th {\n",
       "        vertical-align: top;\n",
       "    }\n",
       "\n",
       "    .dataframe thead th {\n",
       "        text-align: right;\n",
       "    }\n",
       "</style>\n",
       "<table border=\"1\" class=\"dataframe\">\n",
       "  <thead>\n",
       "    <tr style=\"text-align: right;\">\n",
       "      <th></th>\n",
       "      <th>visitorid</th>\n",
       "      <th>group</th>\n",
       "    </tr>\n",
       "  </thead>\n",
       "  <tbody>\n",
       "    <tr>\n",
       "      <th>0</th>\n",
       "      <td>2654030115</td>\n",
       "      <td>2</td>\n",
       "    </tr>\n",
       "    <tr>\n",
       "      <th>1</th>\n",
       "      <td>3891541246</td>\n",
       "      <td>2</td>\n",
       "    </tr>\n",
       "    <tr>\n",
       "      <th>2</th>\n",
       "      <td>3941795274</td>\n",
       "      <td>2</td>\n",
       "    </tr>\n",
       "    <tr>\n",
       "      <th>3</th>\n",
       "      <td>1404934699</td>\n",
       "      <td>2</td>\n",
       "    </tr>\n",
       "    <tr>\n",
       "      <th>4</th>\n",
       "      <td>351125977</td>\n",
       "      <td>2</td>\n",
       "    </tr>\n",
       "  </tbody>\n",
       "</table>\n",
       "</div>"
      ],
      "text/plain": [
       "    visitorid  group\n",
       "0  2654030115      2\n",
       "1  3891541246      2\n",
       "2  3941795274      2\n",
       "3  1404934699      2\n",
       "4   351125977      2"
      ]
     },
     "execution_count": 15,
     "metadata": {},
     "output_type": "execute_result"
    }
   ],
   "source": [
    "# Check if we have visitors in both A & B groups\n",
    "visitors_group = orders.groupby(['visitorid']).agg({'group': 'nunique'}).sort_values(by='group', ascending=False).query('group > 1').reset_index()\n",
    "visitors_group.head()\n"
   ]
  },
  {
   "cell_type": "code",
   "execution_count": 16,
   "metadata": {},
   "outputs": [
    {
     "data": {
      "text/plain": [
       "58"
      ]
     },
     "execution_count": 16,
     "metadata": {},
     "output_type": "execute_result"
    }
   ],
   "source": [
    "visitors_group['visitorid'].nunique()"
   ]
  },
  {
   "cell_type": "markdown",
   "metadata": {},
   "source": [
    "<span style=\"color:green\">**Notes from the analyst:** </span> \n",
    "\n",
    "- We found out that we have 58 visitors that got into both A & B groups. \n",
    "- We will create a filtered df of orders without those found in both groups and checked again "
   ]
  },
  {
   "cell_type": "code",
   "execution_count": 17,
   "metadata": {},
   "outputs": [],
   "source": [
    "filtered_orders = orders[~orders.visitorid.isin(visitors_group['visitorid'])]\n"
   ]
  },
  {
   "cell_type": "code",
   "execution_count": 18,
   "metadata": {},
   "outputs": [
    {
     "data": {
      "text/html": [
       "<div>\n",
       "<style scoped>\n",
       "    .dataframe tbody tr th:only-of-type {\n",
       "        vertical-align: middle;\n",
       "    }\n",
       "\n",
       "    .dataframe tbody tr th {\n",
       "        vertical-align: top;\n",
       "    }\n",
       "\n",
       "    .dataframe thead th {\n",
       "        text-align: right;\n",
       "    }\n",
       "</style>\n",
       "<table border=\"1\" class=\"dataframe\">\n",
       "  <thead>\n",
       "    <tr style=\"text-align: right;\">\n",
       "      <th></th>\n",
       "      <th>visitorid</th>\n",
       "      <th>group</th>\n",
       "    </tr>\n",
       "  </thead>\n",
       "  <tbody>\n",
       "  </tbody>\n",
       "</table>\n",
       "</div>"
      ],
      "text/plain": [
       "Empty DataFrame\n",
       "Columns: [visitorid, group]\n",
       "Index: []"
      ]
     },
     "execution_count": 18,
     "metadata": {},
     "output_type": "execute_result"
    }
   ],
   "source": [
    "filtered_orders.groupby(['visitorid']).agg({'group': 'nunique'}).sort_values(by='group', ascending=False).query('group > 1').reset_index()"
   ]
  },
  {
   "cell_type": "code",
   "execution_count": 19,
   "metadata": {},
   "outputs": [
    {
     "name": "stdout",
     "output_type": "stream",
     "text": [
      "<class 'pandas.core.frame.DataFrame'>\n",
      "Int64Index: 1016 entries, 0 to 1196\n",
      "Data columns (total 5 columns):\n",
      " #   Column         Non-Null Count  Dtype         \n",
      "---  ------         --------------  -----         \n",
      " 0   transactionid  1016 non-null   int64         \n",
      " 1   visitorid      1016 non-null   int64         \n",
      " 2   date           1016 non-null   datetime64[ns]\n",
      " 3   revenue        1016 non-null   float64       \n",
      " 4   group          1016 non-null   object        \n",
      "dtypes: datetime64[ns](1), float64(1), int64(2), object(1)\n",
      "memory usage: 47.6+ KB\n"
     ]
    }
   ],
   "source": [
    "filtered_orders.info('deep')"
   ]
  },
  {
   "cell_type": "markdown",
   "metadata": {},
   "source": [
    "### Visits\n",
    "\n",
    "- Changing all columns to lowercase for easier use\n",
    "- Checking duplicated values -- none found\n",
    "- Change `date` column to datetime\n"
   ]
  },
  {
   "cell_type": "code",
   "execution_count": 20,
   "metadata": {},
   "outputs": [
    {
     "data": {
      "text/html": [
       "<div>\n",
       "<style scoped>\n",
       "    .dataframe tbody tr th:only-of-type {\n",
       "        vertical-align: middle;\n",
       "    }\n",
       "\n",
       "    .dataframe tbody tr th {\n",
       "        vertical-align: top;\n",
       "    }\n",
       "\n",
       "    .dataframe thead th {\n",
       "        text-align: right;\n",
       "    }\n",
       "</style>\n",
       "<table border=\"1\" class=\"dataframe\">\n",
       "  <thead>\n",
       "    <tr style=\"text-align: right;\">\n",
       "      <th></th>\n",
       "      <th>date</th>\n",
       "      <th>group</th>\n",
       "      <th>visits</th>\n",
       "    </tr>\n",
       "  </thead>\n",
       "  <tbody>\n",
       "    <tr>\n",
       "      <th>0</th>\n",
       "      <td>2019-08-01</td>\n",
       "      <td>A</td>\n",
       "      <td>719</td>\n",
       "    </tr>\n",
       "    <tr>\n",
       "      <th>1</th>\n",
       "      <td>2019-08-02</td>\n",
       "      <td>A</td>\n",
       "      <td>619</td>\n",
       "    </tr>\n",
       "    <tr>\n",
       "      <th>2</th>\n",
       "      <td>2019-08-03</td>\n",
       "      <td>A</td>\n",
       "      <td>507</td>\n",
       "    </tr>\n",
       "    <tr>\n",
       "      <th>3</th>\n",
       "      <td>2019-08-04</td>\n",
       "      <td>A</td>\n",
       "      <td>717</td>\n",
       "    </tr>\n",
       "    <tr>\n",
       "      <th>4</th>\n",
       "      <td>2019-08-05</td>\n",
       "      <td>A</td>\n",
       "      <td>756</td>\n",
       "    </tr>\n",
       "  </tbody>\n",
       "</table>\n",
       "</div>"
      ],
      "text/plain": [
       "         date group  visits\n",
       "0  2019-08-01     A     719\n",
       "1  2019-08-02     A     619\n",
       "2  2019-08-03     A     507\n",
       "3  2019-08-04     A     717\n",
       "4  2019-08-05     A     756"
      ]
     },
     "execution_count": 20,
     "metadata": {},
     "output_type": "execute_result"
    }
   ],
   "source": [
    "#change to lowercase\n",
    "visits.columns = visits.columns.str.lower() \n",
    "visits.head()"
   ]
  },
  {
   "cell_type": "code",
   "execution_count": 21,
   "metadata": {},
   "outputs": [
    {
     "data": {
      "text/plain": [
       "0"
      ]
     },
     "execution_count": 21,
     "metadata": {},
     "output_type": "execute_result"
    }
   ],
   "source": [
    "#checking for duplicates\n",
    "visits.duplicated().sum()"
   ]
  },
  {
   "cell_type": "code",
   "execution_count": 22,
   "metadata": {},
   "outputs": [
    {
     "name": "stdout",
     "output_type": "stream",
     "text": [
      "<class 'pandas.core.frame.DataFrame'>\n",
      "RangeIndex: 62 entries, 0 to 61\n",
      "Data columns (total 3 columns):\n",
      " #   Column  Non-Null Count  Dtype         \n",
      "---  ------  --------------  -----         \n",
      " 0   date    62 non-null     datetime64[ns]\n",
      " 1   group   62 non-null     object        \n",
      " 2   visits  62 non-null     int64         \n",
      "dtypes: datetime64[ns](1), int64(1), object(1)\n",
      "memory usage: 1.6+ KB\n"
     ]
    }
   ],
   "source": [
    "#change `date` column to datetime\n",
    "visits['date'] = pd.to_datetime(visits['date'], format='%Y-%m-%d')\n",
    "visits.info('deep')"
   ]
  },
  {
   "cell_type": "markdown",
   "metadata": {},
   "source": [
    "<h3 style=\"color:orange\">Conlcusions:</h3> \n",
    "\n",
    "On this section of preprocessing the data we did:\n",
    "\n",
    "* Lowercase column names of both `visits` & `orders` datasets\n",
    "* Checking for duplicates in both, none found\n",
    "* Change datatype to datetime in both datasets\n",
    "* Creation of a new filtered df (`filtered_orders`) where we removed those visitors found in both A & B groups, lowering the size of it from 1197 to 1016\n",
    "\n"
   ]
  },
  {
   "cell_type": "markdown",
   "metadata": {},
   "source": [
    "## Prioritizing Hypotheses\n",
    "---\n",
    "\n",
    "The file `hypotheses_us.csv` contains nine hypotheses on boosting an online store's revenue with `Reach`, `Impact`, `Confidence`, and `Effort` specified for each.\n",
    "\n",
    "**The task is:**\n",
    "\n",
    "- Apply the `ICE` framework to prioritize hypotheses. Sort them in descending order of priority.\n",
    "- Apply the `RICE` framework to prioritize hypotheses. Sort them in descending order of priority.\n",
    "- Show how the prioritization of hypotheses changes when you use `RICE` instead of `ICE`. Provide an explanation for the changes."
   ]
  },
  {
   "cell_type": "code",
   "execution_count": 23,
   "metadata": {},
   "outputs": [
    {
     "data": {
      "text/html": [
       "<div>\n",
       "<style scoped>\n",
       "    .dataframe tbody tr th:only-of-type {\n",
       "        vertical-align: middle;\n",
       "    }\n",
       "\n",
       "    .dataframe tbody tr th {\n",
       "        vertical-align: top;\n",
       "    }\n",
       "\n",
       "    .dataframe thead th {\n",
       "        text-align: right;\n",
       "    }\n",
       "</style>\n",
       "<table border=\"1\" class=\"dataframe\">\n",
       "  <thead>\n",
       "    <tr style=\"text-align: right;\">\n",
       "      <th></th>\n",
       "      <th>Hypothesis</th>\n",
       "      <th>Reach</th>\n",
       "      <th>Impact</th>\n",
       "      <th>Confidence</th>\n",
       "      <th>Effort</th>\n",
       "    </tr>\n",
       "  </thead>\n",
       "  <tbody>\n",
       "    <tr>\n",
       "      <th>0</th>\n",
       "      <td>Add two new channels for attracting traffic. This will bring 30% more users</td>\n",
       "      <td>3</td>\n",
       "      <td>10</td>\n",
       "      <td>8</td>\n",
       "      <td>6</td>\n",
       "    </tr>\n",
       "    <tr>\n",
       "      <th>1</th>\n",
       "      <td>Launch your own delivery service. This will shorten delivery time</td>\n",
       "      <td>2</td>\n",
       "      <td>5</td>\n",
       "      <td>4</td>\n",
       "      <td>10</td>\n",
       "    </tr>\n",
       "    <tr>\n",
       "      <th>2</th>\n",
       "      <td>Add product recommendation blocks to the store's site. This will increase conversion and average purchase size</td>\n",
       "      <td>8</td>\n",
       "      <td>3</td>\n",
       "      <td>7</td>\n",
       "      <td>3</td>\n",
       "    </tr>\n",
       "    <tr>\n",
       "      <th>3</th>\n",
       "      <td>Change the category structure. This will increase conversion since users will find the products they want more quickly</td>\n",
       "      <td>8</td>\n",
       "      <td>3</td>\n",
       "      <td>3</td>\n",
       "      <td>8</td>\n",
       "    </tr>\n",
       "    <tr>\n",
       "      <th>4</th>\n",
       "      <td>Change the background color on the main page. This will increase user engagement</td>\n",
       "      <td>3</td>\n",
       "      <td>1</td>\n",
       "      <td>1</td>\n",
       "      <td>1</td>\n",
       "    </tr>\n",
       "    <tr>\n",
       "      <th>5</th>\n",
       "      <td>Add a customer review page. This will increase the number of orders</td>\n",
       "      <td>3</td>\n",
       "      <td>2</td>\n",
       "      <td>2</td>\n",
       "      <td>3</td>\n",
       "    </tr>\n",
       "    <tr>\n",
       "      <th>6</th>\n",
       "      <td>Show banners with current offers and sales on the main page. This will boost conversion</td>\n",
       "      <td>5</td>\n",
       "      <td>3</td>\n",
       "      <td>8</td>\n",
       "      <td>3</td>\n",
       "    </tr>\n",
       "    <tr>\n",
       "      <th>7</th>\n",
       "      <td>Add a subscription form to all the main pages. This will help you compile a mailing list</td>\n",
       "      <td>10</td>\n",
       "      <td>7</td>\n",
       "      <td>8</td>\n",
       "      <td>5</td>\n",
       "    </tr>\n",
       "    <tr>\n",
       "      <th>8</th>\n",
       "      <td>Launch a promotion that gives users discounts on their birthdays</td>\n",
       "      <td>1</td>\n",
       "      <td>9</td>\n",
       "      <td>9</td>\n",
       "      <td>5</td>\n",
       "    </tr>\n",
       "  </tbody>\n",
       "</table>\n",
       "</div>"
      ],
      "text/plain": [
       "                                                                                                               Hypothesis  \\\n",
       "0                                             Add two new channels for attracting traffic. This will bring 30% more users   \n",
       "1                                                       Launch your own delivery service. This will shorten delivery time   \n",
       "2          Add product recommendation blocks to the store's site. This will increase conversion and average purchase size   \n",
       "3  Change the category structure. This will increase conversion since users will find the products they want more quickly   \n",
       "4                                        Change the background color on the main page. This will increase user engagement   \n",
       "5                                                     Add a customer review page. This will increase the number of orders   \n",
       "6                                 Show banners with current offers and sales on the main page. This will boost conversion   \n",
       "7                                Add a subscription form to all the main pages. This will help you compile a mailing list   \n",
       "8                                                        Launch a promotion that gives users discounts on their birthdays   \n",
       "\n",
       "   Reach  Impact  Confidence  Effort  \n",
       "0      3      10           8       6  \n",
       "1      2       5           4      10  \n",
       "2      8       3           7       3  \n",
       "3      8       3           3       8  \n",
       "4      3       1           1       1  \n",
       "5      3       2           2       3  \n",
       "6      5       3           8       3  \n",
       "7     10       7           8       5  \n",
       "8      1       9           9       5  "
      ]
     },
     "execution_count": 23,
     "metadata": {},
     "output_type": "execute_result"
    }
   ],
   "source": [
    "#Checking the hypotheses given\n",
    "pd.set_option('display.max_colwidth', None)\n",
    "hypotheses.head(10)"
   ]
  },
  {
   "cell_type": "markdown",
   "metadata": {},
   "source": [
    "### ICE Priority\n",
    "\n",
    "**ICE has three components:**\n",
    "   * **Impact** — how strongly this update will affect the users, their experience, and their satisfaction with the product;\n",
    "   * **Confidence** — how sure you are that your product will affect them in this way;\n",
    "   * **Effort/Ease** — how much will it cost to test the hypothesis.\n",
    "\n",
    "ICE is calculated by multiplying Impact by Confidence and dividing by Effort."
   ]
  },
  {
   "cell_type": "code",
   "execution_count": 24,
   "metadata": {
    "scrolled": true
   },
   "outputs": [
    {
     "data": {
      "text/html": [
       "<div>\n",
       "<style scoped>\n",
       "    .dataframe tbody tr th:only-of-type {\n",
       "        vertical-align: middle;\n",
       "    }\n",
       "\n",
       "    .dataframe tbody tr th {\n",
       "        vertical-align: top;\n",
       "    }\n",
       "\n",
       "    .dataframe thead th {\n",
       "        text-align: right;\n",
       "    }\n",
       "</style>\n",
       "<table border=\"1\" class=\"dataframe\">\n",
       "  <thead>\n",
       "    <tr style=\"text-align: right;\">\n",
       "      <th></th>\n",
       "      <th>Hypothesis</th>\n",
       "      <th>Reach</th>\n",
       "      <th>Impact</th>\n",
       "      <th>Confidence</th>\n",
       "      <th>Effort</th>\n",
       "      <th>ICE</th>\n",
       "    </tr>\n",
       "  </thead>\n",
       "  <tbody>\n",
       "    <tr>\n",
       "      <th>0</th>\n",
       "      <td>Add two new channels for attracting traffic. This will bring 30% more users</td>\n",
       "      <td>3</td>\n",
       "      <td>10</td>\n",
       "      <td>8</td>\n",
       "      <td>6</td>\n",
       "      <td>13.333</td>\n",
       "    </tr>\n",
       "    <tr>\n",
       "      <th>1</th>\n",
       "      <td>Launch your own delivery service. This will shorten delivery time</td>\n",
       "      <td>2</td>\n",
       "      <td>5</td>\n",
       "      <td>4</td>\n",
       "      <td>10</td>\n",
       "      <td>2.000</td>\n",
       "    </tr>\n",
       "    <tr>\n",
       "      <th>2</th>\n",
       "      <td>Add product recommendation blocks to the store's site. This will increase conversion and average purchase size</td>\n",
       "      <td>8</td>\n",
       "      <td>3</td>\n",
       "      <td>7</td>\n",
       "      <td>3</td>\n",
       "      <td>7.000</td>\n",
       "    </tr>\n",
       "    <tr>\n",
       "      <th>3</th>\n",
       "      <td>Change the category structure. This will increase conversion since users will find the products they want more quickly</td>\n",
       "      <td>8</td>\n",
       "      <td>3</td>\n",
       "      <td>3</td>\n",
       "      <td>8</td>\n",
       "      <td>1.125</td>\n",
       "    </tr>\n",
       "    <tr>\n",
       "      <th>4</th>\n",
       "      <td>Change the background color on the main page. This will increase user engagement</td>\n",
       "      <td>3</td>\n",
       "      <td>1</td>\n",
       "      <td>1</td>\n",
       "      <td>1</td>\n",
       "      <td>1.000</td>\n",
       "    </tr>\n",
       "    <tr>\n",
       "      <th>5</th>\n",
       "      <td>Add a customer review page. This will increase the number of orders</td>\n",
       "      <td>3</td>\n",
       "      <td>2</td>\n",
       "      <td>2</td>\n",
       "      <td>3</td>\n",
       "      <td>1.333</td>\n",
       "    </tr>\n",
       "    <tr>\n",
       "      <th>6</th>\n",
       "      <td>Show banners with current offers and sales on the main page. This will boost conversion</td>\n",
       "      <td>5</td>\n",
       "      <td>3</td>\n",
       "      <td>8</td>\n",
       "      <td>3</td>\n",
       "      <td>8.000</td>\n",
       "    </tr>\n",
       "    <tr>\n",
       "      <th>7</th>\n",
       "      <td>Add a subscription form to all the main pages. This will help you compile a mailing list</td>\n",
       "      <td>10</td>\n",
       "      <td>7</td>\n",
       "      <td>8</td>\n",
       "      <td>5</td>\n",
       "      <td>11.200</td>\n",
       "    </tr>\n",
       "    <tr>\n",
       "      <th>8</th>\n",
       "      <td>Launch a promotion that gives users discounts on their birthdays</td>\n",
       "      <td>1</td>\n",
       "      <td>9</td>\n",
       "      <td>9</td>\n",
       "      <td>5</td>\n",
       "      <td>16.200</td>\n",
       "    </tr>\n",
       "  </tbody>\n",
       "</table>\n",
       "</div>"
      ],
      "text/plain": [
       "                                                                                                               Hypothesis  \\\n",
       "0                                             Add two new channels for attracting traffic. This will bring 30% more users   \n",
       "1                                                       Launch your own delivery service. This will shorten delivery time   \n",
       "2          Add product recommendation blocks to the store's site. This will increase conversion and average purchase size   \n",
       "3  Change the category structure. This will increase conversion since users will find the products they want more quickly   \n",
       "4                                        Change the background color on the main page. This will increase user engagement   \n",
       "5                                                     Add a customer review page. This will increase the number of orders   \n",
       "6                                 Show banners with current offers and sales on the main page. This will boost conversion   \n",
       "7                                Add a subscription form to all the main pages. This will help you compile a mailing list   \n",
       "8                                                        Launch a promotion that gives users discounts on their birthdays   \n",
       "\n",
       "   Reach  Impact  Confidence  Effort     ICE  \n",
       "0      3      10           8       6  13.333  \n",
       "1      2       5           4      10   2.000  \n",
       "2      8       3           7       3   7.000  \n",
       "3      8       3           3       8   1.125  \n",
       "4      3       1           1       1   1.000  \n",
       "5      3       2           2       3   1.333  \n",
       "6      5       3           8       3   8.000  \n",
       "7     10       7           8       5  11.200  \n",
       "8      1       9           9       5  16.200  "
      ]
     },
     "execution_count": 24,
     "metadata": {},
     "output_type": "execute_result"
    }
   ],
   "source": [
    "#Calculate ICE and create a new column to represent it\n",
    "hypotheses['ICE'] = ((hypotheses['Impact']*hypotheses['Confidence'])/hypotheses['Effort']).round(3)\n",
    "hypotheses.head(10)"
   ]
  },
  {
   "cell_type": "code",
   "execution_count": 25,
   "metadata": {},
   "outputs": [
    {
     "data": {
      "image/png": "[encoded data removed]",
      "text/plain": [
       "<Figure size 576x360 with 1 Axes>"
      ]
     },
     "metadata": {
      "needs_background": "light"
     },
     "output_type": "display_data"
    }
   ],
   "source": [
    "hypotheses[['Hypothesis','ICE']].sort_values(by='ICE').plot(\n",
    "    x='Hypothesis',\n",
    "    y='ICE', \n",
    "    kind='barh',\n",
    "    figsize=(8,5),\n",
    "    title='Hypotheses ICE Priority', \n",
    "    color='orange', \n",
    "    edgecolor = \"lightgray\")\n",
    "plt.grid(linewidth = 0.2)\n",
    "plt.show()"
   ]
  },
  {
   "cell_type": "markdown",
   "metadata": {},
   "source": [
    "<span style=\"color:green\">**Notes from the analyst:** </span> \n",
    "\n",
    "**Hypothesis with highest ICE:**\n",
    "* **Hypothesis 8:** *Launch a promotion that gives users discounts on their birthdays*\n",
    "* followed by **H0:** *Add two new channels for attracting traffic. This will bring 30% more users*\n",
    "* and **H7:** *Add a subscription form to all the main pages. This will help you compile a mailing list*\n",
    "\n",
    "\n",
    "\n",
    "**Hypothesis with lowest ICE:**\n",
    "* **H5:** *Add a customer review page. This will increase the number of orders*\n",
    "* **H3:** *Change the category structure. This will increase conversion since users will find the products they want more quickly*\n",
    "* **H4:** *Change the background color on the main page. This will increase user engagement*\n",
    "\n"
   ]
  },
  {
   "cell_type": "markdown",
   "metadata": {},
   "source": [
    "### RICE Priority\n",
    "\n",
    "**RICE has four components:**\n",
    "   * **Reach** — how many users will be affected by the update you want to introduce\n",
    "   * **Impact** — how strongly this update will affect the users, their experience, and their satisfaction with the product\n",
    "   * **Confidence** — how sure you are that your product will affect them in this way\n",
    "   * **Effort** — how much will it cost to test the hypothesis\n",
    "   \n",
    "RICE is calculated by multiplying Reach and Impact by Confidence and dividing by Effort.\n",
    "\n",
    "\n"
   ]
  },
  {
   "cell_type": "code",
   "execution_count": 26,
   "metadata": {},
   "outputs": [
    {
     "data": {
      "text/html": [
       "<div>\n",
       "<style scoped>\n",
       "    .dataframe tbody tr th:only-of-type {\n",
       "        vertical-align: middle;\n",
       "    }\n",
       "\n",
       "    .dataframe tbody tr th {\n",
       "        vertical-align: top;\n",
       "    }\n",
       "\n",
       "    .dataframe thead th {\n",
       "        text-align: right;\n",
       "    }\n",
       "</style>\n",
       "<table border=\"1\" class=\"dataframe\">\n",
       "  <thead>\n",
       "    <tr style=\"text-align: right;\">\n",
       "      <th></th>\n",
       "      <th>Hypothesis</th>\n",
       "      <th>Reach</th>\n",
       "      <th>Impact</th>\n",
       "      <th>Confidence</th>\n",
       "      <th>Effort</th>\n",
       "      <th>ICE</th>\n",
       "      <th>RICE</th>\n",
       "    </tr>\n",
       "  </thead>\n",
       "  <tbody>\n",
       "    <tr>\n",
       "      <th>0</th>\n",
       "      <td>Add two new channels for attracting traffic. This will bring 30% more users</td>\n",
       "      <td>3</td>\n",
       "      <td>10</td>\n",
       "      <td>8</td>\n",
       "      <td>6</td>\n",
       "      <td>13.333</td>\n",
       "      <td>40.0</td>\n",
       "    </tr>\n",
       "    <tr>\n",
       "      <th>1</th>\n",
       "      <td>Launch your own delivery service. This will shorten delivery time</td>\n",
       "      <td>2</td>\n",
       "      <td>5</td>\n",
       "      <td>4</td>\n",
       "      <td>10</td>\n",
       "      <td>2.000</td>\n",
       "      <td>4.0</td>\n",
       "    </tr>\n",
       "    <tr>\n",
       "      <th>2</th>\n",
       "      <td>Add product recommendation blocks to the store's site. This will increase conversion and average purchase size</td>\n",
       "      <td>8</td>\n",
       "      <td>3</td>\n",
       "      <td>7</td>\n",
       "      <td>3</td>\n",
       "      <td>7.000</td>\n",
       "      <td>56.0</td>\n",
       "    </tr>\n",
       "    <tr>\n",
       "      <th>3</th>\n",
       "      <td>Change the category structure. This will increase conversion since users will find the products they want more quickly</td>\n",
       "      <td>8</td>\n",
       "      <td>3</td>\n",
       "      <td>3</td>\n",
       "      <td>8</td>\n",
       "      <td>1.125</td>\n",
       "      <td>9.0</td>\n",
       "    </tr>\n",
       "    <tr>\n",
       "      <th>4</th>\n",
       "      <td>Change the background color on the main page. This will increase user engagement</td>\n",
       "      <td>3</td>\n",
       "      <td>1</td>\n",
       "      <td>1</td>\n",
       "      <td>1</td>\n",
       "      <td>1.000</td>\n",
       "      <td>3.0</td>\n",
       "    </tr>\n",
       "    <tr>\n",
       "      <th>5</th>\n",
       "      <td>Add a customer review page. This will increase the number of orders</td>\n",
       "      <td>3</td>\n",
       "      <td>2</td>\n",
       "      <td>2</td>\n",
       "      <td>3</td>\n",
       "      <td>1.333</td>\n",
       "      <td>4.0</td>\n",
       "    </tr>\n",
       "    <tr>\n",
       "      <th>6</th>\n",
       "      <td>Show banners with current offers and sales on the main page. This will boost conversion</td>\n",
       "      <td>5</td>\n",
       "      <td>3</td>\n",
       "      <td>8</td>\n",
       "      <td>3</td>\n",
       "      <td>8.000</td>\n",
       "      <td>40.0</td>\n",
       "    </tr>\n",
       "    <tr>\n",
       "      <th>7</th>\n",
       "      <td>Add a subscription form to all the main pages. This will help you compile a mailing list</td>\n",
       "      <td>10</td>\n",
       "      <td>7</td>\n",
       "      <td>8</td>\n",
       "      <td>5</td>\n",
       "      <td>11.200</td>\n",
       "      <td>112.0</td>\n",
       "    </tr>\n",
       "    <tr>\n",
       "      <th>8</th>\n",
       "      <td>Launch a promotion that gives users discounts on their birthdays</td>\n",
       "      <td>1</td>\n",
       "      <td>9</td>\n",
       "      <td>9</td>\n",
       "      <td>5</td>\n",
       "      <td>16.200</td>\n",
       "      <td>16.2</td>\n",
       "    </tr>\n",
       "  </tbody>\n",
       "</table>\n",
       "</div>"
      ],
      "text/plain": [
       "                                                                                                               Hypothesis  \\\n",
       "0                                             Add two new channels for attracting traffic. This will bring 30% more users   \n",
       "1                                                       Launch your own delivery service. This will shorten delivery time   \n",
       "2          Add product recommendation blocks to the store's site. This will increase conversion and average purchase size   \n",
       "3  Change the category structure. This will increase conversion since users will find the products they want more quickly   \n",
       "4                                        Change the background color on the main page. This will increase user engagement   \n",
       "5                                                     Add a customer review page. This will increase the number of orders   \n",
       "6                                 Show banners with current offers and sales on the main page. This will boost conversion   \n",
       "7                                Add a subscription form to all the main pages. This will help you compile a mailing list   \n",
       "8                                                        Launch a promotion that gives users discounts on their birthdays   \n",
       "\n",
       "   Reach  Impact  Confidence  Effort     ICE   RICE  \n",
       "0      3      10           8       6  13.333   40.0  \n",
       "1      2       5           4      10   2.000    4.0  \n",
       "2      8       3           7       3   7.000   56.0  \n",
       "3      8       3           3       8   1.125    9.0  \n",
       "4      3       1           1       1   1.000    3.0  \n",
       "5      3       2           2       3   1.333    4.0  \n",
       "6      5       3           8       3   8.000   40.0  \n",
       "7     10       7           8       5  11.200  112.0  \n",
       "8      1       9           9       5  16.200   16.2  "
      ]
     },
     "execution_count": 26,
     "metadata": {},
     "output_type": "execute_result"
    }
   ],
   "source": [
    "#Calculate RICE and adding a new column to our `hypotheses` df\n",
    "hypotheses['RICE'] = (hypotheses['Reach']*hypotheses['Impact']*hypotheses['Confidence'])/hypotheses['Effort']\n",
    "hypotheses.head(10)"
   ]
  },
  {
   "cell_type": "code",
   "execution_count": 27,
   "metadata": {
    "scrolled": true
   },
   "outputs": [
    {
     "data": {
      "image/png": "[encoded data removed]",
      "text/plain": [
       "<Figure size 576x360 with 1 Axes>"
      ]
     },
     "metadata": {
      "needs_background": "light"
     },
     "output_type": "display_data"
    }
   ],
   "source": [
    "hypotheses[['Hypothesis','RICE']].sort_values(by='RICE').plot(\n",
    "    x='Hypothesis',\n",
    "    y='RICE', \n",
    "    kind='barh',\n",
    "    figsize=(8,5),\n",
    "    title='Hypotheses RICE Priority', \n",
    "    color='blue', \n",
    "    edgecolor = \"lightgray\")\n",
    "plt.grid(linewidth = 0.2)\n",
    "plt.show();"
   ]
  },
  {
   "cell_type": "markdown",
   "metadata": {},
   "source": [
    "<span style=\"color:green\">**Notes from the analyst:** </span> \n",
    "\n",
    "**Hypothesis with highest RICE:**\n",
    "* **H7:** *Add a subscription form to all the main pages. This will help you compile a mailing list*\n",
    "* **H2:** *Add product recommendation blocks to the store's site. This will increase conversion and average purchase size*\t\n",
    "* **H6:** *Show banners with current offers and sales on the main page. This will boost conversion*\n",
    "\n",
    "\n",
    "\n",
    "**Hypothesis with lowest RICE:**\n",
    "* **H5:** *Add a customer review page. This will increase the number of orders*\n",
    "* **H1:** *Launch your own delivery service. This will shorten delivery time*\n",
    "* **H4:** *Change the background color on the main page. This will increase user engagement*\n"
   ]
  },
  {
   "cell_type": "markdown",
   "metadata": {},
   "source": [
    "### Comparison ICE and RICE Priorities\n",
    "\n"
   ]
  },
  {
   "cell_type": "code",
   "execution_count": 28,
   "metadata": {},
   "outputs": [
    {
     "data": {
      "image/png": "[encoded data removed]",
      "text/plain": [
       "<Figure size 1080x720 with 1 Axes>"
      ]
     },
     "metadata": {
      "needs_background": "light"
     },
     "output_type": "display_data"
    }
   ],
   "source": [
    "\n",
    "hypothesis_pivot = hypotheses.pivot_table(index = [hypotheses.index], values = ['ICE', 'RICE'], aggfunc = 'sum').sort_values(by='RICE', ascending=False)\n",
    "plt.figure(figsize=(15, 10))\n",
    "x = hypothesis_pivot.ICE\n",
    "y = hypothesis_pivot.RICE\n",
    "colors = np.array([10, 20, 40, 60, 70, 90, 120, 150, 170])\n",
    "plt.scatter(x, y, c=colors,cmap='PuRd', marker='.', s=800)\n",
    "labels = [\"7\", \"2\", \"0\", \"6\", \"8\", \"3\", \"1\", \"5\", \"4\"]\n",
    "\n",
    " \n",
    "for x_pos, y_pos, label in zip(x, y, labels):\n",
    "    plt.annotate(label, xy=(x_pos, y_pos), xytext=(5, 8), textcoords='offset points', ha='left', va='bottom')       \n",
    "\n",
    "\n",
    "plt.title('Hypotheses RICE/ICE Priority', size=20)\n",
    "plt.ylabel('RICE', size=15)\n",
    "plt.xlabel('ICE', size=15)\n",
    "plt.grid(linewidth = 0.2)\n",
    "plt.legend([\"\"\"0  \n",
    "Add two new channels for attracting traffic. \n",
    "This will bring 30% more users.\n",
    "\n",
    "1 \n",
    "Launch your own delivery service. \n",
    "This will shorten delivery time.\n",
    "\n",
    "2 \n",
    "Add product recommendation blocks to the store's site. \n",
    "This will increase conversion and average purchase size.\n",
    "\n",
    "3 \n",
    "Change the category structure. \n",
    "This will increase conversion since users will find the products \n",
    "they want more quickly.\n",
    "\n",
    "4 \n",
    "Change the background color on the main page. \n",
    "This will increase user engagement.\n",
    "\n",
    "5 \n",
    "Add a customer review page. \n",
    "This will increase the number of orders.\n",
    "\n",
    "6  \n",
    "Show banners with current offers and sales on the main page. \n",
    "This will boost conversion.\n",
    "\n",
    "7 \n",
    "Add a subscription form to all the main pages. \n",
    "This will help you compile a mailing list.\n",
    "\n",
    "8 \n",
    "Launch a promotion that gives users discounts on their birthdays.\"\"\"], loc='best',bbox_to_anchor=(1,1), title=\"Hypotehses\", fontsize=13, title_fontsize=15)\n",
    "plt.show();"
   ]
  },
  {
   "cell_type": "markdown",
   "metadata": {},
   "source": [
    "<h3 style=\"color:orange\">Conlcusions:</h3> \n",
    "\n",
    "High:\n",
    "* Hypothesis 8, 0 and 7 have the highest ICE\n",
    "* Hypothesis 7, 2 and 6 have the highest RICE\n",
    "\n",
    "Low:\n",
    "* Hypothesis 5, 3, and 4 have the lowest ICE\n",
    "* Hypothesis 5, 1, and 4 have the lowest RICE\n",
    "\n",
    "Between these 2 parameters we have the **Reach** component. We can see that H7 *Add a subscription form to all the main pages. This will help you compile a mailing list* has high Reach value, so we can conclude it will reach all users that will subscribe. This hypothesis also has pretty good impact and confidence values and medium effort. \n",
    "\n",
    "H8 and H0 have low Reach values. H8 will have a reach for specific users and times and H0 will reach ~30% of users\n",
    "\n",
    "H2 & H6 look for boost conversion rates. H6 has medium reach value, but high in confidence and low on effort. \n",
    "    \n"
   ]
  },
  {
   "cell_type": "markdown",
   "metadata": {},
   "source": [
    "## A/B Test Analysis\n",
    "---\n",
    "We carried out an A/B test and got the results described in the files `orders_us.csv` and `visits_us.csv`.\n"
   ]
  },
  {
   "cell_type": "markdown",
   "metadata": {},
   "source": [
    "### Graph cumulative revenue by group. Make conclusions and conjectures.\n"
   ]
  },
  {
   "cell_type": "code",
   "execution_count": 29,
   "metadata": {},
   "outputs": [
    {
     "data": {
      "text/plain": [
       "B    640\n",
       "A    557\n",
       "Name: group, dtype: int64"
      ]
     },
     "execution_count": 29,
     "metadata": {},
     "output_type": "execute_result"
    }
   ],
   "source": [
    "orders['group'].value_counts()"
   ]
  },
  {
   "cell_type": "code",
   "execution_count": 30,
   "metadata": {},
   "outputs": [
    {
     "name": "stdout",
     "output_type": "stream",
     "text": [
      "<class 'pandas.core.frame.DataFrame'>\n",
      "Int64Index: 62 entries, 0 to 1150\n",
      "Data columns (total 2 columns):\n",
      " #   Column  Non-Null Count  Dtype         \n",
      "---  ------  --------------  -----         \n",
      " 0   date    62 non-null     datetime64[ns]\n",
      " 1   group   62 non-null     object        \n",
      "dtypes: datetime64[ns](1), object(1)\n",
      "memory usage: 1.5+ KB\n"
     ]
    }
   ],
   "source": [
    "#date and group unique and dropping duplicates, datesgroup df\n",
    "datesgroup = filtered_orders[['date','group']].drop_duplicates()\n",
    "datesgroup.info('deep')"
   ]
  },
  {
   "cell_type": "code",
   "execution_count": 31,
   "metadata": {},
   "outputs": [
    {
     "data": {
      "text/html": [
       "<div>\n",
       "<style scoped>\n",
       "    .dataframe tbody tr th:only-of-type {\n",
       "        vertical-align: middle;\n",
       "    }\n",
       "\n",
       "    .dataframe tbody tr th {\n",
       "        vertical-align: top;\n",
       "    }\n",
       "\n",
       "    .dataframe thead th {\n",
       "        text-align: right;\n",
       "    }\n",
       "</style>\n",
       "<table border=\"1\" class=\"dataframe\">\n",
       "  <thead>\n",
       "    <tr style=\"text-align: right;\">\n",
       "      <th></th>\n",
       "      <th>date</th>\n",
       "      <th>group</th>\n",
       "      <th>transactionid</th>\n",
       "      <th>visitorid</th>\n",
       "      <th>revenue</th>\n",
       "    </tr>\n",
       "  </thead>\n",
       "  <tbody>\n",
       "    <tr>\n",
       "      <th>55</th>\n",
       "      <td>2019-08-01</td>\n",
       "      <td>A</td>\n",
       "      <td>23</td>\n",
       "      <td>19</td>\n",
       "      <td>2266.6</td>\n",
       "    </tr>\n",
       "    <tr>\n",
       "      <th>66</th>\n",
       "      <td>2019-08-01</td>\n",
       "      <td>B</td>\n",
       "      <td>17</td>\n",
       "      <td>17</td>\n",
       "      <td>967.2</td>\n",
       "    </tr>\n",
       "    <tr>\n",
       "      <th>175</th>\n",
       "      <td>2019-08-02</td>\n",
       "      <td>A</td>\n",
       "      <td>42</td>\n",
       "      <td>36</td>\n",
       "      <td>3734.9</td>\n",
       "    </tr>\n",
       "    <tr>\n",
       "      <th>173</th>\n",
       "      <td>2019-08-02</td>\n",
       "      <td>B</td>\n",
       "      <td>40</td>\n",
       "      <td>39</td>\n",
       "      <td>3535.3</td>\n",
       "    </tr>\n",
       "    <tr>\n",
       "      <th>291</th>\n",
       "      <td>2019-08-03</td>\n",
       "      <td>A</td>\n",
       "      <td>66</td>\n",
       "      <td>60</td>\n",
       "      <td>5550.1</td>\n",
       "    </tr>\n",
       "  </tbody>\n",
       "</table>\n",
       "</div>"
      ],
      "text/plain": [
       "          date group  transactionid  visitorid  revenue\n",
       "55  2019-08-01     A             23         19   2266.6\n",
       "66  2019-08-01     B             17         17    967.2\n",
       "175 2019-08-02     A             42         36   3734.9\n",
       "173 2019-08-02     B             40         39   3535.3\n",
       "291 2019-08-03     A             66         60   5550.1"
      ]
     },
     "execution_count": 31,
     "metadata": {},
     "output_type": "execute_result"
    }
   ],
   "source": [
    "#orders_aggregated contains the sum of avg purchase sizes per date & group\n",
    "orders_aggregated = datesgroup.apply(lambda x: filtered_orders\n",
    "                            [np.logical_and(filtered_orders['date'] <= x['date'], filtered_orders\n",
    "                            ['group'] == x['group'])].agg({'date' : 'max', 'group' : 'max', 'transactionid' \n",
    "                            : pd.Series.nunique, 'visitorid' : pd.Series.nunique, 'revenue' : 'sum'}), \n",
    "                            axis=1).sort_values(by=['date','group'])\n",
    "orders_aggregated.head()"
   ]
  },
  {
   "cell_type": "code",
   "execution_count": 32,
   "metadata": {},
   "outputs": [
    {
     "data": {
      "text/html": [
       "<div>\n",
       "<style scoped>\n",
       "    .dataframe tbody tr th:only-of-type {\n",
       "        vertical-align: middle;\n",
       "    }\n",
       "\n",
       "    .dataframe tbody tr th {\n",
       "        vertical-align: top;\n",
       "    }\n",
       "\n",
       "    .dataframe thead th {\n",
       "        text-align: right;\n",
       "    }\n",
       "</style>\n",
       "<table border=\"1\" class=\"dataframe\">\n",
       "  <thead>\n",
       "    <tr style=\"text-align: right;\">\n",
       "      <th></th>\n",
       "      <th>date</th>\n",
       "      <th>group</th>\n",
       "      <th>visits</th>\n",
       "    </tr>\n",
       "  </thead>\n",
       "  <tbody>\n",
       "    <tr>\n",
       "      <th>55</th>\n",
       "      <td>2019-08-01</td>\n",
       "      <td>A</td>\n",
       "      <td>719</td>\n",
       "    </tr>\n",
       "    <tr>\n",
       "      <th>66</th>\n",
       "      <td>2019-08-01</td>\n",
       "      <td>B</td>\n",
       "      <td>713</td>\n",
       "    </tr>\n",
       "    <tr>\n",
       "      <th>175</th>\n",
       "      <td>2019-08-02</td>\n",
       "      <td>A</td>\n",
       "      <td>1338</td>\n",
       "    </tr>\n",
       "    <tr>\n",
       "      <th>173</th>\n",
       "      <td>2019-08-02</td>\n",
       "      <td>B</td>\n",
       "      <td>1294</td>\n",
       "    </tr>\n",
       "    <tr>\n",
       "      <th>291</th>\n",
       "      <td>2019-08-03</td>\n",
       "      <td>A</td>\n",
       "      <td>1845</td>\n",
       "    </tr>\n",
       "  </tbody>\n",
       "</table>\n",
       "</div>"
      ],
      "text/plain": [
       "          date group  visits\n",
       "55  2019-08-01     A     719\n",
       "66  2019-08-01     B     713\n",
       "175 2019-08-02     A    1338\n",
       "173 2019-08-02     B    1294\n",
       "291 2019-08-03     A    1845"
      ]
     },
     "execution_count": 32,
     "metadata": {},
     "output_type": "execute_result"
    }
   ],
   "source": [
    "#sum groups visits on each date\n",
    "visits_aggregated = datesgroup.apply(lambda x: visits\n",
    "                            [np.logical_and(visits['date'] <= x['date'], visits['group'] == x['group'])].agg\n",
    "                            ({'date' : 'max', 'group' : 'max', 'visits' : 'sum'}), axis=1).sort_values(by=['date','group'])\n",
    "visits_aggregated.head()"
   ]
  },
  {
   "cell_type": "code",
   "execution_count": 33,
   "metadata": {},
   "outputs": [
    {
     "data": {
      "text/html": [
       "<div>\n",
       "<style scoped>\n",
       "    .dataframe tbody tr th:only-of-type {\n",
       "        vertical-align: middle;\n",
       "    }\n",
       "\n",
       "    .dataframe tbody tr th {\n",
       "        vertical-align: top;\n",
       "    }\n",
       "\n",
       "    .dataframe thead th {\n",
       "        text-align: right;\n",
       "    }\n",
       "</style>\n",
       "<table border=\"1\" class=\"dataframe\">\n",
       "  <thead>\n",
       "    <tr style=\"text-align: right;\">\n",
       "      <th></th>\n",
       "      <th>date</th>\n",
       "      <th>group</th>\n",
       "      <th>orders</th>\n",
       "      <th>buyers</th>\n",
       "      <th>revenue</th>\n",
       "      <th>visits</th>\n",
       "    </tr>\n",
       "  </thead>\n",
       "  <tbody>\n",
       "    <tr>\n",
       "      <th>0</th>\n",
       "      <td>2019-08-01</td>\n",
       "      <td>A</td>\n",
       "      <td>23</td>\n",
       "      <td>19</td>\n",
       "      <td>2266.6</td>\n",
       "      <td>719</td>\n",
       "    </tr>\n",
       "    <tr>\n",
       "      <th>1</th>\n",
       "      <td>2019-08-01</td>\n",
       "      <td>B</td>\n",
       "      <td>17</td>\n",
       "      <td>17</td>\n",
       "      <td>967.2</td>\n",
       "      <td>713</td>\n",
       "    </tr>\n",
       "    <tr>\n",
       "      <th>2</th>\n",
       "      <td>2019-08-02</td>\n",
       "      <td>A</td>\n",
       "      <td>42</td>\n",
       "      <td>36</td>\n",
       "      <td>3734.9</td>\n",
       "      <td>1338</td>\n",
       "    </tr>\n",
       "    <tr>\n",
       "      <th>3</th>\n",
       "      <td>2019-08-02</td>\n",
       "      <td>B</td>\n",
       "      <td>40</td>\n",
       "      <td>39</td>\n",
       "      <td>3535.3</td>\n",
       "      <td>1294</td>\n",
       "    </tr>\n",
       "    <tr>\n",
       "      <th>4</th>\n",
       "      <td>2019-08-03</td>\n",
       "      <td>A</td>\n",
       "      <td>66</td>\n",
       "      <td>60</td>\n",
       "      <td>5550.1</td>\n",
       "      <td>1845</td>\n",
       "    </tr>\n",
       "  </tbody>\n",
       "</table>\n",
       "</div>"
      ],
      "text/plain": [
       "        date group  orders  buyers  revenue  visits\n",
       "0 2019-08-01     A      23      19   2266.6     719\n",
       "1 2019-08-01     B      17      17    967.2     713\n",
       "2 2019-08-02     A      42      36   3734.9    1338\n",
       "3 2019-08-02     B      40      39   3535.3    1294\n",
       "4 2019-08-03     A      66      60   5550.1    1845"
      ]
     },
     "execution_count": 33,
     "metadata": {},
     "output_type": "execute_result"
    }
   ],
   "source": [
    "#mergin orders_aggregated and visits_aggregated. Add clarity to columns names\n",
    "dates_cumulative = orders_aggregated.merge(visits_aggregated, left_on=\n",
    "                                  ['date', 'group'], right_on=['date', 'group']).rename(columns=\n",
    "                                  {'transactionid': 'orders', 'visitorid':'buyers'})\n",
    "dates_cumulative.head()"
   ]
  },
  {
   "cell_type": "code",
   "execution_count": 34,
   "metadata": {},
   "outputs": [
    {
     "data": {
      "text/html": [
       "<div>\n",
       "<style scoped>\n",
       "    .dataframe tbody tr th:only-of-type {\n",
       "        vertical-align: middle;\n",
       "    }\n",
       "\n",
       "    .dataframe tbody tr th {\n",
       "        vertical-align: top;\n",
       "    }\n",
       "\n",
       "    .dataframe thead th {\n",
       "        text-align: right;\n",
       "    }\n",
       "</style>\n",
       "<table border=\"1\" class=\"dataframe\">\n",
       "  <thead>\n",
       "    <tr style=\"text-align: right;\">\n",
       "      <th></th>\n",
       "      <th>date</th>\n",
       "      <th>revenue</th>\n",
       "      <th>orders</th>\n",
       "    </tr>\n",
       "  </thead>\n",
       "  <tbody>\n",
       "    <tr>\n",
       "      <th>0</th>\n",
       "      <td>2019-08-01</td>\n",
       "      <td>2266.6</td>\n",
       "      <td>23</td>\n",
       "    </tr>\n",
       "    <tr>\n",
       "      <th>2</th>\n",
       "      <td>2019-08-02</td>\n",
       "      <td>3734.9</td>\n",
       "      <td>42</td>\n",
       "    </tr>\n",
       "    <tr>\n",
       "      <th>4</th>\n",
       "      <td>2019-08-03</td>\n",
       "      <td>5550.1</td>\n",
       "      <td>66</td>\n",
       "    </tr>\n",
       "    <tr>\n",
       "      <th>6</th>\n",
       "      <td>2019-08-04</td>\n",
       "      <td>6225.6</td>\n",
       "      <td>77</td>\n",
       "    </tr>\n",
       "    <tr>\n",
       "      <th>8</th>\n",
       "      <td>2019-08-05</td>\n",
       "      <td>7623.6</td>\n",
       "      <td>99</td>\n",
       "    </tr>\n",
       "  </tbody>\n",
       "</table>\n",
       "</div>"
      ],
      "text/plain": [
       "        date  revenue  orders\n",
       "0 2019-08-01   2266.6      23\n",
       "2 2019-08-02   3734.9      42\n",
       "4 2019-08-03   5550.1      66\n",
       "6 2019-08-04   6225.6      77\n",
       "8 2019-08-05   7623.6      99"
      ]
     },
     "execution_count": 34,
     "metadata": {},
     "output_type": "execute_result"
    }
   ],
   "source": [
    "#cumulative for group A\n",
    "cumulative_ra = dates_cumulative[dates_cumulative['group']=='A'][['date','revenue', 'orders']]\n",
    "cumulative_ra.head()"
   ]
  },
  {
   "cell_type": "code",
   "execution_count": 35,
   "metadata": {},
   "outputs": [
    {
     "data": {
      "text/html": [
       "<div>\n",
       "<style scoped>\n",
       "    .dataframe tbody tr th:only-of-type {\n",
       "        vertical-align: middle;\n",
       "    }\n",
       "\n",
       "    .dataframe tbody tr th {\n",
       "        vertical-align: top;\n",
       "    }\n",
       "\n",
       "    .dataframe thead th {\n",
       "        text-align: right;\n",
       "    }\n",
       "</style>\n",
       "<table border=\"1\" class=\"dataframe\">\n",
       "  <thead>\n",
       "    <tr style=\"text-align: right;\">\n",
       "      <th></th>\n",
       "      <th>date</th>\n",
       "      <th>revenue</th>\n",
       "      <th>orders</th>\n",
       "    </tr>\n",
       "  </thead>\n",
       "  <tbody>\n",
       "    <tr>\n",
       "      <th>1</th>\n",
       "      <td>2019-08-01</td>\n",
       "      <td>967.2</td>\n",
       "      <td>17</td>\n",
       "    </tr>\n",
       "    <tr>\n",
       "      <th>3</th>\n",
       "      <td>2019-08-02</td>\n",
       "      <td>3535.3</td>\n",
       "      <td>40</td>\n",
       "    </tr>\n",
       "    <tr>\n",
       "      <th>5</th>\n",
       "      <td>2019-08-03</td>\n",
       "      <td>4606.9</td>\n",
       "      <td>54</td>\n",
       "    </tr>\n",
       "    <tr>\n",
       "      <th>7</th>\n",
       "      <td>2019-08-04</td>\n",
       "      <td>6138.5</td>\n",
       "      <td>68</td>\n",
       "    </tr>\n",
       "    <tr>\n",
       "      <th>9</th>\n",
       "      <td>2019-08-05</td>\n",
       "      <td>7587.8</td>\n",
       "      <td>89</td>\n",
       "    </tr>\n",
       "  </tbody>\n",
       "</table>\n",
       "</div>"
      ],
      "text/plain": [
       "        date  revenue  orders\n",
       "1 2019-08-01    967.2      17\n",
       "3 2019-08-02   3535.3      40\n",
       "5 2019-08-03   4606.9      54\n",
       "7 2019-08-04   6138.5      68\n",
       "9 2019-08-05   7587.8      89"
      ]
     },
     "execution_count": 35,
     "metadata": {},
     "output_type": "execute_result"
    }
   ],
   "source": [
    "#cumulative for group B\n",
    "cumulative_rb = dates_cumulative[dates_cumulative['group']=='B'][['date','revenue', 'orders']]\n",
    "cumulative_rb.head()"
   ]
  },
  {
   "cell_type": "code",
   "execution_count": 36,
   "metadata": {},
   "outputs": [
    {
     "data": {
      "image/png": "[encoded data removed]",
      "text/plain": [
       "<Figure size 1080x432 with 1 Axes>"
      ]
     },
     "metadata": {
      "needs_background": "light"
     },
     "output_type": "display_data"
    }
   ],
   "source": [
    "plt.rcParams[\"figure.figsize\"] = (15,6)\n",
    "plt.plot(cumulative_ra['date'], cumulative_ra['revenue'], label='A', color='mediumvioletred')\n",
    "plt.plot(cumulative_rb['date'], cumulative_rb['revenue'], label='B', color='darkcyan')\n",
    "\n",
    "plt.title('Cumulative Revenue by Group', size=18)\n",
    "plt.legend(['Group A','Group B'],loc='best', title=\"Groups\", fontsize=12, title_fontsize=14)\n",
    "plt.xlabel('Date', size=12)\n",
    "plt.ylabel('Cumulative Revenue', size=12)\n",
    "plt.grid(linewidth = 0.2)\n",
    "plt.show();"
   ]
  },
  {
   "cell_type": "markdown",
   "metadata": {},
   "source": [
    "<span style=\"color:green\">**Notes from the analyst:** </span> \n",
    "\n",
    "   * Looking at the graph above, we see that group B has higher cumulative revenue than group A. Both groups' cumulative revenue rise constantly throughout the test but group B is the one with best results. The biggest peak we saw it in August 18th and after that it stabilizes back. This peak can be related to a big amount of orders around thar period\n",
    " "
   ]
  },
  {
   "cell_type": "markdown",
   "metadata": {},
   "source": [
    "### Graph cumulative average order size by group. Make conclusions and conjectures.\n"
   ]
  },
  {
   "cell_type": "code",
   "execution_count": 37,
   "metadata": {},
   "outputs": [
    {
     "data": {
      "image/png": "[encoded data removed]",
      "text/plain": [
       "<Figure size 1080x432 with 1 Axes>"
      ]
     },
     "metadata": {
      "needs_background": "light"
     },
     "output_type": "display_data"
    }
   ],
   "source": [
    "plt.figure(figsize=(15, 6))\n",
    "plt.plot(cumulative_ra['date'], cumulative_ra['revenue']/cumulative_ra['orders'], label='A', color='mediumvioletred')\n",
    "plt.plot(cumulative_rb['date'], cumulative_rb['revenue']/cumulative_rb['orders'], label='B', color='darkcyan')\n",
    "\n",
    "plt.title('Cumulative Average Order Size per Group', size=18)\n",
    "plt.legend(['Group A','Group B'],loc='best', title=\"Groups\", fontsize=12, title_fontsize=14)\n",
    "plt.ylabel('Average Order Size in $', size=12)\n",
    "plt.xlabel('Date', size=12)\n",
    "plt.grid(linewidth = 0.2)\n",
    "plt.ylim(ymin=0)\n",
    "plt.show();"
   ]
  },
  {
   "cell_type": "markdown",
   "metadata": {},
   "source": [
    "<span style=\"color:green\">**Notes from the analyst:** </span> \n",
    "\n",
    "   * Both groups A & B cumulataive average order sizes are not consistent along the test. Group A is a bit more stable, but group B has high peaks. \n",
    "   * The peak we can understand it comes from larger order sizes, more likely than large number of orders, but we will keep on investigating further "
   ]
  },
  {
   "cell_type": "markdown",
   "metadata": {},
   "source": [
    "### Graph the relative difference in cumulative average order size for group B compared with group A. Make conclusions and conjectures.\n"
   ]
  },
  {
   "cell_type": "code",
   "execution_count": 38,
   "metadata": {},
   "outputs": [
    {
     "data": {
      "text/html": [
       "<div>\n",
       "<style scoped>\n",
       "    .dataframe tbody tr th:only-of-type {\n",
       "        vertical-align: middle;\n",
       "    }\n",
       "\n",
       "    .dataframe tbody tr th {\n",
       "        vertical-align: top;\n",
       "    }\n",
       "\n",
       "    .dataframe thead th {\n",
       "        text-align: right;\n",
       "    }\n",
       "</style>\n",
       "<table border=\"1\" class=\"dataframe\">\n",
       "  <thead>\n",
       "    <tr style=\"text-align: right;\">\n",
       "      <th></th>\n",
       "      <th>date</th>\n",
       "      <th>revenue_a</th>\n",
       "      <th>orders_a</th>\n",
       "      <th>revenue_b</th>\n",
       "      <th>orders_b</th>\n",
       "    </tr>\n",
       "  </thead>\n",
       "  <tbody>\n",
       "    <tr>\n",
       "      <th>0</th>\n",
       "      <td>2019-08-01</td>\n",
       "      <td>2266.6</td>\n",
       "      <td>23</td>\n",
       "      <td>967.2</td>\n",
       "      <td>17</td>\n",
       "    </tr>\n",
       "    <tr>\n",
       "      <th>1</th>\n",
       "      <td>2019-08-02</td>\n",
       "      <td>3734.9</td>\n",
       "      <td>42</td>\n",
       "      <td>3535.3</td>\n",
       "      <td>40</td>\n",
       "    </tr>\n",
       "    <tr>\n",
       "      <th>2</th>\n",
       "      <td>2019-08-03</td>\n",
       "      <td>5550.1</td>\n",
       "      <td>66</td>\n",
       "      <td>4606.9</td>\n",
       "      <td>54</td>\n",
       "    </tr>\n",
       "    <tr>\n",
       "      <th>3</th>\n",
       "      <td>2019-08-04</td>\n",
       "      <td>6225.6</td>\n",
       "      <td>77</td>\n",
       "      <td>6138.5</td>\n",
       "      <td>68</td>\n",
       "    </tr>\n",
       "    <tr>\n",
       "      <th>4</th>\n",
       "      <td>2019-08-05</td>\n",
       "      <td>7623.6</td>\n",
       "      <td>99</td>\n",
       "      <td>7587.8</td>\n",
       "      <td>89</td>\n",
       "    </tr>\n",
       "  </tbody>\n",
       "</table>\n",
       "</div>"
      ],
      "text/plain": [
       "        date  revenue_a  orders_a  revenue_b  orders_b\n",
       "0 2019-08-01     2266.6        23      967.2        17\n",
       "1 2019-08-02     3734.9        42     3535.3        40\n",
       "2 2019-08-03     5550.1        66     4606.9        54\n",
       "3 2019-08-04     6225.6        77     6138.5        68\n",
       "4 2019-08-05     7623.6        99     7587.8        89"
      ]
     },
     "execution_count": 38,
     "metadata": {},
     "output_type": "execute_result"
    }
   ],
   "source": [
    "#merging cumulative revenue from group A & B for easier comparison\n",
    "merged_cumulative_r = cumulative_ra.merge(cumulative_rb, left_on='date', right_on='date', how='left', suffixes=['A', 'B']).rename(columns={'revenueA': 'revenue_a', 'revenueB':'revenue_b', 'ordersA':'orders_a', 'ordersB':'orders_b'})\n",
    "merged_cumulative_r.head()"
   ]
  },
  {
   "cell_type": "code",
   "execution_count": 39,
   "metadata": {},
   "outputs": [
    {
     "data": {
      "image/png": "[encoded data removed]",
      "text/plain": [
       "<Figure size 1080x432 with 1 Axes>"
      ]
     },
     "metadata": {
      "needs_background": "light"
     },
     "output_type": "display_data"
    }
   ],
   "source": [
    "plt.figure(figsize=(15, 6))\n",
    "plt.plot(merged_cumulative_r['date'], (merged_cumulative_r['revenue_b']/merged_cumulative_r['orders_b'])/(merged_cumulative_r['revenue_a']/merged_cumulative_r\n",
    "                                                                            ['orders_a'])-1, color='purple')\n",
    "plt.title('Relative Difference for the Average Order Sizes', size=18)\n",
    "plt.axhline(y=0, color='red', linestyle='-.', linewidth=1) \n",
    "plt.ylabel('Relative Difference', size=12)\n",
    "plt.xlabel('Date', size=12)\n",
    "plt.grid(linewidth = 0.2)\n",
    "plt.show()"
   ]
  },
  {
   "cell_type": "markdown",
   "metadata": {},
   "source": [
    "<span style=\"color:green\">**Notes from the analyst:** </span> \n",
    "\n",
    "   * Relative difference = ((average B/average A) - 1)\n",
    "   * August 7th to 18th holds the spikes, so we can conclude that around that time there were large orders made by group B, as we also noticed in previous graphs\n",
    "   "
   ]
  },
  {
   "cell_type": "markdown",
   "metadata": {},
   "source": [
    "### Calculate each group's conversion rate as the ratio of orders to the number of visits for each day. Plot the daily conversion rates of the two groups and describe the difference. Draw conclusions and make conjectures.\n"
   ]
  },
  {
   "cell_type": "code",
   "execution_count": 40,
   "metadata": {},
   "outputs": [
    {
     "data": {
      "text/html": [
       "<div>\n",
       "<style scoped>\n",
       "    .dataframe tbody tr th:only-of-type {\n",
       "        vertical-align: middle;\n",
       "    }\n",
       "\n",
       "    .dataframe tbody tr th {\n",
       "        vertical-align: top;\n",
       "    }\n",
       "\n",
       "    .dataframe thead th {\n",
       "        text-align: right;\n",
       "    }\n",
       "</style>\n",
       "<table border=\"1\" class=\"dataframe\">\n",
       "  <thead>\n",
       "    <tr style=\"text-align: right;\">\n",
       "      <th></th>\n",
       "      <th>date</th>\n",
       "      <th>group</th>\n",
       "      <th>orders</th>\n",
       "      <th>buyers</th>\n",
       "      <th>revenue</th>\n",
       "      <th>visits</th>\n",
       "      <th>conversion</th>\n",
       "    </tr>\n",
       "  </thead>\n",
       "  <tbody>\n",
       "    <tr>\n",
       "      <th>0</th>\n",
       "      <td>2019-08-01</td>\n",
       "      <td>A</td>\n",
       "      <td>23</td>\n",
       "      <td>19</td>\n",
       "      <td>2266.6</td>\n",
       "      <td>719</td>\n",
       "      <td>0.031989</td>\n",
       "    </tr>\n",
       "    <tr>\n",
       "      <th>1</th>\n",
       "      <td>2019-08-01</td>\n",
       "      <td>B</td>\n",
       "      <td>17</td>\n",
       "      <td>17</td>\n",
       "      <td>967.2</td>\n",
       "      <td>713</td>\n",
       "      <td>0.023843</td>\n",
       "    </tr>\n",
       "    <tr>\n",
       "      <th>2</th>\n",
       "      <td>2019-08-02</td>\n",
       "      <td>A</td>\n",
       "      <td>42</td>\n",
       "      <td>36</td>\n",
       "      <td>3734.9</td>\n",
       "      <td>1338</td>\n",
       "      <td>0.031390</td>\n",
       "    </tr>\n",
       "    <tr>\n",
       "      <th>3</th>\n",
       "      <td>2019-08-02</td>\n",
       "      <td>B</td>\n",
       "      <td>40</td>\n",
       "      <td>39</td>\n",
       "      <td>3535.3</td>\n",
       "      <td>1294</td>\n",
       "      <td>0.030912</td>\n",
       "    </tr>\n",
       "    <tr>\n",
       "      <th>4</th>\n",
       "      <td>2019-08-03</td>\n",
       "      <td>A</td>\n",
       "      <td>66</td>\n",
       "      <td>60</td>\n",
       "      <td>5550.1</td>\n",
       "      <td>1845</td>\n",
       "      <td>0.035772</td>\n",
       "    </tr>\n",
       "  </tbody>\n",
       "</table>\n",
       "</div>"
      ],
      "text/plain": [
       "        date group  orders  buyers  revenue  visits  conversion\n",
       "0 2019-08-01     A      23      19   2266.6     719    0.031989\n",
       "1 2019-08-01     B      17      17    967.2     713    0.023843\n",
       "2 2019-08-02     A      42      36   3734.9    1338    0.031390\n",
       "3 2019-08-02     B      40      39   3535.3    1294    0.030912\n",
       "4 2019-08-03     A      66      60   5550.1    1845    0.035772"
      ]
     },
     "execution_count": 40,
     "metadata": {},
     "output_type": "execute_result"
    }
   ],
   "source": [
    "#calculate and add conversion to df\n",
    "dates_cumulative['conversion'] = dates_cumulative['orders']/dates_cumulative['visits']\n",
    "dates_cumulative.head()"
   ]
  },
  {
   "cell_type": "code",
   "execution_count": 41,
   "metadata": {},
   "outputs": [
    {
     "data": {
      "text/html": [
       "<div>\n",
       "<style scoped>\n",
       "    .dataframe tbody tr th:only-of-type {\n",
       "        vertical-align: middle;\n",
       "    }\n",
       "\n",
       "    .dataframe tbody tr th {\n",
       "        vertical-align: top;\n",
       "    }\n",
       "\n",
       "    .dataframe thead th {\n",
       "        text-align: right;\n",
       "    }\n",
       "</style>\n",
       "<table border=\"1\" class=\"dataframe\">\n",
       "  <thead>\n",
       "    <tr style=\"text-align: right;\">\n",
       "      <th></th>\n",
       "      <th>date</th>\n",
       "      <th>group</th>\n",
       "      <th>orders</th>\n",
       "      <th>buyers</th>\n",
       "      <th>revenue</th>\n",
       "      <th>visits</th>\n",
       "      <th>conversion</th>\n",
       "    </tr>\n",
       "  </thead>\n",
       "  <tbody>\n",
       "    <tr>\n",
       "      <th>0</th>\n",
       "      <td>2019-08-01</td>\n",
       "      <td>A</td>\n",
       "      <td>23</td>\n",
       "      <td>19</td>\n",
       "      <td>2266.6</td>\n",
       "      <td>719</td>\n",
       "      <td>0.031989</td>\n",
       "    </tr>\n",
       "    <tr>\n",
       "      <th>2</th>\n",
       "      <td>2019-08-02</td>\n",
       "      <td>A</td>\n",
       "      <td>42</td>\n",
       "      <td>36</td>\n",
       "      <td>3734.9</td>\n",
       "      <td>1338</td>\n",
       "      <td>0.031390</td>\n",
       "    </tr>\n",
       "    <tr>\n",
       "      <th>4</th>\n",
       "      <td>2019-08-03</td>\n",
       "      <td>A</td>\n",
       "      <td>66</td>\n",
       "      <td>60</td>\n",
       "      <td>5550.1</td>\n",
       "      <td>1845</td>\n",
       "      <td>0.035772</td>\n",
       "    </tr>\n",
       "    <tr>\n",
       "      <th>6</th>\n",
       "      <td>2019-08-04</td>\n",
       "      <td>A</td>\n",
       "      <td>77</td>\n",
       "      <td>71</td>\n",
       "      <td>6225.6</td>\n",
       "      <td>2562</td>\n",
       "      <td>0.030055</td>\n",
       "    </tr>\n",
       "    <tr>\n",
       "      <th>8</th>\n",
       "      <td>2019-08-05</td>\n",
       "      <td>A</td>\n",
       "      <td>99</td>\n",
       "      <td>92</td>\n",
       "      <td>7623.6</td>\n",
       "      <td>3318</td>\n",
       "      <td>0.029837</td>\n",
       "    </tr>\n",
       "  </tbody>\n",
       "</table>\n",
       "</div>"
      ],
      "text/plain": [
       "        date group  orders  buyers  revenue  visits  conversion\n",
       "0 2019-08-01     A      23      19   2266.6     719    0.031989\n",
       "2 2019-08-02     A      42      36   3734.9    1338    0.031390\n",
       "4 2019-08-03     A      66      60   5550.1    1845    0.035772\n",
       "6 2019-08-04     A      77      71   6225.6    2562    0.030055\n",
       "8 2019-08-05     A      99      92   7623.6    3318    0.029837"
      ]
     },
     "execution_count": 41,
     "metadata": {},
     "output_type": "execute_result"
    }
   ],
   "source": [
    "#conversion per day per group == A\n",
    "da_cumulative = dates_cumulative[dates_cumulative['group']=='A']\n",
    "da_cumulative.head()"
   ]
  },
  {
   "cell_type": "code",
   "execution_count": 42,
   "metadata": {},
   "outputs": [
    {
     "data": {
      "text/html": [
       "<div>\n",
       "<style scoped>\n",
       "    .dataframe tbody tr th:only-of-type {\n",
       "        vertical-align: middle;\n",
       "    }\n",
       "\n",
       "    .dataframe tbody tr th {\n",
       "        vertical-align: top;\n",
       "    }\n",
       "\n",
       "    .dataframe thead th {\n",
       "        text-align: right;\n",
       "    }\n",
       "</style>\n",
       "<table border=\"1\" class=\"dataframe\">\n",
       "  <thead>\n",
       "    <tr style=\"text-align: right;\">\n",
       "      <th></th>\n",
       "      <th>date</th>\n",
       "      <th>group</th>\n",
       "      <th>orders</th>\n",
       "      <th>buyers</th>\n",
       "      <th>revenue</th>\n",
       "      <th>visits</th>\n",
       "      <th>conversion</th>\n",
       "    </tr>\n",
       "  </thead>\n",
       "  <tbody>\n",
       "    <tr>\n",
       "      <th>1</th>\n",
       "      <td>2019-08-01</td>\n",
       "      <td>B</td>\n",
       "      <td>17</td>\n",
       "      <td>17</td>\n",
       "      <td>967.2</td>\n",
       "      <td>713</td>\n",
       "      <td>0.023843</td>\n",
       "    </tr>\n",
       "    <tr>\n",
       "      <th>3</th>\n",
       "      <td>2019-08-02</td>\n",
       "      <td>B</td>\n",
       "      <td>40</td>\n",
       "      <td>39</td>\n",
       "      <td>3535.3</td>\n",
       "      <td>1294</td>\n",
       "      <td>0.030912</td>\n",
       "    </tr>\n",
       "    <tr>\n",
       "      <th>5</th>\n",
       "      <td>2019-08-03</td>\n",
       "      <td>B</td>\n",
       "      <td>54</td>\n",
       "      <td>53</td>\n",
       "      <td>4606.9</td>\n",
       "      <td>1803</td>\n",
       "      <td>0.029950</td>\n",
       "    </tr>\n",
       "    <tr>\n",
       "      <th>7</th>\n",
       "      <td>2019-08-04</td>\n",
       "      <td>B</td>\n",
       "      <td>68</td>\n",
       "      <td>66</td>\n",
       "      <td>6138.5</td>\n",
       "      <td>2573</td>\n",
       "      <td>0.026428</td>\n",
       "    </tr>\n",
       "    <tr>\n",
       "      <th>9</th>\n",
       "      <td>2019-08-05</td>\n",
       "      <td>B</td>\n",
       "      <td>89</td>\n",
       "      <td>87</td>\n",
       "      <td>7587.8</td>\n",
       "      <td>3280</td>\n",
       "      <td>0.027134</td>\n",
       "    </tr>\n",
       "  </tbody>\n",
       "</table>\n",
       "</div>"
      ],
      "text/plain": [
       "        date group  orders  buyers  revenue  visits  conversion\n",
       "1 2019-08-01     B      17      17    967.2     713    0.023843\n",
       "3 2019-08-02     B      40      39   3535.3    1294    0.030912\n",
       "5 2019-08-03     B      54      53   4606.9    1803    0.029950\n",
       "7 2019-08-04     B      68      66   6138.5    2573    0.026428\n",
       "9 2019-08-05     B      89      87   7587.8    3280    0.027134"
      ]
     },
     "execution_count": 42,
     "metadata": {},
     "output_type": "execute_result"
    }
   ],
   "source": [
    "#conversion per day per group == B\n",
    "db_cumulative = dates_cumulative[dates_cumulative['group']=='B']\n",
    "db_cumulative.head()"
   ]
  },
  {
   "cell_type": "code",
   "execution_count": 43,
   "metadata": {},
   "outputs": [
    {
     "data": {
      "image/png": "[encoded data removed]",
      "text/plain": [
       "<Figure size 1080x432 with 1 Axes>"
      ]
     },
     "metadata": {
      "needs_background": "light"
     },
     "output_type": "display_data"
    }
   ],
   "source": [
    "plt.figure(figsize=(15, 6))\n",
    "plt.plot(da_cumulative['date'], da_cumulative['conversion'], label='A', color='mediumvioletred')\n",
    "plt.plot(db_cumulative['date'], db_cumulative['conversion'], label='B', color='darkcyan')\n",
    "\n",
    "plt.title('Daily Conversion Rates per Group', size=18)\n",
    "plt.legend(['Group A','Group B'],loc='best', title=\"Groups\", fontsize=12, title_fontsize=14)\n",
    "plt.ylabel('Conversion Rate', size=12)\n",
    "plt.xlabel('Date', size=12)\n",
    "plt.ylim(ymin=0)\n",
    "plt.grid(linewidth = 0.2)\n",
    "plt.show();\n"
   ]
  },
  {
   "cell_type": "markdown",
   "metadata": {},
   "source": [
    "<span style=\"color:green\">**Notes from the analyst:** </span> \n",
    "\n",
    "   * Group A conversion rate is higher than B in the beginning. Short after Group A's conversion drops while Group's B rises and then stabilizes around end of August.\n",
    "  "
   ]
  },
  {
   "cell_type": "markdown",
   "metadata": {},
   "source": [
    "### Plot a scatter chart of the number of orders per user. Make conclusions and conjectures.\n"
   ]
  },
  {
   "cell_type": "code",
   "execution_count": 44,
   "metadata": {},
   "outputs": [
    {
     "data": {
      "text/html": [
       "<div>\n",
       "<style scoped>\n",
       "    .dataframe tbody tr th:only-of-type {\n",
       "        vertical-align: middle;\n",
       "    }\n",
       "\n",
       "    .dataframe tbody tr th {\n",
       "        vertical-align: top;\n",
       "    }\n",
       "\n",
       "    .dataframe thead th {\n",
       "        text-align: right;\n",
       "    }\n",
       "</style>\n",
       "<table border=\"1\" class=\"dataframe\">\n",
       "  <thead>\n",
       "    <tr style=\"text-align: right;\">\n",
       "      <th></th>\n",
       "      <th>users</th>\n",
       "      <th>orders</th>\n",
       "    </tr>\n",
       "  </thead>\n",
       "  <tbody>\n",
       "    <tr>\n",
       "      <th>908</th>\n",
       "      <td>3967698036</td>\n",
       "      <td>3</td>\n",
       "    </tr>\n",
       "    <tr>\n",
       "      <th>55</th>\n",
       "      <td>249864742</td>\n",
       "      <td>3</td>\n",
       "    </tr>\n",
       "    <tr>\n",
       "      <th>478</th>\n",
       "      <td>2108163459</td>\n",
       "      <td>3</td>\n",
       "    </tr>\n",
       "    <tr>\n",
       "      <th>687</th>\n",
       "      <td>2988190573</td>\n",
       "      <td>3</td>\n",
       "    </tr>\n",
       "    <tr>\n",
       "      <th>890</th>\n",
       "      <td>3908431265</td>\n",
       "      <td>3</td>\n",
       "    </tr>\n",
       "  </tbody>\n",
       "</table>\n",
       "</div>"
      ],
      "text/plain": [
       "          users  orders\n",
       "908  3967698036       3\n",
       "55    249864742       3\n",
       "478  2108163459       3\n",
       "687  2988190573       3\n",
       "890  3908431265       3"
      ]
     },
     "execution_count": 44,
     "metadata": {},
     "output_type": "execute_result"
    }
   ],
   "source": [
    "#user_orders contain unique transactions per user\n",
    "user_orders = (filtered_orders.drop(['group', 'revenue', 'date'], \n",
    "                                 axis=1).groupby('visitorid', as_index=False).agg\n",
    "            ({'transactionid': pd.Series.nunique})).rename(columns={'visitorid': 'users', \n",
    "            'transactionid':'orders'}).sort_values(by='orders', ascending=False)\n",
    "user_orders.head()"
   ]
  },
  {
   "cell_type": "code",
   "execution_count": 45,
   "metadata": {
    "scrolled": false
   },
   "outputs": [
    {
     "data": {
      "image/png": "[encoded data removed]",
      "text/plain": [
       "<Figure size 1080x432 with 1 Axes>"
      ]
     },
     "metadata": {
      "needs_background": "light"
     },
     "output_type": "display_data"
    }
   ],
   "source": [
    "x_values = pd.Series(range(0,len(user_orders)))\n",
    "plt.figure(figsize=(15, 6))\n",
    "plt.scatter(x_values, user_orders['orders'].sort_values(ascending=True), color='lightblue')\n",
    "\n",
    "plt.title('Number of Orders per User', size=18)\n",
    "plt.ylabel('Number of Orders', size=12)\n",
    "plt.xlabel('Number of Users', size=12)\n",
    "plt.grid(linewidth = 0.2)\n",
    "plt.show();\n"
   ]
  },
  {
   "cell_type": "markdown",
   "metadata": {},
   "source": [
    "<span style=\"color:green\">**Notes from the analyst:** </span> \n",
    "\n",
    "* We see very few users did more than one order during the test was running\n"
   ]
  },
  {
   "cell_type": "markdown",
   "metadata": {},
   "source": [
    "### Calculate the 95th and 99th percentiles for the number of orders per user. Define the point at which a data point becomes an anomaly.\n"
   ]
  },
  {
   "cell_type": "code",
   "execution_count": 46,
   "metadata": {
    "scrolled": true
   },
   "outputs": [
    {
     "data": {
      "text/plain": [
       "array([1., 2.])"
      ]
     },
     "execution_count": 46,
     "metadata": {},
     "output_type": "execute_result"
    }
   ],
   "source": [
    "#calculate percentile\n",
    "np.percentile(user_orders['orders'], [95, 99])"
   ]
  },
  {
   "cell_type": "markdown",
   "metadata": {},
   "source": [
    "<span style=\"color:green\">**Notes from the analyst:** </span> \n",
    "\n",
    "* The percentiles 95th and 99th for the number of oders per user helps us understand better. \n",
    "    * 95th percentile is 1 order\n",
    "    * 99th percentile is 2 orders\n",
    "    * Meaning, 5% of users placed more than 1 and only 1% placed more than 2 orders"
   ]
  },
  {
   "cell_type": "markdown",
   "metadata": {},
   "source": [
    "### Plot a scatter chart of order prices. Make conclusions and conjectures.\n"
   ]
  },
  {
   "cell_type": "code",
   "execution_count": 47,
   "metadata": {},
   "outputs": [
    {
     "data": {
      "image/png": "[encoded data removed]",
      "text/plain": [
       "<Figure size 1080x432 with 1 Axes>"
      ]
     },
     "metadata": {
      "needs_background": "light"
     },
     "output_type": "display_data"
    }
   ],
   "source": [
    "x_values = pd.Series(range(0, len(filtered_orders['revenue'])))\n",
    "plt.figure(figsize=(15, 6))\n",
    "plt.scatter(x_values, filtered_orders['revenue'], color='lightgreen')\n",
    "\n",
    "plt.title('Price of Each Order', size=18)\n",
    "plt.ylabel('Price Range', size=12)\n",
    "plt.xlabel('Number of Orders', size=12)\n",
    "plt.grid(linewidth = 0.2)\n",
    "plt.show();"
   ]
  },
  {
   "cell_type": "markdown",
   "metadata": {},
   "source": [
    "<span style=\"color:green\">**Notes from the analyst:** </span> \n",
    "\n",
    "* We see some outliers in the graph above. Plotting below witho orders not higher than 2,500USD we can better understand the distribution:\n",
    "    * Most  orders were priced at no more than 1,500USD\n",
    "    * Couple of orders were priced higher and one (from the graph above) at 20,000USD which migh be a typo, considering the data we see here"
   ]
  },
  {
   "cell_type": "code",
   "execution_count": 48,
   "metadata": {},
   "outputs": [
    {
     "data": {
      "image/png": "[encoded data removed]",
      "text/plain": [
       "<Figure size 1080x432 with 1 Axes>"
      ]
     },
     "metadata": {
      "needs_background": "light"
     },
     "output_type": "display_data"
    }
   ],
   "source": [
    "# filter orders and split into two groups\n",
    "fil_rev_A = filtered_orders.query(\"group == 'A' and revenue < 2500\")\n",
    "fil_rev_B = filtered_orders.query(\"group == 'B' and revenue < 2500\")\n",
    "\n",
    "# create x values for each group\n",
    "x_values_A = pd.Series(range(0, len(fil_rev_A['revenue'])))\n",
    "x_values_B = pd.Series(range(len(fil_rev_A['revenue']), len(fil_rev_A['revenue']) + len(fil_rev_B['revenue'])))\n",
    "\n",
    "# plot the two groups separately with different colors\n",
    "plt.figure(figsize=(15, 6))\n",
    "plt.scatter(x_values_A, fil_rev_A['revenue'], color='mediumvioletred', label='Group A')\n",
    "plt.scatter(x_values_B, fil_rev_B['revenue'], color='darkcyan', label='Group B')\n",
    "\n",
    "plt.title('Filtered Price of Each Order', size=18)\n",
    "plt.ylabel('Price Range', size=12)\n",
    "plt.xlabel('Number of Orders', size=12)\n",
    "plt.grid(linewidth = 0.2)\n",
    "plt.legend()\n",
    "plt.show();\n",
    "\n"
   ]
  },
  {
   "cell_type": "markdown",
   "metadata": {},
   "source": [
    "### Calculate the 95th and 99th percentiles of order prices. Define the point at which a data point becomes an anomaly.\n"
   ]
  },
  {
   "cell_type": "code",
   "execution_count": 49,
   "metadata": {},
   "outputs": [
    {
     "data": {
      "text/plain": [
       "array([414.275, 830.3  ])"
      ]
     },
     "execution_count": 49,
     "metadata": {},
     "output_type": "execute_result"
    }
   ],
   "source": [
    "np.percentile(filtered_orders['revenue'], [95, 99])"
   ]
  },
  {
   "cell_type": "markdown",
   "metadata": {},
   "source": [
    "<span style=\"color:green\">**Notes from the analyst:** </span> \n",
    "\n",
    "   * 95th percentile is 414 USD per order\n",
    "   * 99th percentile is 830 USD per order\n",
    "   * Meaning, no more than 5% of the orders costs more than 414, and only 1% of the orders cost more than 830"
   ]
  },
  {
   "cell_type": "markdown",
   "metadata": {},
   "source": [
    "### Find the statistical significance of the difference in conversion between the groups using the raw data. Make conclusions and conjectures.\n",
    "\n",
    "* Test Null Null Hypothesis (H0) that group A's conversion rate is equal to that of group B in the raw data (i.e., including outliers and anomalies)\n",
    "* If rejected, the Alternative Hypothesis (H1) will be that conversion rate for group A is NOT equal to group B\n"
   ]
  },
  {
   "cell_type": "code",
   "execution_count": 50,
   "metadata": {},
   "outputs": [
    {
     "data": {
      "text/html": [
       "<div>\n",
       "<style scoped>\n",
       "    .dataframe tbody tr th:only-of-type {\n",
       "        vertical-align: middle;\n",
       "    }\n",
       "\n",
       "    .dataframe tbody tr th {\n",
       "        vertical-align: top;\n",
       "    }\n",
       "\n",
       "    .dataframe thead th {\n",
       "        text-align: right;\n",
       "    }\n",
       "</style>\n",
       "<table border=\"1\" class=\"dataframe\">\n",
       "  <thead>\n",
       "    <tr style=\"text-align: right;\">\n",
       "      <th></th>\n",
       "      <th>users</th>\n",
       "      <th>orders</th>\n",
       "    </tr>\n",
       "  </thead>\n",
       "  <tbody>\n",
       "    <tr>\n",
       "      <th>0</th>\n",
       "      <td>11685486</td>\n",
       "      <td>1</td>\n",
       "    </tr>\n",
       "    <tr>\n",
       "      <th>1</th>\n",
       "      <td>54447517</td>\n",
       "      <td>1</td>\n",
       "    </tr>\n",
       "    <tr>\n",
       "      <th>2</th>\n",
       "      <td>66685450</td>\n",
       "      <td>1</td>\n",
       "    </tr>\n",
       "    <tr>\n",
       "      <th>3</th>\n",
       "      <td>78758296</td>\n",
       "      <td>1</td>\n",
       "    </tr>\n",
       "    <tr>\n",
       "      <th>4</th>\n",
       "      <td>85103373</td>\n",
       "      <td>1</td>\n",
       "    </tr>\n",
       "  </tbody>\n",
       "</table>\n",
       "</div>"
      ],
      "text/plain": [
       "      users  orders\n",
       "0  11685486       1\n",
       "1  54447517       1\n",
       "2  66685450       1\n",
       "3  78758296       1\n",
       "4  85103373       1"
      ]
     },
     "execution_count": 50,
     "metadata": {},
     "output_type": "execute_result"
    }
   ],
   "source": [
    "#statistical significance of difference in conversion group A:\n",
    "orders_ua = filtered_orders[filtered_orders\n",
    "                            ['group']=='A'].groupby('visitorid', as_index=False).agg({'transactionid' : \n",
    "                            pd.Series.nunique}).rename(columns={'visitorid': 'users', 'transactionid':'orders'})\n",
    "orders_ua.head()"
   ]
  },
  {
   "cell_type": "code",
   "execution_count": 51,
   "metadata": {
    "scrolled": true
   },
   "outputs": [
    {
     "data": {
      "text/html": [
       "<div>\n",
       "<style scoped>\n",
       "    .dataframe tbody tr th:only-of-type {\n",
       "        vertical-align: middle;\n",
       "    }\n",
       "\n",
       "    .dataframe tbody tr th {\n",
       "        vertical-align: top;\n",
       "    }\n",
       "\n",
       "    .dataframe thead th {\n",
       "        text-align: right;\n",
       "    }\n",
       "</style>\n",
       "<table border=\"1\" class=\"dataframe\">\n",
       "  <thead>\n",
       "    <tr style=\"text-align: right;\">\n",
       "      <th></th>\n",
       "      <th>users</th>\n",
       "      <th>orders</th>\n",
       "    </tr>\n",
       "  </thead>\n",
       "  <tbody>\n",
       "    <tr>\n",
       "      <th>0</th>\n",
       "      <td>5114589</td>\n",
       "      <td>1</td>\n",
       "    </tr>\n",
       "    <tr>\n",
       "      <th>1</th>\n",
       "      <td>6958315</td>\n",
       "      <td>1</td>\n",
       "    </tr>\n",
       "    <tr>\n",
       "      <th>2</th>\n",
       "      <td>39475350</td>\n",
       "      <td>1</td>\n",
       "    </tr>\n",
       "    <tr>\n",
       "      <th>3</th>\n",
       "      <td>47206413</td>\n",
       "      <td>1</td>\n",
       "    </tr>\n",
       "    <tr>\n",
       "      <th>4</th>\n",
       "      <td>48147722</td>\n",
       "      <td>1</td>\n",
       "    </tr>\n",
       "  </tbody>\n",
       "</table>\n",
       "</div>"
      ],
      "text/plain": [
       "      users  orders\n",
       "0   5114589       1\n",
       "1   6958315       1\n",
       "2  39475350       1\n",
       "3  47206413       1\n",
       "4  48147722       1"
      ]
     },
     "execution_count": 51,
     "metadata": {},
     "output_type": "execute_result"
    }
   ],
   "source": [
    "#statistical significance of difference in conversion group B:\n",
    "orders_ub = filtered_orders[filtered_orders\n",
    "                            ['group']=='B'].groupby('visitorid', as_index=False).agg({'transactionid' : \n",
    "                            pd.Series.nunique}).rename(columns={'visitorid': 'users', 'transactionid':'orders'})\n",
    "orders_ub.head()"
   ]
  },
  {
   "cell_type": "code",
   "execution_count": 52,
   "metadata": {},
   "outputs": [
    {
     "data": {
      "text/plain": [
       "0    1\n",
       "1    1\n",
       "2    1\n",
       "3    1\n",
       "4    1\n",
       "Name: orders, dtype: int64"
      ]
     },
     "execution_count": 52,
     "metadata": {},
     "output_type": "execute_result"
    }
   ],
   "source": [
    "#sample of group A with the number of orders per user and 0 if no order was placed\n",
    "sample_a = pd.concat([orders_ua['orders'],\n",
    "                      pd.Series(0, index=np.arange(visits[visits['group']=='A']['visits'].sum() \n",
    "                      - len(orders_ua['orders'])), name='orders')],axis=0)\n",
    "sample_a.head()"
   ]
  },
  {
   "cell_type": "code",
   "execution_count": 53,
   "metadata": {},
   "outputs": [
    {
     "data": {
      "text/plain": [
       "0    1\n",
       "1    1\n",
       "2    1\n",
       "3    1\n",
       "4    1\n",
       "Name: orders, dtype: int64"
      ]
     },
     "execution_count": 53,
     "metadata": {},
     "output_type": "execute_result"
    }
   ],
   "source": [
    "#sample of group B with the number of orders per user and 0 if no order was placed\n",
    "sample_b = pd.concat([orders_ub['orders'],\n",
    "                      pd.Series(0, index=np.arange(visits[visits['group']=='B']['visits'].sum()\n",
    "                      - len(orders_ub['orders'])), name='orders')],axis=0)\n",
    "sample_b.head()"
   ]
  },
  {
   "cell_type": "code",
   "execution_count": 54,
   "metadata": {},
   "outputs": [
    {
     "name": "stdout",
     "output_type": "stream",
     "text": [
      "p-value: 0.011\n",
      "We reject the Null Hypothesis (H0) using significance level (alpha) of 0.05\n",
      "The relative loss/gain of group B is 16%\n"
     ]
    }
   ],
   "source": [
    "alpha = 0.05\n",
    "\n",
    "results = stats.mannwhitneyu(sample_a, sample_b)[1]\n",
    "\n",
    "print('p-value: {:.3f}'.format(results))\n",
    "\n",
    "if results < alpha:\n",
    "    print(\"We reject the Null Hypothesis (H0) using significance level (alpha) of 0.05\")\n",
    "else:\n",
    "\n",
    "    print(\"We can't reject the Null Hypothesis (H0) using significance level (alpha) of 0.05\") \n",
    "print(\"The relative loss/gain of group B is {:.0f}%\".format(((sample_b.mean()/sample_a.mean()-1))*100))"
   ]
  },
  {
   "cell_type": "markdown",
   "metadata": {},
   "source": [
    "<span style=\"color:green\">**Notes from the analyst:** </span> \n",
    "\n",
    "   * With 0.05 significance level, the conversion rate of groups A and B is unequal.\n",
    "   * Alpha (0.05) is higher than the p-value, meaning we reject the null hypothesis (H0). \n",
    "   * The relative gain of group B is 16%."
   ]
  },
  {
   "cell_type": "markdown",
   "metadata": {},
   "source": [
    "### Find the statistical significance of the difference in average order size between the groups using the raw data. Make conclusions and conjectures.\n",
    "\n",
    "* Test Null Hypothesis (H0) that group A's average order size is equal to that of group B in the raw data (i.e., including outliers and anomalies).\n",
    "* If rejected, the Alternative Hypothesis (H1) is that average order size of group A is NOT equal to that of group B.\n"
   ]
  },
  {
   "cell_type": "code",
   "execution_count": 55,
   "metadata": {},
   "outputs": [
    {
     "name": "stdout",
     "output_type": "stream",
     "text": [
      "p-value: 0.862\n",
      "We can't reject the Null Hypothesis (H0) using significance level (alpha) of 0.05\n",
      "The relative loss/gain of group B is 27.8%\n"
     ]
    }
   ],
   "source": [
    "alpha = 0.05\n",
    "\n",
    "results = stats.mannwhitneyu(filtered_orders[filtered_orders['group']=='A']\n",
    "                             ['revenue'], filtered_orders[filtered_orders['group']=='B']['revenue'])[1]\n",
    "\n",
    "print('p-value: {0:.3f}'.format(results))\n",
    "\n",
    "if results < alpha:\n",
    "    print(\"We reject the Null Hypothesis (H0) using significance level (alpha) of 0.05\")\n",
    "else:\n",
    "    print(\"We can't reject the Null Hypothesis (H0) using significance level (alpha) of 0.05\") \n",
    "print(\"The relative loss/gain of group B is {0:.1f}%\".format((filtered_orders[filtered_orders['group']=='B']['revenue'].mean()/filtered_orders[filtered_orders['group']=='A']['revenue'].mean()-1)*100))\n",
    "   \n",
    "    "
   ]
  },
  {
   "cell_type": "markdown",
   "metadata": {},
   "source": [
    "<span style=\"color:green\">**Notes from the analyst:** </span> \n",
    "\n",
    "   * With 0.05 significance level, the average order size of groups A and B is equal.\n",
    "   * p-value is higher than the alpha (0.05), meaning we can't reject the null hypothesis\n",
    "   * Average order size of group B is much bigger than group A\n",
    "   "
   ]
  },
  {
   "cell_type": "markdown",
   "metadata": {},
   "source": [
    "### Find the statistical significance of the difference in conversion between the groups using the filtered data. Make conclusions and conjectures.\n",
    "\n",
    "* Null Hypothesis (H0) that group A's conversion rate is equal to that of group B in the filtered data (i.e., excluding outliers and anomalies).\n",
    "* If rejected, the Alternative Hypothesis (H1) is that conversion rate of group A is NOT equal to that of group B."
   ]
  },
  {
   "cell_type": "code",
   "execution_count": 56,
   "metadata": {},
   "outputs": [],
   "source": [
    "#list of users with anomalies (more than 2 orders) in both groups\n",
    "abnormal_u = pd.concat([pd.concat([orders_ua[orders_ua['orders'] > 2]['users'], \n",
    "                      orders_ub[orders_ub['orders'] > 2]['users']], axis = 0), filtered_orders[filtered_orders['revenue'] > 414.275]\n",
    "                        ['visitorid']], axis = 0).drop_duplicates().sort_values()"
   ]
  },
  {
   "cell_type": "code",
   "execution_count": 57,
   "metadata": {},
   "outputs": [
    {
     "name": "stdout",
     "output_type": "stream",
     "text": [
      "p-value: 0.012\n",
      "We reject the Null Hypothesis (H0) using significance level (alpha) of 0.05\n",
      "The relative loss/gain of group B is 18.2%\n"
     ]
    }
   ],
   "source": [
    "alpha = 0.05\n",
    "\n",
    "sample_af = pd.concat([orders_ua[np.logical_not(orders_ua['users'].isin(abnormal_u))]['orders'],\n",
    "                       pd.Series(0, index=np.arange(visits[visits['group']=='A']['visits'].sum()\n",
    "                                                    - len(orders_ua['orders'])),name='orders')],axis=0)\n",
    "\n",
    "sample_bf = pd.concat([orders_ub[np.logical_not(orders_ub['users'].isin(abnormal_u))]['orders'],\n",
    "                       pd.Series(0, index=np.arange(visits[visits['group']=='B']['visits'].sum()\n",
    "                                                    - len(orders_ub['orders'])),name='orders')],axis=0)\n",
    "\n",
    "\n",
    "results = stats.mannwhitneyu(sample_af, sample_bf)[1]\n",
    "\n",
    "print('p-value: {0:.3f}'.format(results))\n",
    "\n",
    "if results < alpha:\n",
    "    print(\"We reject the Null Hypothesis (H0) using significance level (alpha) of 0.05\")\n",
    "else:\n",
    "    print(\"We can't reject the Null Hypothesis (H0) using significance level (alpha) of 0.05\") \n",
    "print(\"The relative loss/gain of group B is {0:.1f}%\".format((sample_bf.mean()/sample_af.mean()-1)*100))"
   ]
  },
  {
   "cell_type": "markdown",
   "metadata": {},
   "source": [
    "<span style=\"color:green\">**Notes from the analyst:** </span> \n",
    "\n",
    "   * With 0.05 significance level, the conversion rate of groups A and B is unequal.\n",
    "   * Alpha (0.05) is higher than the p-value, meaning we reject the null hypothesis\n",
    "   * The relative gain of group B is 18.2% - by removing the anomalies, the p-value is smaller but group B's relative gain grew."
   ]
  },
  {
   "cell_type": "markdown",
   "metadata": {},
   "source": [
    "### Find the statistical significance of the difference in average order size between the groups using the filtered data. Make conclusions and conjectures.\n",
    "\n",
    "* Test Null Hypothesis (H0) that group A's average order size is equal to that of group B in the filtered data (i.e., excluding outliers and anomalies).\n",
    "* If rejected, the Alternative Hypothesis (H1) is that average order size of group A is NOT equal to that of group B."
   ]
  },
  {
   "cell_type": "code",
   "execution_count": 58,
   "metadata": {},
   "outputs": [
    {
     "name": "stdout",
     "output_type": "stream",
     "text": [
      "p-value: 0.680\n",
      "We can't reject the Null Hypothesis (H0) using significance level (alpha) of 0.05\n",
      "The relative loss/gain of group B is -4.7%\n"
     ]
    }
   ],
   "source": [
    "alpha = 0.05\n",
    "\n",
    "results = stats.mannwhitneyu(filtered_orders[np.logical_and(filtered_orders['group']=='A',np.logical_not(orders['visitorid'].isin(abnormal_u)))]['revenue'],filtered_orders[np.logical_and(filtered_orders['group']=='B',np.logical_not(filtered_orders['visitorid'].isin(abnormal_u)))]['revenue'])[1]\n",
    "\n",
    "print('p-value: {:.3f}'.format(results))\n",
    "\n",
    "if results < alpha:\n",
    "    print(\"We reject the Null Hypothesis (H0) using significance level (alpha) of 0.05\")\n",
    "else:\n",
    "    print(\"We can't reject the Null Hypothesis (H0) using significance level (alpha) of 0.05\") \n",
    "print(\"The relative loss/gain of group B is {:.1f}%\".format((filtered_orders[np.logical_and(filtered_orders['group']=='B',np.logical_not(filtered_orders['visitorid'].isin(abnormal_u)))]['revenue'].mean()/filtered_orders[np.logical_and(filtered_orders['group']=='A',np.logical_not(filtered_orders['visitorid'].isin(abnormal_u)))]['revenue'].mean() - 1)*100))\n"
   ]
  },
  {
   "cell_type": "markdown",
   "metadata": {},
   "source": [
    "<span style=\"color:green\">**Notes from the analyst:** </span> \n",
    "\n",
    "* With 0.05 significance level, the average order size of groups A and B is equal.\n",
    "* p-value is higher than the alpha (0.05), meaning we can't reject the null hypothesis\n",
    "* Average size order of group B is smaller on 4.7% than group A's\n"
   ]
  },
  {
   "cell_type": "markdown",
   "metadata": {},
   "source": [
    "### Make a decision based on the test results. \n",
    "    \n",
    "<span style=\"color:green\">**Notes from the analyst:** </span> \n",
    "\n",
    "   * Raw and filtered data show unequal conversion rate between groups\n",
    "   * Group B results are better than group A, and even higher after removing anomalies"
   ]
  },
  {
   "cell_type": "markdown",
   "metadata": {},
   "source": [
    "--- \n",
    "# Summary and final conclusions"
   ]
  },
  {
   "cell_type": "markdown",
   "metadata": {},
   "source": [
    "**This test was based on 3 datasets:**\n",
    "* `Hypotehis`\n",
    "* `Orders`\n",
    "* `Visits`\n",
    "\n",
    "\n",
    "**As sumup, during the preprocessing of the data we:**\n",
    "\n",
    "* Change to lowercase column names \n",
    "* Confirm no duplicates were found on `orders` nor `visits` df\n",
    "* Convert `date` column to datetime datatype\n",
    "* Found 58 users located in both test groups, so we created a new filtered data without those\n",
    "\n",
    "\n",
    "**ICE/RICE:**\n",
    "\n",
    "* Hypothesis with the highest **ICE** priority is hypothesis 8, next are 0 and 7, while the hypotheses with the lowest ICE priority are 5, 3 and 4.\n",
    "* Hypothesis with the highest **RICE** priority is hypothesis 7, next are 2 and 6, while the hypotheses with the lowest RICE priority are 5, 1 and 4.\n",
    "\n",
    "\n",
    "* Comparing both, we discovered:\n",
    "    * Between these 2 parameters we have the Reach component. We can see that H7 Add a subscription form to all the main pages. This will help you compile a mailing list has high Reach value, so we can conclude it will reach all users that will subscribe. This hypothesis also has pretty good impact and confidence values and medium effort.\n",
    "\n",
    "    * H8 and H0 have low Reach values. H8 will have a reach for specific users and times and H0 will reach ~30% of users\n",
    "\n",
    "    * H2 & H6 look for boost conversion rates. H6 has medium reach value, but high in confidence and low on effort.\n",
    "\n",
    "**A/B test Analysis:**\n",
    "\n",
    "* Group A & B cumulative revenue rise constanly during the running of the test. Group B has a peak in revenue by August 18th\n",
    "* Group A & B cumulative average order size are not constant during the test. Group A average is a bit more stable during end of August, while Group B declines slowly after the first peak\n",
    "* The peaks we find them around August in both groups, this can indicate large orders placed by group B and also the presence of some outliers \n",
    "* Conversion rate of group A is higher than B's. After a bit both have a peak again and dropped around the same time, stabilizing them almost paralell but group B keeps higher at the end than A's.\n",
    "* Number of orders:\n",
    "    * The percentiles 95th and 99th for the number of oders per user helps us understand better.\n",
    "    * 95th percentile is 1 order\n",
    "    * 99th percentile is 2 orders\n",
    "    * Meaning, 5% of users placed more than 1 and only 1% placed more than 2 orders\n",
    "* Orders size:\n",
    "   * 95th percentile is 414 USD per order\n",
    "   * 99th percentile is 830 USD per order\n",
    "   * Meaning, no more than 5% of the orders costs more than 414, and only 1% of the orders cost more than 830\n",
    "\n",
    "\n",
    "**Decisions made based on the test results**\n",
    "\n",
    "* Raw and filtered data shown uneven conversion rates between groups\n",
    "* Conversion results for group B were better than group A. After removing anomalies, conversion for group B went even higher\n",
    "\n",
    "We can stop the test and conclude group B as winner of it. "
   ]
  }
 ],
 "metadata": {
  "kernelspec": {
   "display_name": "Python 3 (ipykernel)",
   "language": "python",
   "name": "python3"
  },
  "language_info": {
   "codemirror_mode": {
    "name": "ipython",
    "version": 3
   },
   "file_extension": ".py",
   "mimetype": "text/x-python",
   "name": "python",
   "nbconvert_exporter": "python",
   "pygments_lexer": "ipython3",
   "version": "3.9.5"
  },
  "toc": {
   "base_numbering": 1,
   "nav_menu": {},
   "number_sections": true,
   "sideBar": true,
   "skip_h1_title": true,
   "title_cell": "Table of Contents",
   "title_sidebar": "Contents",
   "toc_cell": false,
   "toc_position": {
    "height": "calc(100% - 180px)",
    "left": "10px",
    "top": "150px",
    "width": "414.444px"
   },
   "toc_section_display": true,
   "toc_window_display": true
  }
 },
 "nbformat": 4,
 "nbformat_minor": 2
}
